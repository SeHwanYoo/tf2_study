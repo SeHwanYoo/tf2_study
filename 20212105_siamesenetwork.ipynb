{
 "cells": [
  {
   "cell_type": "code",
   "execution_count": 1,
   "metadata": {},
   "outputs": [],
   "source": [
    "import random \n",
    "import numpy as np \n",
    "import tensorflow as tf \n",
    "import matplotlib.pyplot as plt "
   ]
  },
  {
   "cell_type": "code",
   "execution_count": 2,
   "metadata": {},
   "outputs": [],
   "source": [
    "N_BATCH = 16\n",
    "N_EPOCHS = 10 \n",
    "N_MARGIN = 1 "
   ]
  },
  {
   "cell_type": "code",
   "execution_count": 6,
   "metadata": {},
   "outputs": [],
   "source": [
    "(train_images, train_labels), (test_images, test_labels) = tf.keras.datasets.mnist.load_data()"
   ]
  },
  {
   "cell_type": "code",
   "execution_count": 10,
   "metadata": {},
   "outputs": [],
   "source": [
    "train_images, val_images = train_images[:30000], train_images[30000:]\n",
    "train_labels, val_labels = train_labels[:30000], train_labels[30000:]"
   ]
  },
  {
   "cell_type": "code",
   "execution_count": 4,
   "metadata": {},
   "outputs": [],
   "source": [
    "def make_pairs(image, label):\n",
    "    \n",
    "    num_classes = max(label) + 1 \n",
    "    digit_idx = [np.where(label == i)[0] for i in range(num_classes)]\n",
    "    \n",
    "    pairs = [] \n",
    "    labels = [] \n",
    "    \n",
    "    for idx in range(len(image)):\n",
    "        \n",
    "        # add maching example \n",
    "        x1 = image[idx]\n",
    "        y1 = label[idx]\n",
    "        \n",
    "        x2 = image[random.choice(digit_idx[y1])]\n",
    "        \n",
    "        pairs += [[x1, x2]]\n",
    "        labels += [1]\n",
    "        \n",
    "        # add non-matching example\n",
    "        y2 = random.randint(0, num_classes-1)\n",
    "        while y2 == y1:\n",
    "            y2 = random.randint(0, num_classes-1)\n",
    "            \n",
    "        x2 = image[random.choice(digit_idx[y2])]\n",
    "        \n",
    "        pairs += [[x1, x2]]\n",
    "        labels += [0]\n",
    "        \n",
    "    return np.array(pairs), np.array(labels).astype('float32')\n",
    "        \n",
    "        "
   ]
  },
  {
   "cell_type": "code",
   "execution_count": 11,
   "metadata": {},
   "outputs": [],
   "source": [
    "pairs_train, labels_train = make_pairs(train_images, train_labels)\n",
    "pairs_val, labels_val = make_pairs(val_images, val_labels)\n",
    "pairs_test, labels_test = make_pairs(test_images, test_labels)"
   ]
  },
  {
   "cell_type": "code",
   "execution_count": null,
   "metadata": {},
   "outputs": [],
   "source": []
  },
  {
   "cell_type": "code",
   "execution_count": null,
   "metadata": {},
   "outputs": [],
   "source": []
  },
  {
   "cell_type": "code",
   "execution_count": null,
   "metadata": {},
   "outputs": [],
   "source": []
  },
  {
   "cell_type": "code",
   "execution_count": null,
   "metadata": {},
   "outputs": [],
   "source": []
  },
  {
   "cell_type": "code",
   "execution_count": null,
   "metadata": {},
   "outputs": [],
   "source": []
  },
  {
   "cell_type": "code",
   "execution_count": null,
   "metadata": {},
   "outputs": [],
   "source": []
  },
  {
   "cell_type": "code",
   "execution_count": null,
   "metadata": {},
   "outputs": [],
   "source": []
  },
  {
   "cell_type": "code",
   "execution_count": 9,
   "metadata": {},
   "outputs": [
    {
     "data": {
      "text/plain": [
       "[array([    1,    21,    34, ..., 59952, 59972, 59987], dtype=int64),\n",
       " array([    3,     6,     8, ..., 59979, 59984, 59994], dtype=int64),\n",
       " array([    5,    16,    25, ..., 59983, 59985, 59991], dtype=int64),\n",
       " array([    7,    10,    12, ..., 59978, 59980, 59996], dtype=int64),\n",
       " array([    2,     9,    20, ..., 59943, 59951, 59975], dtype=int64),\n",
       " array([    0,    11,    35, ..., 59968, 59993, 59997], dtype=int64),\n",
       " array([   13,    18,    32, ..., 59982, 59986, 59998], dtype=int64),\n",
       " array([   15,    29,    38, ..., 59963, 59977, 59988], dtype=int64),\n",
       " array([   17,    31,    41, ..., 59989, 59995, 59999], dtype=int64),\n",
       " array([    4,    19,    22, ..., 59973, 59990, 59992], dtype=int64)]"
      ]
     },
     "execution_count": 9,
     "metadata": {},
     "output_type": "execute_result"
    }
   ],
   "source": [
    "num_classes = max(train_labels) + 1 \n",
    "digit_idx = [np.where(train_labels == i)[0] for i in range(num_classes)]\n",
    "# num_classes\n",
    "digit_idx"
   ]
  }
 ],
 "metadata": {
  "interpreter": {
   "hash": "ddde1e1c6000e1d3034bec6257a8f68bed92c50866ae12a8382b98f1add9b5c2"
  },
  "kernelspec": {
   "display_name": "Python 3.9.5 64-bit",
   "language": "python",
   "name": "python3"
  },
  "language_info": {
   "codemirror_mode": {
    "name": "ipython",
    "version": 3
   },
   "file_extension": ".py",
   "mimetype": "text/x-python",
   "name": "python",
   "nbconvert_exporter": "python",
   "pygments_lexer": "ipython3",
   "version": "3.9.5"
  },
  "orig_nbformat": 4
 },
 "nbformat": 4,
 "nbformat_minor": 2
}
