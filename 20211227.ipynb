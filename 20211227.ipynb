{
 "cells": [
  {
   "cell_type": "code",
   "execution_count": 5,
   "metadata": {},
   "outputs": [],
   "source": [
    "from tensorflow.keras.applications import VGG16\n",
    "from tensorflow.keras.applications.vgg16 import preprocess_input\n",
    "import tensorflow as tf"
   ]
  },
  {
   "cell_type": "code",
   "execution_count": 6,
   "metadata": {},
   "outputs": [],
   "source": [
    "(train_x, train_y), (test_x, test_y) = tf.keras.datasets.mnist.load_data()"
   ]
  },
  {
   "cell_type": "code",
   "execution_count": 7,
   "metadata": {},
   "outputs": [],
   "source": [
    "train_x = train_x / 255. \n",
    "test_x = test_x / 255."
   ]
  },
  {
   "cell_type": "code",
   "execution_count": 8,
   "metadata": {},
   "outputs": [
    {
     "data": {
      "text/plain": [
       "array([5, 0, 4, ..., 5, 6, 8], dtype=uint8)"
      ]
     },
     "execution_count": 8,
     "metadata": {},
     "output_type": "execute_result"
    }
   ],
   "source": [
    "train_y"
   ]
  },
  {
   "cell_type": "code",
   "execution_count": 41,
   "metadata": {},
   "outputs": [],
   "source": [
    "train_ds = tf.data.Dataset.from_tensor_slices((train_x, train_y))\n",
    "train_ds = train_ds.shuffle(1000).batch(32)\n",
    "# train_ds = t\n",
    "\n",
    "test_ds = tf.data.Dataset.from_tensor_slices((test_x, test_y))\n",
    "test_ds = test_ds.batch(32)"
   ]
  },
  {
   "cell_type": "code",
   "execution_count": 42,
   "metadata": {},
   "outputs": [],
   "source": [
    "inputs = tf.keras.Input((28, 28, 1))\n",
    "\n",
    "net = tf.keras.layers.Conv2D(32, (3, 3), padding='SAME')(inputs)\n",
    "net = tf.keras.layers.Activation('relu')(net)\n",
    "net = tf.keras.layers.Conv2D(32, (3, 3), padding='SAME')(inputs)\n",
    "net = tf.keras.layers.Activation('relu')(net)\n",
    "net = tf.keras.layers.MaxPooling2D(pool_size=(2, 2))(net)\n",
    "net = tf.keras.layers.Dropout(0.25)(net) \n",
    "# net = \n",
    "\n",
    "net = tf.keras.layers.Conv2D(64, (3, 3), padding='SAME')(inputs)\n",
    "net = tf.keras.layers.Activation('relu')(net)\n",
    "net = tf.keras.layers.Conv2D(64, (3, 3), padding='SAME')(inputs)\n",
    "net = tf.keras.layers.Activation('relu')(net)\n",
    "net = tf.keras.layers.MaxPooling2D(pool_size=(2, 2))(net)\n",
    "net = tf.keras.layers.Dropout(0.25)(net) \n",
    "\n",
    "net = tf.keras.layers.Flatten()(net) \n",
    "net = tf.keras.layers.Dense(512)(net)\n",
    "net = tf.keras.layers.Activation('relu')(net) \n",
    "net = tf.keras.layers.Dropout(0.5)(net)\n",
    "net = tf.keras.layers.Dense(10)(net)\n",
    "net = tf.keras.layers.Activation('softmax')(net)\n",
    "\n",
    "\n",
    "model = tf.keras.Model(inputs=inputs, outputs=net)\n",
    "\n",
    "# net = tf.keras.layers.Conv2D(32, (3, 3), padding='SAME')(inputs)\n",
    "# net = tf.keras.layers.Activation('relu')(net)\n",
    "# net = tf.keras.layers.Conv2D(32, (3, 3), padding='SAME')(inputs)\n",
    "# net = tf.keras.layers.Activation('relu')(net)\n",
    "# net = tf.keras.layers.MaxPooling2D(pool_size=(2, 2))(net)\n",
    "# net = tf.keras.layers.Dropout(0.25)(net) \n"
   ]
  },
  {
   "cell_type": "code",
   "execution_count": 43,
   "metadata": {},
   "outputs": [],
   "source": [
    "model.compile(optimizer=tf.keras.optimizers.Adam(0.01)\n",
    "            , loss=tf.keras.losses.SparseCategoricalCrossentropy()\n",
    "            , metrics=['accuracy']\n",
    ")"
   ]
  },
  {
   "cell_type": "code",
   "execution_count": 44,
   "metadata": {},
   "outputs": [],
   "source": [
    "loss_object = tf.keras.losses.SparseCategoricalCrossentropy() \n",
    "optimizer=tf.keras.optimizers.Adam(0.01)\n",
    "# hist = model.fit(train_ds, epochs=10)"
   ]
  },
  {
   "cell_type": "code",
   "execution_count": 45,
   "metadata": {},
   "outputs": [],
   "source": [
    "train_loss = tf.keras.metrics.Mean() \n",
    "train_accuracy = tf.keras.metrics.SparseCategoricalAccuracy() \n",
    "\n",
    "test_loss = tf.keras.metrics.Mean() \n",
    "test_accuracy = tf.keras.metrics.SparseCategoricalAccuracy() \n"
   ]
  },
  {
   "cell_type": "code",
   "execution_count": 46,
   "metadata": {},
   "outputs": [],
   "source": [
    "@tf.function \n",
    "def train_step(image, label): \n",
    "    with tf.GradientTape() as tape: \n",
    "        prediction = model(image) \n",
    "        loss = loss_object(label, prediction) \n",
    "    gradients = tape.gradient(loss, model.trainable_variables)\n",
    "    optimizer.apply_gradients(zip(gradients, model.trainable_variables))\n",
    "\n",
    "    train_loss(loss)\n",
    "    train_accuracy(label, prediction) "
   ]
  },
  {
   "cell_type": "code",
   "execution_count": 47,
   "metadata": {},
   "outputs": [],
   "source": [
    "@tf.function \n",
    "def test_step(image, label): \n",
    "    # with tf.GradientTape() as tape: \n",
    "    prediction = model(image) \n",
    "    loss = loss_object(label, prediction) \n",
    "    # gradients = tape.gradient(loss, model.trainable_variables)\n",
    "    # optimizer.apply_gradients(zip(gradients, model.trainable_variables))\n",
    "\n",
    "    test_loss(loss)\n",
    "    test_accuracy(label, prediction) "
   ]
  },
  {
   "cell_type": "code",
   "execution_count": 49,
   "metadata": {},
   "outputs": [
    {
     "name": "stdout",
     "output_type": "stream",
     "text": [
      "Epoch : 1, loss : 0.07042494416236877, accuracy : 98.07889556884766, test_loss : 0.1201811134815216, test_accuracy : 97.32166290283203\n",
      "Epoch : 2, loss : 0.06623753905296326, accuracy : 98.21503448486328, test_loss : 0.13078251481056213, test_accuracy : 97.34713745117188\n",
      "Epoch : 3, loss : 0.06342901289463043, accuracy : 98.32191467285156, test_loss : 0.13587358593940735, test_accuracy : 97.35250091552734\n",
      "Epoch : 4, loss : 0.06056232750415802, accuracy : 98.42269134521484, test_loss : 0.14349465072155, test_accuracy : 97.39778137207031\n",
      "Epoch : 5, loss : 0.0586961954832077, accuracy : 98.50527954101562, test_loss : 0.15035317838191986, test_accuracy : 97.39299774169922\n",
      "Epoch : 6, loss : 0.05657706782221794, accuracy : 98.5822525024414, test_loss : 0.16388638317584991, test_accuracy : 97.34545135498047\n",
      "Epoch : 7, loss : 0.05528433993458748, accuracy : 98.64360809326172, test_loss : 0.1882493495941162, test_accuracy : 97.34166717529297\n",
      "Epoch : 8, loss : 0.054372936487197876, accuracy : 98.70133209228516, test_loss : 0.19751809537410736, test_accuracy : 97.36231231689453\n",
      "Epoch : 9, loss : 0.053449105471372604, accuracy : 98.75252532958984, test_loss : 0.2153974026441574, test_accuracy : 97.37642669677734\n",
      "Epoch : 10, loss : 0.053025759756565094, accuracy : 98.79834747314453, test_loss : 0.22931765019893646, test_accuracy : 97.37933349609375\n",
      "Epoch : 11, loss : 0.05242176726460457, accuracy : 98.84296417236328, test_loss : 0.24368003010749817, test_accuracy : 97.40125274658203\n",
      "Epoch : 12, loss : 0.05173828452825546, accuracy : 98.886962890625, test_loss : 0.25174450874328613, test_accuracy : 97.43058776855469\n",
      "Epoch : 13, loss : 0.05118314549326897, accuracy : 98.92516326904297, test_loss : 0.2719012498855591, test_accuracy : 97.41444396972656\n",
      "Epoch : 14, loss : 0.05065196007490158, accuracy : 98.96031951904297, test_loss : 0.2999155819416046, test_accuracy : 97.41105651855469\n",
      "Epoch : 15, loss : 0.050382524728775024, accuracy : 98.99263000488281, test_loss : 0.3123877942562103, test_accuracy : 97.43299865722656\n",
      "Epoch : 16, loss : 0.05011054128408432, accuracy : 99.02356719970703, test_loss : 0.32538139820098877, test_accuracy : 97.44428253173828\n",
      "Epoch : 17, loss : 0.04996718466281891, accuracy : 99.05148315429688, test_loss : 0.3427494466304779, test_accuracy : 97.45681762695312\n",
      "Epoch : 18, loss : 0.04998382180929184, accuracy : 99.07730865478516, test_loss : 0.35731256008148193, test_accuracy : 97.47738647460938\n",
      "Epoch : 19, loss : 0.05010337010025978, accuracy : 99.0994873046875, test_loss : 0.3719026744365692, test_accuracy : 97.49250030517578\n",
      "Epoch : 20, loss : 0.049813952296972275, accuracy : 99.1240234375, test_loss : 0.38392147421836853, test_accuracy : 97.50559997558594\n",
      "Epoch : 21, loss : 0.04954677075147629, accuracy : 99.14604187011719, test_loss : 0.39336106181144714, test_accuracy : 97.52653503417969\n",
      "Epoch : 22, loss : 0.04941152036190033, accuracy : 99.16729736328125, test_loss : 0.4098798334598541, test_accuracy : 97.54444122314453\n",
      "Epoch : 23, loss : 0.04955591261386871, accuracy : 99.18620300292969, test_loss : 0.42077338695526123, test_accuracy : 97.57286071777344\n",
      "Epoch : 24, loss : 0.04942720755934715, accuracy : 99.20478820800781, test_loss : 0.4359590709209442, test_accuracy : 97.59517669677734\n",
      "Epoch : 25, loss : 0.04943486303091049, accuracy : 99.22203826904297, test_loss : 0.44789382815361023, test_accuracy : 97.607666015625\n",
      "Epoch : 26, loss : 0.049014996737241745, accuracy : 99.24037170410156, test_loss : 0.4699326455593109, test_accuracy : 97.6199951171875\n",
      "Epoch : 27, loss : 0.049446042627096176, accuracy : 99.25456237792969, test_loss : 0.48272645473480225, test_accuracy : 97.63749694824219\n",
      "Epoch : 28, loss : 0.04922278970479965, accuracy : 99.27073669433594, test_loss : 0.4983827471733093, test_accuracy : 97.6439437866211\n",
      "Epoch : 29, loss : 0.049013327807188034, accuracy : 99.28597259521484, test_loss : 0.5168231129646301, test_accuracy : 97.64823150634766\n",
      "Epoch : 30, loss : 0.048956360667943954, accuracy : 99.30026245117188, test_loss : 0.5391668677330017, test_accuracy : 97.65571594238281\n",
      "Epoch : 31, loss : 0.048917267471551895, accuracy : 99.3127670288086, test_loss : 0.5625424385070801, test_accuracy : 97.66888427734375\n",
      "Epoch : 32, loss : 0.048661552369594574, accuracy : 99.32621002197266, test_loss : 0.5868331789970398, test_accuracy : 97.67162322998047\n",
      "Epoch : 33, loss : 0.04897519573569298, accuracy : 99.33795928955078, test_loss : 0.6108854413032532, test_accuracy : 97.68973541259766\n",
      "Epoch : 34, loss : 0.04905387759208679, accuracy : 99.3499984741211, test_loss : 0.6309601664543152, test_accuracy : 97.70127868652344\n",
      "Epoch : 35, loss : 0.04884147644042969, accuracy : 99.362060546875, test_loss : 0.6534002423286438, test_accuracy : 97.70075225830078\n",
      "Epoch : 36, loss : 0.04888634383678436, accuracy : 99.37361907958984, test_loss : 0.6700538992881775, test_accuracy : 97.70975494384766\n",
      "Epoch : 37, loss : 0.049360182136297226, accuracy : 99.3840560913086, test_loss : 0.6896694302558899, test_accuracy : 97.71809387207031\n",
      "Epoch : 38, loss : 0.0495220348238945, accuracy : 99.39378356933594, test_loss : 0.7128141522407532, test_accuracy : 97.7230224609375\n",
      "Epoch : 39, loss : 0.04970622807741165, accuracy : 99.40333557128906, test_loss : 0.7307045459747314, test_accuracy : 97.73454284667969\n",
      "Epoch : 40, loss : 0.04980091005563736, accuracy : 99.41290283203125, test_loss : 0.7567970156669617, test_accuracy : 97.7411117553711\n",
      "Epoch : 41, loss : 0.049676619470119476, accuracy : 99.4224624633789, test_loss : 0.7764624953269958, test_accuracy : 97.75326538085938\n",
      "Epoch : 42, loss : 0.04994037747383118, accuracy : 99.43070220947266, test_loss : 0.7959243059158325, test_accuracy : 97.7672348022461\n",
      "Epoch : 43, loss : 0.050221312791109085, accuracy : 99.43925476074219, test_loss : 0.8114300966262817, test_accuracy : 97.77812194824219\n",
      "Epoch : 44, loss : 0.05016320198774338, accuracy : 99.44790649414062, test_loss : 0.8313122987747192, test_accuracy : 97.7830581665039\n",
      "Epoch : 45, loss : 0.050470732152462006, accuracy : 99.45541381835938, test_loss : 0.8564313054084778, test_accuracy : 97.79180145263672\n",
      "Epoch : 46, loss : 0.050581544637680054, accuracy : 99.46322631835938, test_loss : 0.8785390853881836, test_accuracy : 97.80176544189453\n",
      "Epoch : 47, loss : 0.050886351615190506, accuracy : 99.47064208984375, test_loss : 0.9005972743034363, test_accuracy : 97.80096435546875\n",
      "Epoch : 48, loss : 0.051002223044633865, accuracy : 99.47808074951172, test_loss : 0.9183030724525452, test_accuracy : 97.81018829345703\n",
      "Epoch : 49, loss : 0.05111535266041756, accuracy : 99.48526000976562, test_loss : 0.9342111945152283, test_accuracy : 97.8170394897461\n",
      "Epoch : 50, loss : 0.05144767835736275, accuracy : 99.49190521240234, test_loss : 0.9534541368484497, test_accuracy : 97.82691192626953\n",
      "Epoch : 51, loss : 0.05167318880558014, accuracy : 99.49858093261719, test_loss : 0.9760511517524719, test_accuracy : 97.8341064453125\n",
      "Epoch : 52, loss : 0.05164620652794838, accuracy : 99.50508117675781, test_loss : 0.9972196817398071, test_accuracy : 97.8394775390625\n",
      "Epoch : 53, loss : 0.051513832062482834, accuracy : 99.51202392578125, test_loss : 1.026737093925476, test_accuracy : 97.84345245361328\n",
      "Epoch : 54, loss : 0.05141589790582657, accuracy : 99.51847076416016, test_loss : 1.051207423210144, test_accuracy : 97.85050964355469\n",
      "Epoch : 55, loss : 0.05122091621160507, accuracy : 99.52507019042969, test_loss : 1.0737111568450928, test_accuracy : 97.85800170898438\n",
      "Epoch : 56, loss : 0.05111917853355408, accuracy : 99.53121185302734, test_loss : 1.0956666469573975, test_accuracy : 97.86262512207031\n",
      "Epoch : 57, loss : 0.05092768371105194, accuracy : 99.5372314453125, test_loss : 1.1150357723236084, test_accuracy : 97.86983489990234\n",
      "Epoch : 58, loss : 0.05129417032003403, accuracy : 99.54230499267578, test_loss : 1.1442539691925049, test_accuracy : 97.87238311767578\n",
      "Epoch : 59, loss : 0.051392778754234314, accuracy : 99.5475845336914, test_loss : 1.1641584634780884, test_accuracy : 97.87765502929688\n",
      "Epoch : 60, loss : 0.05118052288889885, accuracy : 99.55333709716797, test_loss : 1.1848950386047363, test_accuracy : 97.88277435302734\n",
      "Epoch : 61, loss : 0.05115244537591934, accuracy : 99.55843353271484, test_loss : 1.2202622890472412, test_accuracy : 97.88060760498047\n",
      "Epoch : 62, loss : 0.051060665398836136, accuracy : 99.56358337402344, test_loss : 1.250349521636963, test_accuracy : 97.88597106933594\n",
      "Epoch : 63, loss : 0.051381804049015045, accuracy : 99.56848907470703, test_loss : 1.2820357084274292, test_accuracy : 97.88838195800781\n",
      "Epoch : 64, loss : 0.051641277968883514, accuracy : 99.57308197021484, test_loss : 1.3072227239608765, test_accuracy : 97.89521789550781\n",
      "Epoch : 65, loss : 0.05161858722567558, accuracy : 99.57789611816406, test_loss : 1.3318089246749878, test_accuracy : 97.89957427978516\n",
      "Epoch : 66, loss : 0.051722217351198196, accuracy : 99.58220672607422, test_loss : 1.360802412033081, test_accuracy : 97.9036636352539\n",
      "Epoch : 67, loss : 0.05160664767026901, accuracy : 99.58683776855469, test_loss : 1.3885976076126099, test_accuracy : 97.90833282470703\n",
      "Epoch : 68, loss : 0.051753122359514236, accuracy : 99.59109497070312, test_loss : 1.4123181104660034, test_accuracy : 97.91370391845703\n",
      "Epoch : 69, loss : 0.05193176865577698, accuracy : 99.59500885009766, test_loss : 1.444854974746704, test_accuracy : 97.9139175415039\n",
      "Epoch : 70, loss : 0.05157925933599472, accuracy : 99.59944152832031, test_loss : 1.4650408029556274, test_accuracy : 97.9173355102539\n",
      "Epoch : 71, loss : 0.05176612734794617, accuracy : 99.60356140136719, test_loss : 1.496090292930603, test_accuracy : 97.91907501220703\n",
      "Epoch : 72, loss : 0.05172829329967499, accuracy : 99.60767364501953, test_loss : 1.5212475061416626, test_accuracy : 97.92454528808594\n",
      "Epoch : 73, loss : 0.05161227658390999, accuracy : 99.61160278320312, test_loss : 1.5436737537384033, test_accuracy : 97.92884826660156\n",
      "Epoch : 74, loss : 0.0514364168047905, accuracy : 99.61564636230469, test_loss : 1.5653026103973389, test_accuracy : 97.93417358398438\n",
      "Epoch : 75, loss : 0.05148990824818611, accuracy : 99.61925506591797, test_loss : 1.5901141166687012, test_accuracy : 97.93775177001953\n",
      "Epoch : 76, loss : 0.051766812801361084, accuracy : 99.62252807617188, test_loss : 1.617472529411316, test_accuracy : 97.94160461425781\n",
      "Epoch : 77, loss : 0.05183814465999603, accuracy : 99.6259536743164, test_loss : 1.6417601108551025, test_accuracy : 97.94438934326172\n",
      "Epoch : 78, loss : 0.051917705684900284, accuracy : 99.62950897216797, test_loss : 1.6637071371078491, test_accuracy : 97.94819641113281\n",
      "Epoch : 79, loss : 0.051977161318063736, accuracy : 99.6329574584961, test_loss : 1.686373233795166, test_accuracy : 97.95226287841797\n",
      "Epoch : 80, loss : 0.051744576543569565, accuracy : 99.63656616210938, test_loss : 1.7200138568878174, test_accuracy : 97.95024108886719\n",
      "Epoch : 81, loss : 0.051788080483675, accuracy : 99.63976287841797, test_loss : 1.749470591545105, test_accuracy : 97.95267486572266\n",
      "Epoch : 82, loss : 0.05170468986034393, accuracy : 99.6431884765625, test_loss : 1.7720105648040771, test_accuracy : 97.95448303222656\n",
      "Epoch : 83, loss : 0.05169639363884926, accuracy : 99.6463623046875, test_loss : 1.7991098165512085, test_accuracy : 97.95658874511719\n",
      "Epoch : 84, loss : 0.05173349753022194, accuracy : 99.64945983886719, test_loss : 1.820560336112976, test_accuracy : 97.96100616455078\n",
      "Epoch : 85, loss : 0.051549963653087616, accuracy : 99.652587890625, test_loss : 1.8491135835647583, test_accuracy : 97.96644592285156\n",
      "Epoch : 86, loss : 0.051604870706796646, accuracy : 99.65550994873047, test_loss : 1.877739667892456, test_accuracy : 97.97032928466797\n",
      "Epoch : 87, loss : 0.051269154995679855, accuracy : 99.65872192382812, test_loss : 1.906823754310608, test_accuracy : 97.97543334960938\n",
      "Epoch : 88, loss : 0.05139175057411194, accuracy : 99.66155242919922, test_loss : 1.9359326362609863, test_accuracy : 97.97827911376953\n",
      "Epoch : 89, loss : 0.05140064284205437, accuracy : 99.66437530517578, test_loss : 1.9641491174697876, test_accuracy : 97.98085021972656\n",
      "Epoch : 90, loss : 0.05121659114956856, accuracy : 99.6673583984375, test_loss : 1.9920610189437866, test_accuracy : 97.98326110839844\n",
      "Epoch : 91, loss : 0.051422230899333954, accuracy : 99.66988372802734, test_loss : 2.021322011947632, test_accuracy : 97.98448181152344\n",
      "Epoch : 92, loss : 0.05155941843986511, accuracy : 99.6725845336914, test_loss : 2.05665922164917, test_accuracy : 97.9866943359375\n",
      "Epoch : 93, loss : 0.05154023692011833, accuracy : 99.67527770996094, test_loss : 2.0896379947662354, test_accuracy : 97.98918151855469\n",
      "Epoch : 94, loss : 0.051712632179260254, accuracy : 99.67788696289062, test_loss : 2.1229608058929443, test_accuracy : 97.9919204711914\n",
      "Epoch : 95, loss : 0.05189039930701256, accuracy : 99.68023681640625, test_loss : 2.149998188018799, test_accuracy : 97.99510192871094\n",
      "Epoch : 96, loss : 0.051748305559158325, accuracy : 99.68292999267578, test_loss : 2.177433490753174, test_accuracy : 97.99822235107422\n",
      "Epoch : 97, loss : 0.05187371000647545, accuracy : 99.68535614013672, test_loss : 2.210468292236328, test_accuracy : 98.00019836425781\n",
      "Epoch : 98, loss : 0.051765695214271545, accuracy : 99.68787384033203, test_loss : 2.2341418266296387, test_accuracy : 98.00213623046875\n",
      "Epoch : 99, loss : 0.051885806024074554, accuracy : 99.690185546875, test_loss : 2.262977123260498, test_accuracy : 98.00547790527344\n",
      "Epoch : 100, loss : 0.052020736038684845, accuracy : 99.69235229492188, test_loss : 2.293776273727417, test_accuracy : 98.00618743896484\n"
     ]
    }
   ],
   "source": [
    "for epoch in range(100):\n",
    "    \n",
    "    for image, label in train_ds: \n",
    "        train_step(image, label) \n",
    "        \n",
    "    for image, label in test_ds: \n",
    "        test_step(image, label) \n",
    "\n",
    "\n",
    "    temp = \"Epoch : {}, loss : {}, accuracy : {}, test_loss : {}, test_accuracy : {}\"\n",
    "\n",
    "    print(temp.format(epoch + 1\n",
    "        , train_loss.result() \n",
    "        , train_accuracy.result() * 100 \n",
    "        , test_loss.result() \n",
    "        , test_accuracy.result() * 100)\n",
    "    )"
   ]
  },
  {
   "cell_type": "code",
   "execution_count": null,
   "metadata": {},
   "outputs": [],
   "source": []
  }
 ],
 "metadata": {
  "interpreter": {
   "hash": "2ad7f8df95050390ccef3c53b91cc5366ee05cbbc975f965dd0a4e5b2556ae66"
  },
  "kernelspec": {
   "display_name": "Python 3.9.6 64-bit",
   "language": "python",
   "name": "python3"
  },
  "language_info": {
   "codemirror_mode": {
    "name": "ipython",
    "version": 3
   },
   "file_extension": ".py",
   "mimetype": "text/x-python",
   "name": "python",
   "nbconvert_exporter": "python",
   "pygments_lexer": "ipython3",
   "version": "3.9.6"
  },
  "orig_nbformat": 4
 },
 "nbformat": 4,
 "nbformat_minor": 2
}
