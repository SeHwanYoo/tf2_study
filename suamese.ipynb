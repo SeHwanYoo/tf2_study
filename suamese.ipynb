{
 "cells": [
  {
   "cell_type": "code",
   "execution_count": 7,
   "metadata": {},
   "outputs": [],
   "source": [
    "import tensorflow as tf \n",
    "import random \n",
    "import numpy as np"
   ]
  },
  {
   "cell_type": "code",
   "execution_count": 2,
   "metadata": {},
   "outputs": [],
   "source": [
    "(train_images, train_labels), (test_images, test_labels) = tf.keras.datasets.mnist.load_data()"
   ]
  },
  {
   "cell_type": "code",
   "execution_count": 4,
   "metadata": {},
   "outputs": [],
   "source": [
    "# train_images.shape\n",
    "train_images = train_images / 255. \n",
    "test_images = test_images / 255."
   ]
  },
  {
   "cell_type": "code",
   "execution_count": 19,
   "metadata": {},
   "outputs": [
    {
     "data": {
      "text/plain": [
       "array([    3,     6,     8, ..., 59979, 59984, 59994], dtype=int64)"
      ]
     },
     "execution_count": 19,
     "metadata": {},
     "output_type": "execute_result"
    }
   ],
   "source": [
    "np.where(train_labels == 1)[0]"
   ]
  },
  {
   "cell_type": "code",
   "execution_count": 22,
   "metadata": {},
   "outputs": [],
   "source": [
    "def making_pairs(images, labels): \n",
    "    pairs = [] \n",
    "    labels = [] \n",
    "    \n",
    "    label_idx = [np.where(labels == i)[0] for i in range(10)]\n",
    "    label_cnt = min([len(label_idx[d]) for d in range(10)]) - 1\n",
    "    # n = min([len(idx[d]) for d in range(10)]) - 1\n",
    "\n",
    "    # print(n)\n",
    "    \n",
    "    for i in range(10): \n",
    "        \n",
    "        for j in range(label_cnt): \n",
    "            z1, z2 = label_idx[i][j], label_idx[i][j+1]\n",
    "            pairs += [images[z1], images[z2]]\n",
    "            inc = random.randrange(1, 10) \n",
    "            dn = (i + inc)  % 10 \n",
    "            z1, z2 = label_idx[i][j], label_idx[dn][j]\n",
    "            pairs += [images[z1], images[z2]]\n",
    "            labels += [1, 0]\n",
    "            \n",
    "    return np.array(pairs), np.array(labels).astype('float32')\n",
    "    \n",
    "    \n",
    "tr_pairs, tr_y = making_pairs(train_images, train_labels)\n",
    "ts_pairs, ts_y = making_pairs(test_images, test_labels)\n"
   ]
  },
  {
   "cell_type": "code",
   "execution_count": 24,
   "metadata": {},
   "outputs": [
    {
     "data": {
      "text/plain": [
       "array([], dtype=float64)"
      ]
     },
     "execution_count": 24,
     "metadata": {},
     "output_type": "execute_result"
    }
   ],
   "source": [
    "tr_pairs"
   ]
  },
  {
   "cell_type": "code",
   "execution_count": null,
   "metadata": {},
   "outputs": [],
   "source": [
    "\n"
   ]
  }
 ],
 "metadata": {
  "interpreter": {
   "hash": "ddde1e1c6000e1d3034bec6257a8f68bed92c50866ae12a8382b98f1add9b5c2"
  },
  "kernelspec": {
   "display_name": "Python 3.9.5 64-bit",
   "language": "python",
   "name": "python3"
  },
  "language_info": {
   "codemirror_mode": {
    "name": "ipython",
    "version": 3
   },
   "file_extension": ".py",
   "mimetype": "text/x-python",
   "name": "python",
   "nbconvert_exporter": "python",
   "pygments_lexer": "ipython3",
   "version": "3.9.5"
  },
  "orig_nbformat": 4
 },
 "nbformat": 4,
 "nbformat_minor": 2
}
