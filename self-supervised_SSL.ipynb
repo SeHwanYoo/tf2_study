{
 "cells": [
  {
   "cell_type": "code",
   "execution_count": 2,
   "source": [
    "# !pip install tensorflow-addons\n",
    "!pip install tensorflow"
   ],
   "outputs": [
    {
     "output_type": "stream",
     "name": "stdout",
     "text": [
      "Requirement already satisfied: tensorflow in /opt/anaconda3/lib/python3.8/site-packages (2.6.0)\n",
      "Requirement already satisfied: absl-py~=0.10 in /opt/anaconda3/lib/python3.8/site-packages (from tensorflow) (0.13.0)\n",
      "Requirement already satisfied: protobuf>=3.9.2 in /opt/anaconda3/lib/python3.8/site-packages (from tensorflow) (3.17.3)\n",
      "Requirement already satisfied: clang~=5.0 in /opt/anaconda3/lib/python3.8/site-packages (from tensorflow) (5.0)\n",
      "Requirement already satisfied: six~=1.15.0 in /opt/anaconda3/lib/python3.8/site-packages (from tensorflow) (1.15.0)\n",
      "Requirement already satisfied: tensorboard~=2.6 in /opt/anaconda3/lib/python3.8/site-packages (from tensorflow) (2.6.0)\n",
      "Requirement already satisfied: wheel~=0.35 in /opt/anaconda3/lib/python3.8/site-packages (from tensorflow) (0.36.2)\n",
      "Requirement already satisfied: termcolor~=1.1.0 in /opt/anaconda3/lib/python3.8/site-packages (from tensorflow) (1.1.0)\n",
      "Requirement already satisfied: wrapt~=1.12.1 in /opt/anaconda3/lib/python3.8/site-packages (from tensorflow) (1.12.1)\n",
      "Requirement already satisfied: opt-einsum~=3.3.0 in /opt/anaconda3/lib/python3.8/site-packages (from tensorflow) (3.3.0)\n",
      "Requirement already satisfied: astunparse~=1.6.3 in /opt/anaconda3/lib/python3.8/site-packages (from tensorflow) (1.6.3)\n",
      "Requirement already satisfied: keras-preprocessing~=1.1.2 in /opt/anaconda3/lib/python3.8/site-packages (from tensorflow) (1.1.2)\n",
      "Requirement already satisfied: tensorflow-estimator~=2.6 in /opt/anaconda3/lib/python3.8/site-packages (from tensorflow) (2.6.0)\n",
      "Requirement already satisfied: gast==0.4.0 in /opt/anaconda3/lib/python3.8/site-packages (from tensorflow) (0.4.0)\n",
      "Requirement already satisfied: google-pasta~=0.2 in /opt/anaconda3/lib/python3.8/site-packages (from tensorflow) (0.2.0)\n",
      "Requirement already satisfied: numpy~=1.19.2 in /opt/anaconda3/lib/python3.8/site-packages (from tensorflow) (1.19.5)\n",
      "Requirement already satisfied: typing-extensions~=3.7.4 in /opt/anaconda3/lib/python3.8/site-packages (from tensorflow) (3.7.4.3)\n",
      "Requirement already satisfied: h5py~=3.1.0 in /opt/anaconda3/lib/python3.8/site-packages (from tensorflow) (3.1.0)\n",
      "Requirement already satisfied: flatbuffers~=1.12.0 in /opt/anaconda3/lib/python3.8/site-packages (from tensorflow) (1.12)\n",
      "Requirement already satisfied: keras~=2.6 in /opt/anaconda3/lib/python3.8/site-packages (from tensorflow) (2.6.0)\n",
      "Requirement already satisfied: grpcio<2.0,>=1.37.0 in /opt/anaconda3/lib/python3.8/site-packages (from tensorflow) (1.39.0)\n",
      "Requirement already satisfied: tensorboard-data-server<0.7.0,>=0.6.0 in /opt/anaconda3/lib/python3.8/site-packages (from tensorboard~=2.6->tensorflow) (0.6.1)\n",
      "Requirement already satisfied: tensorboard-plugin-wit>=1.6.0 in /opt/anaconda3/lib/python3.8/site-packages (from tensorboard~=2.6->tensorflow) (1.8.0)\n",
      "Requirement already satisfied: markdown>=2.6.8 in /opt/anaconda3/lib/python3.8/site-packages (from tensorboard~=2.6->tensorflow) (3.3.4)\n",
      "Requirement already satisfied: requests<3,>=2.21.0 in /opt/anaconda3/lib/python3.8/site-packages (from tensorboard~=2.6->tensorflow) (2.25.1)\n",
      "Requirement already satisfied: setuptools>=41.0.0 in /opt/anaconda3/lib/python3.8/site-packages (from tensorboard~=2.6->tensorflow) (52.0.0.post20210125)\n",
      "Requirement already satisfied: google-auth-oauthlib<0.5,>=0.4.1 in /opt/anaconda3/lib/python3.8/site-packages (from tensorboard~=2.6->tensorflow) (0.4.6)\n",
      "Requirement already satisfied: google-auth<2,>=1.6.3 in /opt/anaconda3/lib/python3.8/site-packages (from tensorboard~=2.6->tensorflow) (1.35.0)\n",
      "Requirement already satisfied: werkzeug>=0.11.15 in /opt/anaconda3/lib/python3.8/site-packages (from tensorboard~=2.6->tensorflow) (1.0.1)\n",
      "Requirement already satisfied: pyasn1-modules>=0.2.1 in /opt/anaconda3/lib/python3.8/site-packages (from google-auth<2,>=1.6.3->tensorboard~=2.6->tensorflow) (0.2.8)\n",
      "Requirement already satisfied: rsa<5,>=3.1.4 in /opt/anaconda3/lib/python3.8/site-packages (from google-auth<2,>=1.6.3->tensorboard~=2.6->tensorflow) (4.7.2)\n",
      "Requirement already satisfied: cachetools<5.0,>=2.0.0 in /opt/anaconda3/lib/python3.8/site-packages (from google-auth<2,>=1.6.3->tensorboard~=2.6->tensorflow) (4.2.2)\n",
      "Requirement already satisfied: requests-oauthlib>=0.7.0 in /opt/anaconda3/lib/python3.8/site-packages (from google-auth-oauthlib<0.5,>=0.4.1->tensorboard~=2.6->tensorflow) (1.3.0)\n",
      "Requirement already satisfied: pyasn1<0.5.0,>=0.4.6 in /opt/anaconda3/lib/python3.8/site-packages (from pyasn1-modules>=0.2.1->google-auth<2,>=1.6.3->tensorboard~=2.6->tensorflow) (0.4.8)\n",
      "Requirement already satisfied: urllib3<1.27,>=1.21.1 in /opt/anaconda3/lib/python3.8/site-packages (from requests<3,>=2.21.0->tensorboard~=2.6->tensorflow) (1.26.4)\n",
      "Requirement already satisfied: idna<3,>=2.5 in /opt/anaconda3/lib/python3.8/site-packages (from requests<3,>=2.21.0->tensorboard~=2.6->tensorflow) (2.10)\n",
      "Requirement already satisfied: certifi>=2017.4.17 in /opt/anaconda3/lib/python3.8/site-packages (from requests<3,>=2.21.0->tensorboard~=2.6->tensorflow) (2020.12.5)\n",
      "Requirement already satisfied: chardet<5,>=3.0.2 in /opt/anaconda3/lib/python3.8/site-packages (from requests<3,>=2.21.0->tensorboard~=2.6->tensorflow) (4.0.0)\n",
      "Requirement already satisfied: oauthlib>=3.0.0 in /opt/anaconda3/lib/python3.8/site-packages (from requests-oauthlib>=0.7.0->google-auth-oauthlib<0.5,>=0.4.1->tensorboard~=2.6->tensorflow) (3.1.1)\n"
     ]
    }
   ],
   "metadata": {}
  },
  {
   "cell_type": "code",
   "execution_count": 31,
   "source": [
    "import os \n",
    "import numpy as np\n",
    "import tensorflow as tf \n",
    "from tensorflow import keras\n",
    "import tensorflow_addons as tfa \n",
    "import matplotlib.pyplot as plt"
   ],
   "outputs": [],
   "metadata": {}
  },
  {
   "cell_type": "code",
   "execution_count": 6,
   "source": [
    "(train_images, train_labels), (test_images, test_labels) = tf.keras.datasets.cifar10.load_data()"
   ],
   "outputs": [
    {
     "output_type": "stream",
     "name": "stdout",
     "text": [
      "Downloading data from https://www.cs.toronto.edu/~kriz/cifar-10-python.tar.gz\n",
      "170500096/170498071 [==============================] - 135s 1us/step\n",
      "170508288/170498071 [==============================] - 135s 1us/step\n"
     ]
    }
   ],
   "metadata": {}
  },
  {
   "cell_type": "code",
   "execution_count": 7,
   "source": [
    "train_images = train_images / 255.0\n",
    "test_images = test_images / 255.0"
   ],
   "outputs": [],
   "metadata": {}
  },
  {
   "cell_type": "code",
   "execution_count": 8,
   "source": [
    "N_BATCH = 512 \n",
    "\n",
    "RES = 32"
   ],
   "outputs": [],
   "metadata": {}
  },
  {
   "cell_type": "code",
   "execution_count": 17,
   "source": [
    "class Augmentation(tf.keras.layers.Layer): \n",
    "    def __init__(self):\n",
    "        super(Augmentation, self).__init__()\n",
    "        \n",
    "    @tf.function\n",
    "    def random_execute(self, prob: float) -> bool:\n",
    "        return tf.random.uniform([], 0, 1) < prob\n",
    "   "
   ],
   "outputs": [],
   "metadata": {}
  },
  {
   "cell_type": "code",
   "execution_count": 33,
   "source": [
    "class RandomToGrayscale(Augmentation):\n",
    "    \n",
    "    @tf.function\n",
    "    def call(self, x : tf.Tensor) -> tf.Tensor:\n",
    "        if self.random_execute(0.2):\n",
    "            x = tf.image.rgb_to_grayscale(x)\n",
    "            x = tf.tile(x, [1, 1, 3])\n",
    "        return x\n",
    "    "
   ],
   "outputs": [],
   "metadata": {}
  },
  {
   "cell_type": "code",
   "execution_count": 34,
   "source": [
    "class RandomColorJitter(Augmentation):\n",
    "    @tf.function\n",
    "    def call(self, x : tf.Tensor) -> tf.Tensor: \n",
    "        if self.random_execute(0.8):\n",
    "            x = tf.image.random_brightness(x, 0.8)\n",
    "            x = tf.image.random_contrast(x, 0.4, 1.6)\n",
    "            x = tf.image.random_saturation(x, 0.4, 1.6)\n",
    "            x = tf.image.random_hue(x, 0.2)\n",
    "        return x"
   ],
   "outputs": [],
   "metadata": {}
  },
  {
   "cell_type": "code",
   "execution_count": 35,
   "source": [
    "class RandomFlip(Augmentation): \n",
    "    @tf.function\n",
    "    def call(self, x: tf.Tensor) -> tf.Tensor: \n",
    "        if self.random_execute(0.5): \n",
    "            x = tf.image.random_flip_left_right(x)\n",
    "        return x"
   ],
   "outputs": [],
   "metadata": {}
  },
  {
   "cell_type": "code",
   "execution_count": 36,
   "source": [
    "class RandomResizeCrop(Augmentation):\n",
    "    \n",
    "    def __init__(self, image_size): \n",
    "        super(Augmentation, self).__init__()\n",
    "        self.image_size = image_size\n",
    "    \n",
    "    def call(self, x: tf.Tensor) -> tf.Tensor:\n",
    "        rand_size = tf.random.uniform(\n",
    "            shape=[],\n",
    "            minval = int(0.75 * self.image_size), \n",
    "            maxval = 1 * self.image_size, \n",
    "            dtype=tf.int32\n",
    "        )\n",
    "        \n",
    "        crop = tf.image.random_crop(x, (rand_size, rand_size, 3))\n",
    "        crop_resize = tf.image.resize(crop, (self.image_size, self.image_size)) \n",
    "        \n",
    "        return crop_resize"
   ],
   "outputs": [],
   "metadata": {}
  },
  {
   "cell_type": "code",
   "execution_count": 37,
   "source": [
    "class RandomSolarize(Augmentation):\n",
    "    @tf.function \n",
    "    def call(self, x : tf.Tensor) -> tf.Tensor: \n",
    "        if self.random_execute(0.2): \n",
    "            x = tf.where(x < 10, x, 255-x)\n",
    "        return x\n",
    "    "
   ],
   "outputs": [],
   "metadata": {}
  },
  {
   "cell_type": "code",
   "execution_count": 38,
   "source": [
    "class RandomBlur(Augmentation):\n",
    "    @tf.function \n",
    "    def call(self, x: tf.Tensor) -> tf.Tensor:\n",
    "        if self.random_execute(0.2): \n",
    "            s = np.random.random() \n",
    "            return tfa.image.gaussian_filter2d(image=x, sigma=5)\n",
    "        return x"
   ],
   "outputs": [],
   "metadata": {}
  },
  {
   "cell_type": "code",
   "execution_count": 41,
   "source": [
    "class RandomAugmentor(tf.keras.Model): \n",
    "    def __init__(self, image_size : int):\n",
    "        super(RandomAugmentor, self).__init__()\n",
    "        \n",
    "        self.image_size = image_size\n",
    "        self.random_resize_crop = RandomResizeCrop(image_size) \n",
    "        self.random_flip = RandomFlip()\n",
    "        self.random_color_jitter = RandomColorJitter() \n",
    "        self.random_blur = RandomBlur() \n",
    "        self.random_to_grayscale = RandomToGrayscale()\n",
    "        self.random_solarize = RandomSolarize() \n",
    "        \n",
    "    def call(self, x : tf.Tensor) -> tf.Tensor:\n",
    "        x = self.random_resize_crop(x) \n",
    "        x = self.random_flip(x)\n",
    "        x = self.random_color_jitter(x) \n",
    "        x = self.random_blur(x) \n",
    "        x = self.random_to_grayscale(x) \n",
    "        x = self.random_solarize(x) \n",
    "        \n",
    "        x = tf.clip_by_value(x, 0, 1)\n",
    "        return x\n",
    "    \n",
    "bt_augmentor = RandomAugmentor(RES)"
   ],
   "outputs": [],
   "metadata": {}
  },
  {
   "cell_type": "code",
   "execution_count": 42,
   "source": [
    "class BTDatasetCreator:\n",
    "    def __init__(self, augmentor: RandomAugmentor, seed: int = 1024):\n",
    "        self.options = tf.data.Options() \n",
    "        self.options.threading.max_intra_op_parallelism = 1 \n",
    "        self.seed = seed \n",
    "        self.augmentor = augmentor \n",
    "        \n",
    "    def augmented_version(self, ds: list) -> tf.data.Dataset:\n",
    "        return (\n",
    "            tf.data.Dataset.from_tensor_slices(ds)\n",
    "            .shuffle(1000, seed=self.seed)\n",
    "            .map(self.augmentor, num_parallel_calls=tf.data.AUTOTUNE)\n",
    "            .prefetch(tf.data.AUTOTUNE)\n",
    "            .with_options(self.options) \n",
    "        )\n",
    "        \n",
    "    def __call__(self, ds: list) -> tf.data.Dataset:\n",
    "        a1 = self.augmented_version(ds)\n",
    "        a2 = self.augmented_version(ds) \n",
    "        \n",
    "        return tf.data.Dataset.zip((a1, a2)).with_options(self.options) \n",
    "    \n",
    "augment_versions = BTDatasetCreator(bt_augmentor)(train_images)"
   ],
   "outputs": [],
   "metadata": {}
  },
  {
   "cell_type": "code",
   "execution_count": 45,
   "source": [
    "sample_augment_versions = iter(augment_versions)\n",
    "\n",
    "def plot_values(batch : tuple):\n",
    "    fig, axs = plt.subplots(3, 3)\n",
    "    fig1, axs1 = plt.subplots(3, 3)\n",
    "    \n",
    "    fig.suptitle('Augmentation 1')\n",
    "    fig1.suptitle('Augmentation 2')\n",
    "    \n",
    "    a1, a2 = batch\n",
    "    \n",
    "    for i in range(3): \n",
    "        for j in range(3): \n",
    "            axs[i][j].imshow(a1[3 * i + j])\n",
    "            axs[i][j].axis('off')\n",
    "            axs1[i][j].imshow(a2[3 * i + j])\n",
    "            axs1[i][j].axis('off')\n",
    "            \n",
    "    plt.show() \n",
    "            \n",
    "plot_values(next(sample_augment_versions))"
   ],
   "outputs": [
    {
     "output_type": "display_data",
     "data": {
      "text/plain": [
       "<Figure size 432x288 with 9 Axes>"
      ],
      "image/svg+xml": "<?xml version=\"1.0\" encoding=\"utf-8\" standalone=\"no\"?>\n<!DOCTYPE svg PUBLIC \"-//W3C//DTD SVG 1.1//EN\"\n  \"http://www.w3.org/Graphics/SVG/1.1/DTD/svg11.dtd\">\n<!-- Created with matplotlib (https://matplotlib.org/) -->\n<svg height=\"260.64pt\" version=\"1.1\" viewBox=\"0 0 256.725 260.64\" width=\"256.725pt\" xmlns=\"http://www.w3.org/2000/svg\" xmlns:xlink=\"http://www.w3.org/1999/xlink\">\n <metadata>\n  <rdf:RDF xmlns:cc=\"http://creativecommons.org/ns#\" xmlns:dc=\"http://purl.org/dc/elements/1.1/\" xmlns:rdf=\"http://www.w3.org/1999/02/22-rdf-syntax-ns#\">\n   <cc:Work>\n    <dc:type rdf:resource=\"http://purl.org/dc/dcmitype/StillImage\"/>\n    <dc:date>2022-02-05T19:55:57.266045</dc:date>\n    <dc:format>image/svg+xml</dc:format>\n    <dc:creator>\n     <cc:Agent>\n      <dc:title>Matplotlib v3.3.4, https://matplotlib.org/</dc:title>\n     </cc:Agent>\n    </dc:creator>\n   </cc:Work>\n  </rdf:RDF>\n </metadata>\n <defs>\n  <style type=\"text/css\">*{stroke-linecap:butt;stroke-linejoin:round;}</style>\n </defs>\n <g id=\"figure_1\">\n  <g id=\"patch_1\">\n   <path d=\"M 0 260.64 \nL 256.725 260.64 \nL 256.725 0 \nL 0 0 \nz\n\" style=\"fill:none;\"/>\n  </g>\n  <g id=\"axes_1\">\n   <g clip-path=\"url(#p43d58f7c22)\">\n    <image height=\"64\" id=\"image134d25e5c1\" transform=\"scale(1 -1)translate(0 -64)\" width=\"6\" x=\"7.2\" xlink:href=\"data:image/png;base64,\niVBORw0KGgoAAAANSUhEUgAAAAYAAABACAYAAAA5zQY5AAABAElEQVR4nJ3USwrCMBAG4MmYoLZ2IS4UwYWCeAYv4LVduXHhAUQQdCW+3621iRf4f0G7zNeZJJNJzGLVCgI+69GoiNh7sBge3mGYv5osoowhDSSVD4ohDyUI+Pf/IpwpMKjB1bKRvn6c4/iOMezyGobxuo/heq5iSGYVDNGW7KM+3WCQ0wVDcThh0DjCkA0HGG5t0gzH0RNDr7mDYCbLLu72nktxqoaSInqBmcQu8gxDRhrO3km38y6JTY5BDVmVE3y0X+4HMeuDwcD2wa/zviBNnbK3hD4ZBVturOQ8KqyIHbcnqVhEouw84LCILeEafn2vCNA5EiUH5QyOoZNT+ADJV1NJi5lR2AAAAABJRU5ErkJggg==\" y=\"-35.952941\"/>\n   </g>\n  </g>\n  <g id=\"axes_2\">\n   <g clip-path=\"url(#p4eacb920bd)\">\n    <image height=\"64\" id=\"imagebf2a930b96\" transform=\"scale(1 -1)translate(0 -64)\" width=\"6\" x=\"125.364706\" xlink:href=\"data:image/png;base64,\niVBORw0KGgoAAAANSUhEUgAAAAYAAABACAYAAAA5zQY5AAAA/UlEQVR4nJ2UOU4EQQxFXdXu7mAIWCQEEkKEk3AEEi7GeUg4CTERAQOIDBhBI+ilylzgPwIqrCdvX99O65urMPE8Iql/82XJGtQKoAytBlahRioATDZr5kYRCSOqBnoIM/NoKFXWRTxaAAZt8Rx5BHVXzwC6D6ixf/etgW8B1PsHDWKaNMh9D2BvV4PtxZkGwzEMmC/fNDg/fJEgbZ6OtNtPfEenKqFt4u8VtLr+XGvwOB5ocPt6qsHX1Gkw/IC6QW5P2lbs9j/WgGrMs14QD7oMywgRuAYG14fbtYZWjUC3AlM3DZihbxcNctYR/5B9LqQuXepMRwZBgVTY1S8TC1XJGfR4SQAAAABJRU5ErkJggg==\" y=\"-35.952941\"/>\n   </g>\n  </g>\n  <g id=\"axes_3\">\n   <g clip-path=\"url(#p74af853c5d)\">\n    <image height=\"64\" id=\"imagea3d1324641\" transform=\"scale(1 -1)translate(0 -64)\" width=\"6\" x=\"243.529412\" xlink:href=\"data:image/png;base64,\niVBORw0KGgoAAAANSUhEUgAAAAYAAABACAYAAAA5zQY5AAAA8UlEQVR4nJWUzYkCQRCFq8b2bxUUV9abtwVvnjQFQzEFIzIEEzCDyUE8LCwo4sjodJvA+4Se43xUv3pV/do3i10y8RXqp5lZsBgBJHmSBX/UUNE0GqQXAEskXj/hKOqKfRTafPBOmypaUDHo52l8GDvO6nIFQCOJVQUaDs5b3xOoGA01uC5/NKimoPG/hnbH05sG29+jBovuWYN196FBNLgMh/tMg/I+12BfrjQo/joaTErXoHeBnX+dYINevzSgcOKFywcBZmjBMYPPzHaDQwV3lQKEE3OeepRzh0WlkBtnb2gk6BxXG7NfONSAdxd9vAF0j1XIeWp86wAAAABJRU5ErkJggg==\" y=\"-35.952941\"/>\n   </g>\n  </g>\n  <g id=\"axes_4\">\n   <g clip-path=\"url(#pb0adce304c)\">\n    <image height=\"64\" id=\"image8fe59b22ad\" transform=\"scale(1 -1)translate(0 -64)\" width=\"6\" x=\"7.2\" xlink:href=\"data:image/png;base64,\niVBORw0KGgoAAAANSUhEUgAAAAYAAABACAYAAAA5zQY5AAAA20lEQVR4nLWUOw7CMBBEvc7ySQAJIcglUtFRpeQU3IuCO1FRQEFFOj4CCRDkZy4wE8lScOmnnbHXO5ZluHIGLIs2G4E6B5WMmqrylaqZlKsZwBX+9+CnElViLrhIpdshFZZViHieypHuNnhEIQGDCINnEmPwngYYXBYlBsP4BYGs9yl8Qk16GZaad4lHQJqou5zM1bGYYbA5pRhktzEGdjvCoH8l5pPDBwN9fInH+Y6BywsMWHDazAfLoBoaZza7Lf4lhg0DzwfNuWVS3qn175UrybSbmv2J/+/uD5LoTNmhNXKaAAAAAElFTkSuQmCC\" y=\"-112.696471\"/>\n   </g>\n  </g>\n  <g id=\"axes_5\">\n   <g clip-path=\"url(#p89bad8e734)\">\n    <image height=\"64\" id=\"image362a02ed90\" transform=\"scale(1 -1)translate(0 -64)\" width=\"6\" x=\"125.364706\" xlink:href=\"data:image/png;base64,\niVBORw0KGgoAAAANSUhEUgAAAAYAAABACAYAAAA5zQY5AAAA1ElEQVR4nL2UMQrCQBBFZzajGIyNBEGt7KxSWNp7B89oI57EMo2eQMQQiBpMdr3An4WxMOU+/vxhZn54N9gHAp9Dj1EgwcNKJOR7W6l/ACGXGBWcYIWQY5si0pVd4b3NXHiSYRDGKQZ1kWPwzHFjUm1bDOazCgI+Xgp4P7Ie3nCplYwwaMMHg1OzxKB8LTA4lBsMurtiPj0rI0kfyqKya40BN28MqFIU1HUKUMIZiXOwKrRLjCgUD/2o7V0x43DaMyjklNXaPX6Ybo//opFZ9fZ9GBVfMHhC3Nz1desAAAAASUVORK5CYII=\" y=\"-112.696471\"/>\n   </g>\n  </g>\n  <g id=\"axes_6\">\n   <g clip-path=\"url(#p7ff8a18a36)\">\n    <image height=\"64\" id=\"image41ba1a62f0\" transform=\"scale(1 -1)translate(0 -64)\" width=\"6\" x=\"243.529412\" xlink:href=\"data:image/png;base64,\niVBORw0KGgoAAAANSUhEUgAAAAYAAABACAYAAAA5zQY5AAAA1UlEQVR4nLWUTQrCMBCFM82g9Y8iqOAN3Ijbglvv4OnE++gF6satq4BYUIpN4wXeK6TULPPxZpKXvJGDPQYDVoI2W4Ga0DAAW3To0eVUIgxgkUoSqeDNxcYqjLWxCuIuLaUyHhHFbIJBuV1h8FkQE13+xWC+LCGQ8y2HF9HN8IFL7QZw36hnllyqFIOiWmNwuu8xcG6KQXYlPVJH8pEV2BJNyjcG5vkioK4xCJ6Fs4lMLVeE3nKupvn7yFDDci50ZCTkt/MhQxRtN2fv4X1kKfYePbr7A7YWPdddK6/1AAAAAElFTkSuQmCC\" y=\"-112.696471\"/>\n   </g>\n  </g>\n  <g id=\"axes_7\">\n   <g clip-path=\"url(#p40351e135c)\">\n    <image height=\"64\" id=\"imagea6e44537de\" transform=\"scale(1 -1)translate(0 -64)\" width=\"6\" x=\"7.2\" xlink:href=\"data:image/png;base64,\niVBORw0KGgoAAAANSUhEUgAAAAYAAABACAYAAAA5zQY5AAAA4klEQVR4nLWUMQrCQBBFZ5JJLERFC7ERBQ8gksYLeAkv6AG8hdhYp7QSDEFQNIbseoH/Axsw5T7+/D+z2dFduvcCvggdioiYeIeBd7BSi0I8VlDzllSqgQqN41APojAl5iYRrkbjdkjlyRBNY2KuoyEGbtDHoMjGGLynpA+3fWCwmJQQ6CHPYCO2TO641DqF52I9TTCofYNB6T4YHJ8rDC6vOVGcNyTVzTCYnWqiKCoM7EpG4iuikC/xoL+PNGRW4tgCaDAIf85dFkAUvAD+/2ppKhPFHi0NkvvosBnYDYaP/QfIFEEB3orS7gAAAABJRU5ErkJggg==\" y=\"-189.44\"/>\n   </g>\n  </g>\n  <g id=\"axes_8\">\n   <g clip-path=\"url(#p5ef6e6cb83)\">\n    <image height=\"64\" id=\"imageb558f4dfd9\" transform=\"scale(1 -1)translate(0 -64)\" width=\"6\" x=\"125.364706\" xlink:href=\"data:image/png;base64,\niVBORw0KGgoAAAANSUhEUgAAAAYAAABACAYAAAA5zQY5AAAA6ElEQVR4nK2UPQrCQBCFZ5IxIRqIiIimsrWyE7yAR7DyFh7QW4iFvUFjYWMS8rNe4L2A4pb78ebt7sxb3UUHJ2CZc3BfTDoMPLgrIubalpRyHQNfenBzUWUAi0w9olAzUsojpbg5UyhR/PC6GgTEPJ1hUE+GGGTbCINySqZksc4wSOMXBquYKBJ7Y7AMcgzGHlFswhKDUElrn12BwaUeYXA87zHIbwkG85OPQXSvCbg+MHAFuaBUFQEkzuaahilIal1L48wAyWBPnEk4uUJ9/Lo9HkRBw2kywOPTd4+vT/W3z5L3nHnQUh8in0Oi8ZjBOwAAAABJRU5ErkJggg==\" y=\"-189.44\"/>\n   </g>\n  </g>\n  <g id=\"axes_9\">\n   <g clip-path=\"url(#pc091af901b)\">\n    <image height=\"64\" id=\"image3e8d09054e\" transform=\"scale(1 -1)translate(0 -64)\" width=\"6\" x=\"243.529412\" xlink:href=\"data:image/png;base64,\niVBORw0KGgoAAAANSUhEUgAAAAYAAABACAYAAAA5zQY5AAAA7ElEQVR4nJXUSw6CQAwG4BaqgDEmPsPCmBg3XsAreAT33sEbeguNO11g3IDxQQTGC/w/ybDkS1umTKvbwd4JeAL0UkTEpGkIOJhJzP0qFkFSuQpH0K/yB5MgxKAhg26HpcJlTEMCogwChdByDtrdKMJQL1MM5TjGkG3IyctJjWGxzjDMek8MaVxg6IclhlV8xzA1nErz2xzeUUu0i1MVzRfDuSItOZx2GK7ZEMPoSH5U8iDz0b/kGPRNeqWvDwZHx7kkqaRhc+47tSbqe9vZcLbU6JhfcVPzjRC2Mloi2AJgW5S2nUcQ8N/tNOIPbC1EbDmvlZkAAAAASUVORK5CYII=\" y=\"-189.44\"/>\n   </g>\n  </g>\n  <g id=\"text_1\">\n   <!-- Augmentation 1 -->\n   <g transform=\"translate(74.661563 16.318125)scale(0.12 -0.12)\">\n    <defs>\n     <path d=\"M 34.1875 63.1875 \nL 20.796875 26.90625 \nL 47.609375 26.90625 \nz\nM 28.609375 72.90625 \nL 39.796875 72.90625 \nL 67.578125 0 \nL 57.328125 0 \nL 50.6875 18.703125 \nL 17.828125 18.703125 \nL 11.1875 0 \nL 0.78125 0 \nz\n\" id=\"DejaVuSans-65\"/>\n     <path d=\"M 8.5 21.578125 \nL 8.5 54.6875 \nL 17.484375 54.6875 \nL 17.484375 21.921875 \nQ 17.484375 14.15625 20.5 10.265625 \nQ 23.53125 6.390625 29.59375 6.390625 \nQ 36.859375 6.390625 41.078125 11.03125 \nQ 45.3125 15.671875 45.3125 23.6875 \nL 45.3125 54.6875 \nL 54.296875 54.6875 \nL 54.296875 0 \nL 45.3125 0 \nL 45.3125 8.40625 \nQ 42.046875 3.421875 37.71875 1 \nQ 33.40625 -1.421875 27.6875 -1.421875 \nQ 18.265625 -1.421875 13.375 4.4375 \nQ 8.5 10.296875 8.5 21.578125 \nz\nM 31.109375 56 \nz\n\" id=\"DejaVuSans-117\"/>\n     <path d=\"M 45.40625 27.984375 \nQ 45.40625 37.75 41.375 43.109375 \nQ 37.359375 48.484375 30.078125 48.484375 \nQ 22.859375 48.484375 18.828125 43.109375 \nQ 14.796875 37.75 14.796875 27.984375 \nQ 14.796875 18.265625 18.828125 12.890625 \nQ 22.859375 7.515625 30.078125 7.515625 \nQ 37.359375 7.515625 41.375 12.890625 \nQ 45.40625 18.265625 45.40625 27.984375 \nz\nM 54.390625 6.78125 \nQ 54.390625 -7.171875 48.1875 -13.984375 \nQ 42 -20.796875 29.203125 -20.796875 \nQ 24.46875 -20.796875 20.265625 -20.09375 \nQ 16.0625 -19.390625 12.109375 -17.921875 \nL 12.109375 -9.1875 \nQ 16.0625 -11.328125 19.921875 -12.34375 \nQ 23.78125 -13.375 27.78125 -13.375 \nQ 36.625 -13.375 41.015625 -8.765625 \nQ 45.40625 -4.15625 45.40625 5.171875 \nL 45.40625 9.625 \nQ 42.625 4.78125 38.28125 2.390625 \nQ 33.9375 0 27.875 0 \nQ 17.828125 0 11.671875 7.65625 \nQ 5.515625 15.328125 5.515625 27.984375 \nQ 5.515625 40.671875 11.671875 48.328125 \nQ 17.828125 56 27.875 56 \nQ 33.9375 56 38.28125 53.609375 \nQ 42.625 51.21875 45.40625 46.390625 \nL 45.40625 54.6875 \nL 54.390625 54.6875 \nz\n\" id=\"DejaVuSans-103\"/>\n     <path d=\"M 52 44.1875 \nQ 55.375 50.25 60.0625 53.125 \nQ 64.75 56 71.09375 56 \nQ 79.640625 56 84.28125 50.015625 \nQ 88.921875 44.046875 88.921875 33.015625 \nL 88.921875 0 \nL 79.890625 0 \nL 79.890625 32.71875 \nQ 79.890625 40.578125 77.09375 44.375 \nQ 74.3125 48.1875 68.609375 48.1875 \nQ 61.625 48.1875 57.5625 43.546875 \nQ 53.515625 38.921875 53.515625 30.90625 \nL 53.515625 0 \nL 44.484375 0 \nL 44.484375 32.71875 \nQ 44.484375 40.625 41.703125 44.40625 \nQ 38.921875 48.1875 33.109375 48.1875 \nQ 26.21875 48.1875 22.15625 43.53125 \nQ 18.109375 38.875 18.109375 30.90625 \nL 18.109375 0 \nL 9.078125 0 \nL 9.078125 54.6875 \nL 18.109375 54.6875 \nL 18.109375 46.1875 \nQ 21.1875 51.21875 25.484375 53.609375 \nQ 29.78125 56 35.6875 56 \nQ 41.65625 56 45.828125 52.96875 \nQ 50 49.953125 52 44.1875 \nz\n\" id=\"DejaVuSans-109\"/>\n     <path d=\"M 56.203125 29.59375 \nL 56.203125 25.203125 \nL 14.890625 25.203125 \nQ 15.484375 15.921875 20.484375 11.0625 \nQ 25.484375 6.203125 34.421875 6.203125 \nQ 39.59375 6.203125 44.453125 7.46875 \nQ 49.3125 8.734375 54.109375 11.28125 \nL 54.109375 2.78125 \nQ 49.265625 0.734375 44.1875 -0.34375 \nQ 39.109375 -1.421875 33.890625 -1.421875 \nQ 20.796875 -1.421875 13.15625 6.1875 \nQ 5.515625 13.8125 5.515625 26.8125 \nQ 5.515625 40.234375 12.765625 48.109375 \nQ 20.015625 56 32.328125 56 \nQ 43.359375 56 49.78125 48.890625 \nQ 56.203125 41.796875 56.203125 29.59375 \nz\nM 47.21875 32.234375 \nQ 47.125 39.59375 43.09375 43.984375 \nQ 39.0625 48.390625 32.421875 48.390625 \nQ 24.90625 48.390625 20.390625 44.140625 \nQ 15.875 39.890625 15.1875 32.171875 \nz\n\" id=\"DejaVuSans-101\"/>\n     <path d=\"M 54.890625 33.015625 \nL 54.890625 0 \nL 45.90625 0 \nL 45.90625 32.71875 \nQ 45.90625 40.484375 42.875 44.328125 \nQ 39.84375 48.1875 33.796875 48.1875 \nQ 26.515625 48.1875 22.3125 43.546875 \nQ 18.109375 38.921875 18.109375 30.90625 \nL 18.109375 0 \nL 9.078125 0 \nL 9.078125 54.6875 \nL 18.109375 54.6875 \nL 18.109375 46.1875 \nQ 21.34375 51.125 25.703125 53.5625 \nQ 30.078125 56 35.796875 56 \nQ 45.21875 56 50.046875 50.171875 \nQ 54.890625 44.34375 54.890625 33.015625 \nz\n\" id=\"DejaVuSans-110\"/>\n     <path d=\"M 18.3125 70.21875 \nL 18.3125 54.6875 \nL 36.8125 54.6875 \nL 36.8125 47.703125 \nL 18.3125 47.703125 \nL 18.3125 18.015625 \nQ 18.3125 11.328125 20.140625 9.421875 \nQ 21.96875 7.515625 27.59375 7.515625 \nL 36.8125 7.515625 \nL 36.8125 0 \nL 27.59375 0 \nQ 17.1875 0 13.234375 3.875 \nQ 9.28125 7.765625 9.28125 18.015625 \nL 9.28125 47.703125 \nL 2.6875 47.703125 \nL 2.6875 54.6875 \nL 9.28125 54.6875 \nL 9.28125 70.21875 \nz\n\" id=\"DejaVuSans-116\"/>\n     <path d=\"M 34.28125 27.484375 \nQ 23.390625 27.484375 19.1875 25 \nQ 14.984375 22.515625 14.984375 16.5 \nQ 14.984375 11.71875 18.140625 8.90625 \nQ 21.296875 6.109375 26.703125 6.109375 \nQ 34.1875 6.109375 38.703125 11.40625 \nQ 43.21875 16.703125 43.21875 25.484375 \nL 43.21875 27.484375 \nz\nM 52.203125 31.203125 \nL 52.203125 0 \nL 43.21875 0 \nL 43.21875 8.296875 \nQ 40.140625 3.328125 35.546875 0.953125 \nQ 30.953125 -1.421875 24.3125 -1.421875 \nQ 15.921875 -1.421875 10.953125 3.296875 \nQ 6 8.015625 6 15.921875 \nQ 6 25.140625 12.171875 29.828125 \nQ 18.359375 34.515625 30.609375 34.515625 \nL 43.21875 34.515625 \nL 43.21875 35.40625 \nQ 43.21875 41.609375 39.140625 45 \nQ 35.0625 48.390625 27.6875 48.390625 \nQ 23 48.390625 18.546875 47.265625 \nQ 14.109375 46.140625 10.015625 43.890625 \nL 10.015625 52.203125 \nQ 14.9375 54.109375 19.578125 55.046875 \nQ 24.21875 56 28.609375 56 \nQ 40.484375 56 46.34375 49.84375 \nQ 52.203125 43.703125 52.203125 31.203125 \nz\n\" id=\"DejaVuSans-97\"/>\n     <path d=\"M 9.421875 54.6875 \nL 18.40625 54.6875 \nL 18.40625 0 \nL 9.421875 0 \nz\nM 9.421875 75.984375 \nL 18.40625 75.984375 \nL 18.40625 64.59375 \nL 9.421875 64.59375 \nz\n\" id=\"DejaVuSans-105\"/>\n     <path d=\"M 30.609375 48.390625 \nQ 23.390625 48.390625 19.1875 42.75 \nQ 14.984375 37.109375 14.984375 27.296875 \nQ 14.984375 17.484375 19.15625 11.84375 \nQ 23.34375 6.203125 30.609375 6.203125 \nQ 37.796875 6.203125 41.984375 11.859375 \nQ 46.1875 17.53125 46.1875 27.296875 \nQ 46.1875 37.015625 41.984375 42.703125 \nQ 37.796875 48.390625 30.609375 48.390625 \nz\nM 30.609375 56 \nQ 42.328125 56 49.015625 48.375 \nQ 55.71875 40.765625 55.71875 27.296875 \nQ 55.71875 13.875 49.015625 6.21875 \nQ 42.328125 -1.421875 30.609375 -1.421875 \nQ 18.84375 -1.421875 12.171875 6.21875 \nQ 5.515625 13.875 5.515625 27.296875 \nQ 5.515625 40.765625 12.171875 48.375 \nQ 18.84375 56 30.609375 56 \nz\n\" id=\"DejaVuSans-111\"/>\n     <path id=\"DejaVuSans-32\"/>\n     <path d=\"M 12.40625 8.296875 \nL 28.515625 8.296875 \nL 28.515625 63.921875 \nL 10.984375 60.40625 \nL 10.984375 69.390625 \nL 28.421875 72.90625 \nL 38.28125 72.90625 \nL 38.28125 8.296875 \nL 54.390625 8.296875 \nL 54.390625 0 \nL 12.40625 0 \nz\n\" id=\"DejaVuSans-49\"/>\n    </defs>\n    <use xlink:href=\"#DejaVuSans-65\"/>\n    <use x=\"68.408203\" xlink:href=\"#DejaVuSans-117\"/>\n    <use x=\"131.787109\" xlink:href=\"#DejaVuSans-103\"/>\n    <use x=\"195.263672\" xlink:href=\"#DejaVuSans-109\"/>\n    <use x=\"292.675781\" xlink:href=\"#DejaVuSans-101\"/>\n    <use x=\"354.199219\" xlink:href=\"#DejaVuSans-110\"/>\n    <use x=\"417.578125\" xlink:href=\"#DejaVuSans-116\"/>\n    <use x=\"456.787109\" xlink:href=\"#DejaVuSans-97\"/>\n    <use x=\"518.066406\" xlink:href=\"#DejaVuSans-116\"/>\n    <use x=\"557.275391\" xlink:href=\"#DejaVuSans-105\"/>\n    <use x=\"585.058594\" xlink:href=\"#DejaVuSans-111\"/>\n    <use x=\"646.240234\" xlink:href=\"#DejaVuSans-110\"/>\n    <use x=\"709.619141\" xlink:href=\"#DejaVuSans-32\"/>\n    <use x=\"741.40625\" xlink:href=\"#DejaVuSans-49\"/>\n   </g>\n  </g>\n </g>\n <defs>\n  <clipPath id=\"p43d58f7c22\">\n   <rect height=\"63.952941\" width=\"5.995588\" x=\"7.2\" y=\"36\"/>\n  </clipPath>\n  <clipPath id=\"p4eacb920bd\">\n   <rect height=\"63.952941\" width=\"5.995588\" x=\"125.364706\" y=\"36\"/>\n  </clipPath>\n  <clipPath id=\"p74af853c5d\">\n   <rect height=\"63.952941\" width=\"5.995588\" x=\"243.529412\" y=\"36\"/>\n  </clipPath>\n  <clipPath id=\"pb0adce304c\">\n   <rect height=\"63.952941\" width=\"5.995588\" x=\"7.2\" y=\"112.743529\"/>\n  </clipPath>\n  <clipPath id=\"p89bad8e734\">\n   <rect height=\"63.952941\" width=\"5.995588\" x=\"125.364706\" y=\"112.743529\"/>\n  </clipPath>\n  <clipPath id=\"p7ff8a18a36\">\n   <rect height=\"63.952941\" width=\"5.995588\" x=\"243.529412\" y=\"112.743529\"/>\n  </clipPath>\n  <clipPath id=\"p40351e135c\">\n   <rect height=\"63.952941\" width=\"5.995588\" x=\"7.2\" y=\"189.487059\"/>\n  </clipPath>\n  <clipPath id=\"p5ef6e6cb83\">\n   <rect height=\"63.952941\" width=\"5.995588\" x=\"125.364706\" y=\"189.487059\"/>\n  </clipPath>\n  <clipPath id=\"pc091af901b\">\n   <rect height=\"63.952941\" width=\"5.995588\" x=\"243.529412\" y=\"189.487059\"/>\n  </clipPath>\n </defs>\n</svg>\n",
      "image/png": "[encoded data removed]"
     },
     "metadata": {
      "needs_background": "light"
     }
    },
    {
     "output_type": "display_data",
     "data": {
      "text/plain": [
       "<Figure size 432x288 with 9 Axes>"
      ],
      "image/svg+xml": "<?xml version=\"1.0\" encoding=\"utf-8\" standalone=\"no\"?>\n<!DOCTYPE svg PUBLIC \"-//W3C//DTD SVG 1.1//EN\"\n  \"http://www.w3.org/Graphics/SVG/1.1/DTD/svg11.dtd\">\n<!-- Created with matplotlib (https://matplotlib.org/) -->\n<svg height=\"260.64pt\" version=\"1.1\" viewBox=\"0 0 256.725 260.64\" width=\"256.725pt\" xmlns=\"http://www.w3.org/2000/svg\" xmlns:xlink=\"http://www.w3.org/1999/xlink\">\n <metadata>\n  <rdf:RDF xmlns:cc=\"http://creativecommons.org/ns#\" xmlns:dc=\"http://purl.org/dc/elements/1.1/\" xmlns:rdf=\"http://www.w3.org/1999/02/22-rdf-syntax-ns#\">\n   <cc:Work>\n    <dc:type rdf:resource=\"http://purl.org/dc/dcmitype/StillImage\"/>\n    <dc:date>2022-02-05T19:55:58.827058</dc:date>\n    <dc:format>image/svg+xml</dc:format>\n    <dc:creator>\n     <cc:Agent>\n      <dc:title>Matplotlib v3.3.4, https://matplotlib.org/</dc:title>\n     </cc:Agent>\n    </dc:creator>\n   </cc:Work>\n  </rdf:RDF>\n </metadata>\n <defs>\n  <style type=\"text/css\">*{stroke-linecap:butt;stroke-linejoin:round;}</style>\n </defs>\n <g id=\"figure_1\">\n  <g id=\"patch_1\">\n   <path d=\"M 0 260.64 \nL 256.725 260.64 \nL 256.725 0 \nL 0 0 \nz\n\" style=\"fill:none;\"/>\n  </g>\n  <g id=\"axes_1\">\n   <g clip-path=\"url(#p8308e9854e)\">\n    <image height=\"64\" id=\"image344d37a0e9\" transform=\"scale(1 -1)translate(0 -64)\" width=\"6\" x=\"7.2\" xlink:href=\"data:image/png;base64,\niVBORw0KGgoAAAANSUhEUgAAAAYAAABACAYAAAA5zQY5AAABw0lEQVR4nH2Uu9HUQBCEv5493WFgEgAWBsEQB1EQCgZV+ORACiRAEBRVJ+30b6ykXd1LpkY9M/3Q6POvb/7w/h/fP/3k9/+P/Pj6hfOfvwRPnr0wI2afkN0KkvevKgEJ2APCweyC0lBrL1R0nCEg1nbpABvSRAwzjgiZkA8zfDtjnNMQmHQw5wlVt3VDDwZkNsRGMhHYeCT4VKuKqCOPp4hYeRRMUYIEoReIEskpkkmVSRUkVMo9wtqYA0GbEcr2Rq9mjDwa/VUrb1LQjJJpWqVFWgfmr7XyikjHri7p3ur4uYiarXdFBIYIJPVWBXfmEcSSQVqEkikWPBV0ubStvM4o+KjVGGwZcB55VNQkGa3dchVzxddrz25FPT41e3YrQXWgJfF87QXogQOIqSRT1HsRR0Tbd7W23BQ8FXQ+P/Bji0/dRWzZyimaVh78CNxmAFEzqBlMqi27dtMqh4VCCaZpNUpeMKqJl6VvtTm4ox9Q7tnNm38chlxVxOzSjIKeq/TQdQu1h+zuoR775nhL/CiiD9cdEbAeygOd1aRC3hc2B2OLaCk9ovvJWA9YhMwpkndauMSMY7VWL68o/QLd8bj14w0FQSU7dyLl8QAAAABJRU5ErkJggg==\" y=\"-35.952941\"/>\n   </g>\n  </g>\n  <g id=\"axes_2\">\n   <g clip-path=\"url(#pa496ea2aa7)\">\n    <image height=\"64\" id=\"imageedf4e36364\" transform=\"scale(1 -1)translate(0 -64)\" width=\"6\" x=\"125.364706\" xlink:href=\"data:image/png;base64,\niVBORw0KGgoAAAANSUhEUgAAAAYAAABACAYAAAA5zQY5AAAB7ElEQVR4nJWUTW4UQQyFP7/qnoRoYIUEOxZcgKNwD27ASdhwAdbcgENwBBZssoiUyXSXH4vqv5kkE2Gp1C27nl22nx2ffn71u/0d3z7+4Nf9B75/+cyr33+QgidFEUbhRTH/anureoVrvj0YEoGBzIaYjdWrAxUlwpyIjQJQJJWgIsI+DT5YPGQPBttr8IaIhkijdJAW85dqyHqaxyLpswQJIg3OCwiFUSQAZZPP0wjFjJhPQsRkm5QFr65CGwQNYUVz9WQMpn4IU8IUsj0nLiHSQRJT5oK8lIeX6gZ1ru5c9qU8nBLskaswrbqeXJ1ahcYUY5altVZAEfLk/xyloRbGFEfE4HIafCWEWmtror5UOiVHCofs0bHi+/tNHp5cZeK6IcPBPQ/ZEWPicVhj1LOXqaYWhcK4E7q6aobqduYLtukOQ8dd2fF3fMPtcEM8VPJ4RJmB3WZj8DQf9hr8XBQBRUkh6SNxRCPDrhu56Qfe97e8vbojb3q036OiRrjrGLjWgDsRRW1qe1Ve68C+HHARdN065zuSPuoafGbJTOxnyfDIUCa2z5qXEf9vaI3SY8MiF8cAnuHuFjETAlgb9eJzC24alXUzbJcysG6GnqSPsbVWsdklMyogIlAJ00Wlx+xibBM1b4Zz/0j8A8vQGnWa9aWmAAAAAElFTkSuQmCC\" y=\"-35.952941\"/>\n   </g>\n  </g>\n  <g id=\"axes_3\">\n   <g clip-path=\"url(#p3b91e9567e)\">\n    <image height=\"64\" id=\"imageb18841b1c4\" transform=\"scale(1 -1)translate(0 -64)\" width=\"6\" x=\"243.529412\" xlink:href=\"data:image/png;base64,\niVBORw0KGgoAAAANSUhEUgAAAAYAAABACAYAAAA5zQY5AAACGElEQVR4nI2UTW4UQQyFv+eqnp4hQKIBIVYol+AcHIQLcA2OwJ49B+AOCLZsIoQgRGRmIN1ls+if6Z5MgFq0uuyyy35+r/T83at4cnLN6/O3vN+d8+blC5YfLzDuWCbFuPHJOes+gR9GJAWmzlxiEmGTVLOIKhUWqYyGECB1EUYXVaaXJzmmoCA8xJD5eB8RWER3soRoIqMSRNtijvrmtI/wwDw0M6oExASDobIZJONGPlrGPpKCNEHsVrkhgewv8xguTccuP4bwQVUDUPrLHUetHnOHxx4a834O/5dq6ijouOPfqUTXx0CGYYWEzLB1vWW92LBUsLQGXxjUC2yVGlapuZUzP1t9Z503LCRKGNY4ND1LCmLjwdbrkT75827NZb7Hh/oxn7ZPqS53lK/fyD+bGoAf5YRNWaDWwQv5YvOQq6rhy/1Trm6WfXeJfNNmKnOaSHgYkYRSwn63icaNSoVFaom6wk5WXfkewuRkOZF6+ghICh7YL07yzR5EU2A9HJX1kgvHzJw6tzxK15zlbcdEwJJ13F2qobaWYV6WzKlS4cx2nOYtkQxy3jOxklOpdKOT7WUwOMKE0oTtiU4fnQw0Z8n4AMREnKUnnaKb/6jzkZEBEQfcLYcPWfdzIE71WM0Ixx0UlXSH1A4jZsI5luqWwxT7eQzGNKvs4LEcy7WeDCYf0R3TZnOyObWgUrt/d6edJwVdDvgDiMvpvxenHB4AAAAASUVORK5CYII=\" y=\"-35.952941\"/>\n   </g>\n  </g>\n  <g id=\"axes_4\">\n   <g clip-path=\"url(#p3b8a09bb14)\">\n    <image height=\"64\" id=\"imageb6f0baea7c\" transform=\"scale(1 -1)translate(0 -64)\" width=\"6\" x=\"7.2\" xlink:href=\"data:image/png;base64,\niVBORw0KGgoAAAANSUhEUgAAAAYAAABACAYAAAA5zQY5AAACR0lEQVR4nJWUzW4TQRCEv+qZXSeyQxIOkYiQOCFy5Zl4ECQeCIlX4MYVcYQjCAQBojiy197p5rDr7Do2f3NabU93TXdXlS5ePo+T6YIXj1/xen7Bm2dP0bv3mAQCEoERbI5JgWn4gQRmewKbjKRAfcDREOjqDRmhrpzl5GT5qMYIQ3sxzG9LlTDwAPcOA6CMgAEsQniIEoaHUHGibTEPETG67YAHVlxb71cExAhjfMJjCCQNr5NpNyPUlTUTGEEiSPJuSLIhw8Zjgf3g/xbwsKHB/yvV/zHfXcV2ht3ZopnGt6KjD/0GkzkJ7zqXUEpYnQoHaU2lQqWCZ0M5k89nV5xNrjlPDQ+qH6yPa6r7J9hRbpilhgOJWgXPIqpMfnR4yWm+IfVb9EpQV9hxWnBki50+8pPJJ6bWUMlYRSItHS0arFYhEazDWUZNWjms1uSP7SmVWip95cPyjPpyQfn8hfy9nTGxNT/TnJt2Au5EKeS384ccphUJ59tqSqSETSbk63ZCG8YyKjwE2VBdY5fLKVerAyoVpnlFO63QvSOsaTMrz6PpAhJ53tRbUrOmEMsGa91o3Uh0FJUHtC3mbpQQU2uYWIuags9vsOirVCpkK4MMzIKk4MgWzFJDJA3cNXWE3qwW02AZG5MJE8q5y/AQd8+gWjotKoCILrCXie6i9DrvnKEb+xapb7G8LxUhbpX9V31sbKlSS2UFklCyXYfbyoCRvW5k8FuMzcemc/o9/OlVsG8ogy3dBTdzsnnP39IZshnW0Wi3j19ekhW0dM8UTgAAAABJRU5ErkJggg==\" y=\"-112.696471\"/>\n   </g>\n  </g>\n  <g id=\"axes_5\">\n   <g clip-path=\"url(#p557783a7a6)\">\n    <image height=\"64\" id=\"imagea9b66e5b15\" transform=\"scale(1 -1)translate(0 -64)\" width=\"6\" x=\"125.364706\" xlink:href=\"data:image/png;base64,\niVBORw0KGgoAAAANSUhEUgAAAAYAAABACAYAAAA5zQY5AAACTklEQVR4nH2UTW4TQRCFv6ru+fE4hiCRKAtgARsUxIW4A/fgEhyFE7BixQKIWEWREpATFGzPTHex6PkzdjzLqa569fPekxcfP5ivWt69+cyX5TM2759gXy9QHvhUvOF8QLH0RwRUUMQQ2X4tIqioIWJEhEh6YWaHMBREbMQwg9hl/I8BjKWcxAQcDAvhAIZZKhtMJxiHMjAwS+jRJGVMwR/sKg1l+wOpX+kCkiZ3EhOgCIgc2pU8sJJ+QMXQbi0pEGWYA0iv+ntsBYZ2u9adxN05zHYSxkMN2+3nEDVU43Aoc4I4h2ZFS5k3FNqQa8Byj8xm6KxomGUtldYUriXmDilL/NvTS46zFa+LS26qBd/PzpmvTtHjbMUjv6aUhlIbQi7E0uPP8jsqt6ExxzpmhFwIM49WbkOlNa6btF+Cf579ptSax7ph4dZoMLSJ+GN3TyaBuUZUItqCNgH/0t+SCZy4goWuKJYBf7VEnYADtDumNhE2Nf5ne0QpDU7W3IY5WkesrtHr9hHXYcGfaPyNORKTDPyn23PmbsP66AcXq6cQDVTwV6sFR1nOclZx3xZIdxz/7dcJs7zhVXXDXVMibYSmxW82HhWjMUcbFTrh+Lb21C4x0WukCQGrm14GHa8wiIDFkaKZhEQ4HegzcmqvDCKSFCUCzvXclZE+TEr1hIuT4K4+BsuwdM/efUZnsD1st4jS6WPLGQ76Vb8SN5HZoNotcU513qeOTtpTQ3YlNWTsBmBvrDPksZSJIMmpJ6+mzoAk8HRBS8WHroaMseQ/NL0b1v5gg1IAAAAASUVORK5CYII=\" y=\"-112.696471\"/>\n   </g>\n  </g>\n  <g id=\"axes_6\">\n   <g clip-path=\"url(#pe6c660df08)\">\n    <image height=\"64\" id=\"imageca8c8794de\" transform=\"scale(1 -1)translate(0 -64)\" width=\"6\" x=\"243.529412\" xlink:href=\"data:image/png;base64,\niVBORw0KGgoAAAANSUhEUgAAAAYAAABACAYAAAA5zQY5AAACKUlEQVR4nJ2UT2/TQBDFfzNe23FKCySV6A16QFScEN+BL4bEFYlPxY0Ld1BVKVQCWtq0IX+8MxwcO44T98Ce7N1983bfvnny8v1HjwNn+OoP05uCsw832PcLFHEQdoZ6Aq5e/bmACKigLuxHoOAKKg7irVL0IdZD6kO4gzm6bzduKN6ZNMNj3JRqSlq1UwVoUL7mcN8g3LfJdkr9x4LI9oK05ECkI4mAawexXU57SnUR7UUVB3wtQc3ViNgVktbDiXh9hQcuKFqZwaUlogiiUpkBaZ1IBJIEjbljA2vIPA9onqOWGwQnqKFqeJpAnhOy8Zw0jYyKGfeLjOX4EYP5iDDIV2QhMgxL0hApC8WGGeH06RWDsOL58IpZmTE5PkasQMf5PaNsxnE65SidYynEXAhvj8450AVn2Q8SnK/Fa2ImhJNww0CXjJI5j5MZEkFXTniTT0gFniU5X3TBwaVx+O2OkAtkIgQSAJKFobMlYeUATklk7inpNCLXt4RJHJJKxFjwszxElxFfrQifJu/INPJi+JvPv07Jpgv8fka4mD4hVSPVyPWs4KQ0zJ1weT6G1Igu3N4VnJR3YE7Qv4oZLMuAR6naAAjJXMCVaFK9onvlErFNF2/5asdsXbfv+Kr+cF9z1PapZndsuOnzxldNMvRyOJUVN2RVMnTSqLm5iskuuVvPqRqOvgvuiyztqdSTcDVifyA/iOiORt29ubvWo+pzb3Vtje6EzD+ar/GXIRUVfgAAAABJRU5ErkJggg==\" y=\"-112.696471\"/>\n   </g>\n  </g>\n  <g id=\"axes_7\">\n   <g clip-path=\"url(#pe8ba35ac96)\">\n    <image height=\"64\" id=\"image775c4b2660\" transform=\"scale(1 -1)translate(0 -64)\" width=\"6\" x=\"7.2\" xlink:href=\"data:image/png;base64,\niVBORw0KGgoAAAANSUhEUgAAAAYAAABACAYAAAA5zQY5AAACJUlEQVR4nIWUyW4TQRCGv6rumbGdhCQIIlACiuCAcuI54Jl4AE6Ix0LihMQRRSA2iSXO5jiZ6e7iMEs8E5vUqdV//bVXybNXbywVRnh6STzNOHh7hH37iQKYUIvRiaKAgC18AqhJDYgMABRMATEQQAVUrxlD0e7RMpJBStdAT8xqxfrd2EsJi7FhtKFarU0ytP1sMUkGtspHF9VC1qbSD7cnogOgV8Se5iJwW0mG2E3nIqByneBNH1ZHI9JvYV3tQVt7DFoNEURklXNdkocKOIdaOwwLDBFBY2Ek33yaYF4hz1DzYJnVc6WGZQ7xHh+2AmSJyagklI5qa4RcbaM6DvgiMilKXBYJE0daz/G7O8cUPrC/fsTnrOLv7h5hPMHvTM7INbI3mjILOb9GQijAv7j3kTW94nnxnffFYz5MDojn4B9kx6xJyX1n3HGXaAB3Bf6JPyKXxIYWlObYPIxsfDrDjySRSb0PlXn8LKEnMzQTcE3ilykjP62w6TH+RyzISUTm/AkbaBmxssK//voSr4lH4ynvfu+zeTonzuf4LyfbZC6RTDi5GLOZ5mCGnx7exbLE7GHObDoGu6iL6OdCCkpVOQjN+ori3VwgQYpaXwIRxCkqqZ6BbtW6nncdHczVzYkaAJ2pxtx/GO0krjS1+Gu2ZHGsvSWrTLUJLvdh/Q209vr0GM1xXB4Vw1vSO0sdpe/n9mO5FKhZt/WjOxmNtsDgZKyQfyeP5l/1NV2yAAAAAElFTkSuQmCC\" y=\"-189.44\"/>\n   </g>\n  </g>\n  <g id=\"axes_8\">\n   <g clip-path=\"url(#p17080660f3)\">\n    <image height=\"64\" id=\"imageaccca01062\" transform=\"scale(1 -1)translate(0 -64)\" width=\"6\" x=\"125.364706\" xlink:href=\"data:image/png;base64,\niVBORw0KGgoAAAANSUhEUgAAAAYAAABACAYAAAA5zQY5AAACOElEQVR4nI2Uy27UQBBFT1W3HzN5aUjEIwIihECs2PEP/BZbFqxZ8Tv8BRAgi5CQkMSMM7G7i4XtGc/EGdGSpW5X31tdrysv332wkBv2tKS+THn1sUCOTlATBpciht36Ky1iAKVoYxCNIIaJtAZgyI92G2kpxQyioRhI37sZWGwMWHPGgGBQ1wsqTMCkoer7WFrR7jDciVBZg5DuNf9F1TfYSl56KbFhwxzZz+58dShRFJOmTmJNwZQ74hABkTYOQNVADVMF59bEYbrSJU4QVdR05W0iDVXIIGQ2r3lMHaQJGvOIZZE0qZEkEnKHjTL8xuMrUl/zfPKbo3yHy4MHjLZ28JNxSeZr7mcF0zrlx5aglcO/2Ttk5Cpej7+znz3k05MDqi3F7yZ/ybVi1xWc+CnmwTz4veSKDZ2x7644cQW+ENIL8NtaMtYZuURUIq4UksLwL9JjEoncc47KPDtfIttfp/hcArkEElKCCWkRcedT/FgCiUAiDoD0soLTM/xxGJFIwFFyWm+js4Bdz/Dvf74ldYGD8Rmffz1j86IkTKf4w4sJqQ8oxp8yZzPcAODPv02wxLh+lFD8GYNUaJbhXanEYNzUDqsFXFNarzPAhLp2EAVLHDLKUYmCdKM27xJdKIOsCMGabu86EZbmpDcGvY3FRSfeplqh6PnonayjsjUIiT2RWYpjaJw7WWq+9nrsqFadLz13KI6O4bYA9LM6vxXXZbdTT2lVU2kLNXi9lfBGxm3ha50m/gM/O+m0aAXWIgAAAABJRU5ErkJggg==\" y=\"-189.44\"/>\n   </g>\n  </g>\n  <g id=\"axes_9\">\n   <g clip-path=\"url(#pd1ed8697ea)\">\n    <image height=\"64\" id=\"image0e1eb36422\" transform=\"scale(1 -1)translate(0 -64)\" width=\"6\" x=\"243.529412\" xlink:href=\"data:image/png;base64,\niVBORw0KGgoAAAANSUhEUgAAAAYAAABACAYAAAA5zQY5AAACZElEQVR4nI2UQU8UQRCFv+rumdlldhdiEDWRYKIhGm9E4sG7v8yrNy8ePXvxDxj/Ax4xSExIUAGBZXdnd6a7PMzMMsAsOpdJurvqvep+78mTN281JGA2RszOEp6+GyIHvzAIrZ9BQAVEFAQQARFM+3kwagCjiACiZQW0VKhWGwpoY8MrFAVGlBKd8i+qELSsEK06KBAC6n3VqgXn5oChBr8xwCK68I/J6zlUpWKlFfiiCmmjuxAcMNqcQyq6Ii2tRMCYqpVefUERwdQ3Wz+UioCpWpUHtaTiDDhXgjdhVATEYNSWJ6VmYQVxFqMWgivFIEbRulXRD4Sepxvn2NhTpBE6SHGaFtg4MOhkTGYReT/Gjju4l5vf6dqcrf4PdlfW+Pxsm+S+xa13/7BkZ2zEv8nUMVtWRAW33dsjNVO24iNW7Jj36xmjQYTL1ZEFZayQhYjgBfGC+3j4gtgW7PQP2b1YI93p0DlR3KSICAhnRZfzvENyqnRPPO7x4IjYFDyIz9iTVZb3ZnT2j3F34yGJFKy6IT03JZt6dDTGve5/pSMFGy4n04hP5lGp9lwduVoCENQgQcF73Iffr+janOfpAV+ON3GnE/z5BW5/eIfEFqR2ytGkR6/wEDxu/9s9iALDhwk/j5fZ9KcggrMjQ0iEiywh5KYUg7U4OxEkCLPcoYVAHGGWlipdhdpqcqkSlVKBc58bSjH8v9oDoOFWR0nlKC6DgNv8UWt37oJmZLSlg5EAEhorqqjqgiyh9nm4thpunaO6q6ur9V21ZO88r1Tl2sYiDG0mNTR83sRovMEcQ64RWIjxFw0gCAq1dMIqAAAAAElFTkSuQmCC\" y=\"-189.44\"/>\n   </g>\n  </g>\n  <g id=\"text_1\">\n   <!-- Augmentation 2 -->\n   <g transform=\"translate(74.661563 16.318125)scale(0.12 -0.12)\">\n    <defs>\n     <path d=\"M 34.1875 63.1875 \nL 20.796875 26.90625 \nL 47.609375 26.90625 \nz\nM 28.609375 72.90625 \nL 39.796875 72.90625 \nL 67.578125 0 \nL 57.328125 0 \nL 50.6875 18.703125 \nL 17.828125 18.703125 \nL 11.1875 0 \nL 0.78125 0 \nz\n\" id=\"DejaVuSans-65\"/>\n     <path d=\"M 8.5 21.578125 \nL 8.5 54.6875 \nL 17.484375 54.6875 \nL 17.484375 21.921875 \nQ 17.484375 14.15625 20.5 10.265625 \nQ 23.53125 6.390625 29.59375 6.390625 \nQ 36.859375 6.390625 41.078125 11.03125 \nQ 45.3125 15.671875 45.3125 23.6875 \nL 45.3125 54.6875 \nL 54.296875 54.6875 \nL 54.296875 0 \nL 45.3125 0 \nL 45.3125 8.40625 \nQ 42.046875 3.421875 37.71875 1 \nQ 33.40625 -1.421875 27.6875 -1.421875 \nQ 18.265625 -1.421875 13.375 4.4375 \nQ 8.5 10.296875 8.5 21.578125 \nz\nM 31.109375 56 \nz\n\" id=\"DejaVuSans-117\"/>\n     <path d=\"M 45.40625 27.984375 \nQ 45.40625 37.75 41.375 43.109375 \nQ 37.359375 48.484375 30.078125 48.484375 \nQ 22.859375 48.484375 18.828125 43.109375 \nQ 14.796875 37.75 14.796875 27.984375 \nQ 14.796875 18.265625 18.828125 12.890625 \nQ 22.859375 7.515625 30.078125 7.515625 \nQ 37.359375 7.515625 41.375 12.890625 \nQ 45.40625 18.265625 45.40625 27.984375 \nz\nM 54.390625 6.78125 \nQ 54.390625 -7.171875 48.1875 -13.984375 \nQ 42 -20.796875 29.203125 -20.796875 \nQ 24.46875 -20.796875 20.265625 -20.09375 \nQ 16.0625 -19.390625 12.109375 -17.921875 \nL 12.109375 -9.1875 \nQ 16.0625 -11.328125 19.921875 -12.34375 \nQ 23.78125 -13.375 27.78125 -13.375 \nQ 36.625 -13.375 41.015625 -8.765625 \nQ 45.40625 -4.15625 45.40625 5.171875 \nL 45.40625 9.625 \nQ 42.625 4.78125 38.28125 2.390625 \nQ 33.9375 0 27.875 0 \nQ 17.828125 0 11.671875 7.65625 \nQ 5.515625 15.328125 5.515625 27.984375 \nQ 5.515625 40.671875 11.671875 48.328125 \nQ 17.828125 56 27.875 56 \nQ 33.9375 56 38.28125 53.609375 \nQ 42.625 51.21875 45.40625 46.390625 \nL 45.40625 54.6875 \nL 54.390625 54.6875 \nz\n\" id=\"DejaVuSans-103\"/>\n     <path d=\"M 52 44.1875 \nQ 55.375 50.25 60.0625 53.125 \nQ 64.75 56 71.09375 56 \nQ 79.640625 56 84.28125 50.015625 \nQ 88.921875 44.046875 88.921875 33.015625 \nL 88.921875 0 \nL 79.890625 0 \nL 79.890625 32.71875 \nQ 79.890625 40.578125 77.09375 44.375 \nQ 74.3125 48.1875 68.609375 48.1875 \nQ 61.625 48.1875 57.5625 43.546875 \nQ 53.515625 38.921875 53.515625 30.90625 \nL 53.515625 0 \nL 44.484375 0 \nL 44.484375 32.71875 \nQ 44.484375 40.625 41.703125 44.40625 \nQ 38.921875 48.1875 33.109375 48.1875 \nQ 26.21875 48.1875 22.15625 43.53125 \nQ 18.109375 38.875 18.109375 30.90625 \nL 18.109375 0 \nL 9.078125 0 \nL 9.078125 54.6875 \nL 18.109375 54.6875 \nL 18.109375 46.1875 \nQ 21.1875 51.21875 25.484375 53.609375 \nQ 29.78125 56 35.6875 56 \nQ 41.65625 56 45.828125 52.96875 \nQ 50 49.953125 52 44.1875 \nz\n\" id=\"DejaVuSans-109\"/>\n     <path d=\"M 56.203125 29.59375 \nL 56.203125 25.203125 \nL 14.890625 25.203125 \nQ 15.484375 15.921875 20.484375 11.0625 \nQ 25.484375 6.203125 34.421875 6.203125 \nQ 39.59375 6.203125 44.453125 7.46875 \nQ 49.3125 8.734375 54.109375 11.28125 \nL 54.109375 2.78125 \nQ 49.265625 0.734375 44.1875 -0.34375 \nQ 39.109375 -1.421875 33.890625 -1.421875 \nQ 20.796875 -1.421875 13.15625 6.1875 \nQ 5.515625 13.8125 5.515625 26.8125 \nQ 5.515625 40.234375 12.765625 48.109375 \nQ 20.015625 56 32.328125 56 \nQ 43.359375 56 49.78125 48.890625 \nQ 56.203125 41.796875 56.203125 29.59375 \nz\nM 47.21875 32.234375 \nQ 47.125 39.59375 43.09375 43.984375 \nQ 39.0625 48.390625 32.421875 48.390625 \nQ 24.90625 48.390625 20.390625 44.140625 \nQ 15.875 39.890625 15.1875 32.171875 \nz\n\" id=\"DejaVuSans-101\"/>\n     <path d=\"M 54.890625 33.015625 \nL 54.890625 0 \nL 45.90625 0 \nL 45.90625 32.71875 \nQ 45.90625 40.484375 42.875 44.328125 \nQ 39.84375 48.1875 33.796875 48.1875 \nQ 26.515625 48.1875 22.3125 43.546875 \nQ 18.109375 38.921875 18.109375 30.90625 \nL 18.109375 0 \nL 9.078125 0 \nL 9.078125 54.6875 \nL 18.109375 54.6875 \nL 18.109375 46.1875 \nQ 21.34375 51.125 25.703125 53.5625 \nQ 30.078125 56 35.796875 56 \nQ 45.21875 56 50.046875 50.171875 \nQ 54.890625 44.34375 54.890625 33.015625 \nz\n\" id=\"DejaVuSans-110\"/>\n     <path d=\"M 18.3125 70.21875 \nL 18.3125 54.6875 \nL 36.8125 54.6875 \nL 36.8125 47.703125 \nL 18.3125 47.703125 \nL 18.3125 18.015625 \nQ 18.3125 11.328125 20.140625 9.421875 \nQ 21.96875 7.515625 27.59375 7.515625 \nL 36.8125 7.515625 \nL 36.8125 0 \nL 27.59375 0 \nQ 17.1875 0 13.234375 3.875 \nQ 9.28125 7.765625 9.28125 18.015625 \nL 9.28125 47.703125 \nL 2.6875 47.703125 \nL 2.6875 54.6875 \nL 9.28125 54.6875 \nL 9.28125 70.21875 \nz\n\" id=\"DejaVuSans-116\"/>\n     <path d=\"M 34.28125 27.484375 \nQ 23.390625 27.484375 19.1875 25 \nQ 14.984375 22.515625 14.984375 16.5 \nQ 14.984375 11.71875 18.140625 8.90625 \nQ 21.296875 6.109375 26.703125 6.109375 \nQ 34.1875 6.109375 38.703125 11.40625 \nQ 43.21875 16.703125 43.21875 25.484375 \nL 43.21875 27.484375 \nz\nM 52.203125 31.203125 \nL 52.203125 0 \nL 43.21875 0 \nL 43.21875 8.296875 \nQ 40.140625 3.328125 35.546875 0.953125 \nQ 30.953125 -1.421875 24.3125 -1.421875 \nQ 15.921875 -1.421875 10.953125 3.296875 \nQ 6 8.015625 6 15.921875 \nQ 6 25.140625 12.171875 29.828125 \nQ 18.359375 34.515625 30.609375 34.515625 \nL 43.21875 34.515625 \nL 43.21875 35.40625 \nQ 43.21875 41.609375 39.140625 45 \nQ 35.0625 48.390625 27.6875 48.390625 \nQ 23 48.390625 18.546875 47.265625 \nQ 14.109375 46.140625 10.015625 43.890625 \nL 10.015625 52.203125 \nQ 14.9375 54.109375 19.578125 55.046875 \nQ 24.21875 56 28.609375 56 \nQ 40.484375 56 46.34375 49.84375 \nQ 52.203125 43.703125 52.203125 31.203125 \nz\n\" id=\"DejaVuSans-97\"/>\n     <path d=\"M 9.421875 54.6875 \nL 18.40625 54.6875 \nL 18.40625 0 \nL 9.421875 0 \nz\nM 9.421875 75.984375 \nL 18.40625 75.984375 \nL 18.40625 64.59375 \nL 9.421875 64.59375 \nz\n\" id=\"DejaVuSans-105\"/>\n     <path d=\"M 30.609375 48.390625 \nQ 23.390625 48.390625 19.1875 42.75 \nQ 14.984375 37.109375 14.984375 27.296875 \nQ 14.984375 17.484375 19.15625 11.84375 \nQ 23.34375 6.203125 30.609375 6.203125 \nQ 37.796875 6.203125 41.984375 11.859375 \nQ 46.1875 17.53125 46.1875 27.296875 \nQ 46.1875 37.015625 41.984375 42.703125 \nQ 37.796875 48.390625 30.609375 48.390625 \nz\nM 30.609375 56 \nQ 42.328125 56 49.015625 48.375 \nQ 55.71875 40.765625 55.71875 27.296875 \nQ 55.71875 13.875 49.015625 6.21875 \nQ 42.328125 -1.421875 30.609375 -1.421875 \nQ 18.84375 -1.421875 12.171875 6.21875 \nQ 5.515625 13.875 5.515625 27.296875 \nQ 5.515625 40.765625 12.171875 48.375 \nQ 18.84375 56 30.609375 56 \nz\n\" id=\"DejaVuSans-111\"/>\n     <path id=\"DejaVuSans-32\"/>\n     <path d=\"M 19.1875 8.296875 \nL 53.609375 8.296875 \nL 53.609375 0 \nL 7.328125 0 \nL 7.328125 8.296875 \nQ 12.9375 14.109375 22.625 23.890625 \nQ 32.328125 33.6875 34.8125 36.53125 \nQ 39.546875 41.84375 41.421875 45.53125 \nQ 43.3125 49.21875 43.3125 52.78125 \nQ 43.3125 58.59375 39.234375 62.25 \nQ 35.15625 65.921875 28.609375 65.921875 \nQ 23.96875 65.921875 18.8125 64.3125 \nQ 13.671875 62.703125 7.8125 59.421875 \nL 7.8125 69.390625 \nQ 13.765625 71.78125 18.9375 73 \nQ 24.125 74.21875 28.421875 74.21875 \nQ 39.75 74.21875 46.484375 68.546875 \nQ 53.21875 62.890625 53.21875 53.421875 \nQ 53.21875 48.921875 51.53125 44.890625 \nQ 49.859375 40.875 45.40625 35.40625 \nQ 44.1875 33.984375 37.640625 27.21875 \nQ 31.109375 20.453125 19.1875 8.296875 \nz\n\" id=\"DejaVuSans-50\"/>\n    </defs>\n    <use xlink:href=\"#DejaVuSans-65\"/>\n    <use x=\"68.408203\" xlink:href=\"#DejaVuSans-117\"/>\n    <use x=\"131.787109\" xlink:href=\"#DejaVuSans-103\"/>\n    <use x=\"195.263672\" xlink:href=\"#DejaVuSans-109\"/>\n    <use x=\"292.675781\" xlink:href=\"#DejaVuSans-101\"/>\n    <use x=\"354.199219\" xlink:href=\"#DejaVuSans-110\"/>\n    <use x=\"417.578125\" xlink:href=\"#DejaVuSans-116\"/>\n    <use x=\"456.787109\" xlink:href=\"#DejaVuSans-97\"/>\n    <use x=\"518.066406\" xlink:href=\"#DejaVuSans-116\"/>\n    <use x=\"557.275391\" xlink:href=\"#DejaVuSans-105\"/>\n    <use x=\"585.058594\" xlink:href=\"#DejaVuSans-111\"/>\n    <use x=\"646.240234\" xlink:href=\"#DejaVuSans-110\"/>\n    <use x=\"709.619141\" xlink:href=\"#DejaVuSans-32\"/>\n    <use x=\"741.40625\" xlink:href=\"#DejaVuSans-50\"/>\n   </g>\n  </g>\n </g>\n <defs>\n  <clipPath id=\"p8308e9854e\">\n   <rect height=\"63.952941\" width=\"5.995588\" x=\"7.2\" y=\"36\"/>\n  </clipPath>\n  <clipPath id=\"pa496ea2aa7\">\n   <rect height=\"63.952941\" width=\"5.995588\" x=\"125.364706\" y=\"36\"/>\n  </clipPath>\n  <clipPath id=\"p3b91e9567e\">\n   <rect height=\"63.952941\" width=\"5.995588\" x=\"243.529412\" y=\"36\"/>\n  </clipPath>\n  <clipPath id=\"p3b8a09bb14\">\n   <rect height=\"63.952941\" width=\"5.995588\" x=\"7.2\" y=\"112.743529\"/>\n  </clipPath>\n  <clipPath id=\"p557783a7a6\">\n   <rect height=\"63.952941\" width=\"5.995588\" x=\"125.364706\" y=\"112.743529\"/>\n  </clipPath>\n  <clipPath id=\"pe6c660df08\">\n   <rect height=\"63.952941\" width=\"5.995588\" x=\"243.529412\" y=\"112.743529\"/>\n  </clipPath>\n  <clipPath id=\"pe8ba35ac96\">\n   <rect height=\"63.952941\" width=\"5.995588\" x=\"7.2\" y=\"189.487059\"/>\n  </clipPath>\n  <clipPath id=\"p17080660f3\">\n   <rect height=\"63.952941\" width=\"5.995588\" x=\"125.364706\" y=\"189.487059\"/>\n  </clipPath>\n  <clipPath id=\"pd1ed8697ea\">\n   <rect height=\"63.952941\" width=\"5.995588\" x=\"243.529412\" y=\"189.487059\"/>\n  </clipPath>\n </defs>\n</svg>\n",
      "image/png": "[encoded data removed]"
     },
     "metadata": {
      "needs_background": "light"
     }
    }
   ],
   "metadata": {}
  },
  {
   "cell_type": "code",
   "execution_count": 46,
   "source": [
    "class BarlowLoss(tf.keras.losses.Loss):\n",
    "    def __init__(self, batch_size: int):\n",
    "        super(BarlowLoss, self).__init__() \n",
    "        self.lambda_amt = 5e-3\n",
    "        self.batch_size = N_BATCH\n",
    "        \n",
    "    def get_off_diag(self, c: tf.Tensor) -> tf.Tensor:\n",
    "        zero_diag = tf.zeros(c.shape[-1])\n",
    "        return tf.linalg.set_diag(c, zero_diag) \n",
    "    \n",
    "    def cross_cor_matrix_loss(self, c: tf.Tensor) -> tf.Tensor:\n",
    "        c_diff = tf.pow(tf.linalg.diag_part(c) - 1, 2)\n",
    "        \n",
    "        off_diag = tf.pow(self.get_off_diag(c), 2) * self.lambda_amt\n",
    "        \n",
    "        loss = tf.reduce_sum(c_diff) + tf.reduce_sum(off_diag)\n",
    "        \n",
    "        return loss\n",
    "    \n",
    "    def normalize(self, output : tf.Tensor) -> tf.Tensor:\n",
    "        return (output - tf.reduce_mean(output, axis=0)) / tf.math.reduce_std(output, axis=0)\n",
    "    \n",
    "    def cross_corr_matrix(self, z_a_norm : tf.Tensor, z_b_norm : tf.Tensor) -> tf.Tensor:\n",
    "        return (tf.transpose(z_a_norm) @ z_b_norm) / self.batch_size\n",
    "    \n",
    "    def call(self, z_a : tf.Tensor, z_b : tf.Tensor) -> tf.Tensor: \n",
    "        z_a_norm, z_b_norm = self.normalize(z_a), self.normalize(z_b)\n",
    "        c = self.cross_corr_matrix(z_a_norm, z_b_norm)\n",
    "        loss = self.cross_corr_matrix(c)\n",
    "        return loss\n",
    "    \n"
   ],
   "outputs": [],
   "metadata": {}
  },
  {
   "cell_type": "code",
   "execution_count": 57,
   "source": [
    "class ResNet34:\n",
    "    def identity_block(self, x, filter):\n",
    "        x_skip = x \n",
    "        \n",
    "        x = tf.keras.layers.Conv2D(filter, (3, 3), padding='same')(x) \n",
    "        x = tf.keras.layers.BatchNormalization(axis=3)(x)\n",
    "        x = tf.keras.layers.Activation('relu')(x)\n",
    "        \n",
    "        x = tf.keras.layers.Conv2D(filter, (3, 3), padding='same')(x) \n",
    "        x = tf.keras.layers.BatchNormalization(axis=3)(x)\n",
    "        # x = tf.keras.layers.Activation('relu')(x)\n",
    "        \n",
    "        x = tf.keras.layers.Add()([x, x_skip])\n",
    "        x = tf.keras.layers.Activation('relu')(x)\n",
    "        \n",
    "        return x \n",
    "    \n",
    "    def convolutional_block(self, x, filter): \n",
    "        x_skip = x \n",
    "        \n",
    "        x = tf.keras.layers.Conv2D(filter, (3, 3), padding='same')(x) \n",
    "        x = tf.keras.layers.BatchNormalization(axis=3)(x)\n",
    "        x = tf.keras.layers.Activation('relu')(x)\n",
    "        \n",
    "        x = tf.keras.layers.Conv2D(filter, (3, 3), padding='same')(x) \n",
    "        x = tf.keras.layers.BatchNormalization(axis=3)(x)\n",
    "        # x = tf.keras.layers.Activation('relu')(x)\n",
    "        \n",
    "        x_skip = tf.keras.layers.Conv2D(filter, (1, 1), strides=(2, 2))(x_skip)\n",
    "        \n",
    "        x = tf.keras.layers.Add()([x, x_skip])\n",
    "        x = tf.keras.layers.Activation('relu')(x)\n",
    "        \n",
    "        return x\n",
    "    \n",
    "    def __call__(self, shape=(32, 32, 3)):\n",
    "        x_input = tf.keras.layers.Input(shape) \n",
    "        x = tf.keras.layers.ZeroPadding2D((3, 3))(x_input) \n",
    "        \n",
    "        x = tf.keras.layers.Conv2D(64, kernel_size=7, strides=2, padding='same')(x) \n",
    "        x = tf.keras.layers.BatchNormalization()(x)\n",
    "        x = tf.keras.layers.Activation('relu')(x)\n",
    "        x = tf.keras.layers.MaxPool2D(pool_size=3, strides=2, padding='same')(x)\n",
    "        \n",
    "        block_layers = [3, 4, 6, 3]\n",
    "        filter_size = 64\n",
    "        \n",
    "        for i in range(4):\n",
    "            if i == 0:\n",
    "                for j in range(block_layers[i]):\n",
    "                    x = self.identity_block(x, filter_size)\n",
    "                    \n",
    "            else:\n",
    "                filter_size = filter_size * 2\n",
    "                x = self.convolutional_block(x, filter_size)\n",
    "                \n",
    "                for j in range(block_layers[i] - 1):\n",
    "                    x = self.identity_block(x, filter_size)\n",
    "                    \n",
    "        x = tf.keras.layers.AveragePooling2D((2, 2), padding='same')(x)\n",
    "        x = tf.keras.layers.Flatten()(x)\n",
    "        \n",
    "        return tf.keras.models.Model(inputs=x_input, outputs=x, name='ResNet34')\n",
    "    \n",
    "        "
   ],
   "outputs": [],
   "metadata": {}
  },
  {
   "cell_type": "code",
   "execution_count": 58,
   "source": [
    "def build_twin() -> tf.keras.Model:\n",
    "    n_dense_neurons = 5000 \n",
    "    \n",
    "    resnet = ResNet34()()\n",
    "    last_layer = resnet.layers[-1].output\n",
    "    \n",
    "    n_layers = 2 \n",
    "    for i in range(n_layers):\n",
    "        dense = tf.keras.layers.Dense(n_dense_neurons, name=f'projector_dense_{i}')\n",
    "        \n",
    "        if i == 0:\n",
    "            x = dense(last_layer)\n",
    "        else:\n",
    "            x = dense(x)\n",
    "        x = tf.keras.layers.BatchNormalization(name=f'projector_bn+{i}')(x)\n",
    "        \n",
    "        x = tf.keras.layers.ReLU(name=f'projector_relu_{i}')(x)\n",
    "        \n",
    "    x = tf.keras.layers.Dense(n_dense_neurons, name=f'projector_dense_{n_layers}')\n",
    "    \n",
    "    return tf.keras.Model(resnet.input, x)"
   ],
   "outputs": [],
   "metadata": {}
  },
  {
   "cell_type": "code",
   "execution_count": 59,
   "source": [
    "class BarlowModel(tf.keras.Model):\n",
    "    def __init__(self): \n",
    "        super(BarlowModel, self).__init__()\n",
    "        \n",
    "        self.model = build_twin() \n",
    "        self.loss_tracker = tf.keras.metrics.Mean(name='loss')\n",
    "        \n",
    "        @property\n",
    "        def metrics(self):\n",
    "            return [self.loss_tracker]\n",
    "        \n",
    "        def train_step(self, batch : tf.Tensor) -> tf.Tensor:\n",
    "            y_a, y_b = batch\n",
    "            \n",
    "            with tf.GradientTape() as tape:\n",
    "                z_a, z_b = self.model(y_a, training=True), self.model(y_b, training=True)\n",
    "                loss = self.loss(z_a, z_b)\n",
    "                \n",
    "            gradients = tape.gradient(loss, self.model.trainable_variables) \n",
    "            self.optimizer.apply_gradients(zip(gradients, self.model.trainable_variables))\n",
    "            self.loss_tracker.update_state(loss)\n",
    "            \n",
    "            return {'loss' : self.loss_tracker.result()}\n",
    "            "
   ],
   "outputs": [],
   "metadata": {}
  },
  {
   "cell_type": "code",
   "execution_count": 60,
   "source": [
    "bm = BarlowModel() \n",
    "\n",
    "optimizer = tfa.optimizers.LAMB()\n",
    "loss = BarlowLoss(N_BATCH)\n",
    "\n",
    "bm.compile(optimizer=optimizer, loss=loss)\n",
    "\n",
    "hist = bm.fit(augment_versions, epoch=1)"
   ],
   "outputs": [
    {
     "output_type": "error",
     "ename": "ValueError",
     "evalue": "Operands could not be broadcast together with shapes (10, 10, 128) (5, 5, 128)",
     "traceback": [
      "\u001b[0;31m---------------------------------------------------------------------------\u001b[0m",
      "\u001b[0;31mValueError\u001b[0m                                Traceback (most recent call last)",
      "\u001b[0;32m<ipython-input-60-5c396e979b71>\u001b[0m in \u001b[0;36m<module>\u001b[0;34m\u001b[0m\n\u001b[0;32m----> 1\u001b[0;31m \u001b[0mbm\u001b[0m \u001b[0;34m=\u001b[0m \u001b[0mBarlowModel\u001b[0m\u001b[0;34m(\u001b[0m\u001b[0;34m)\u001b[0m\u001b[0;34m\u001b[0m\u001b[0;34m\u001b[0m\u001b[0m\n\u001b[0m\u001b[1;32m      2\u001b[0m \u001b[0;34m\u001b[0m\u001b[0m\n\u001b[1;32m      3\u001b[0m \u001b[0moptimizer\u001b[0m \u001b[0;34m=\u001b[0m \u001b[0mtfa\u001b[0m\u001b[0;34m.\u001b[0m\u001b[0moptimizers\u001b[0m\u001b[0;34m.\u001b[0m\u001b[0mLAMB\u001b[0m\u001b[0;34m(\u001b[0m\u001b[0;34m)\u001b[0m\u001b[0;34m\u001b[0m\u001b[0;34m\u001b[0m\u001b[0m\n\u001b[1;32m      4\u001b[0m \u001b[0mloss\u001b[0m \u001b[0;34m=\u001b[0m \u001b[0mBarlowLoss\u001b[0m\u001b[0;34m(\u001b[0m\u001b[0mN_BATCH\u001b[0m\u001b[0;34m)\u001b[0m\u001b[0;34m\u001b[0m\u001b[0;34m\u001b[0m\u001b[0m\n\u001b[1;32m      5\u001b[0m \u001b[0;34m\u001b[0m\u001b[0m\n",
      "\u001b[0;32m<ipython-input-59-7925e642d9cf>\u001b[0m in \u001b[0;36m__init__\u001b[0;34m(self)\u001b[0m\n\u001b[1;32m      3\u001b[0m         \u001b[0msuper\u001b[0m\u001b[0;34m(\u001b[0m\u001b[0mBarlowModel\u001b[0m\u001b[0;34m,\u001b[0m \u001b[0mself\u001b[0m\u001b[0;34m)\u001b[0m\u001b[0;34m.\u001b[0m\u001b[0m__init__\u001b[0m\u001b[0;34m(\u001b[0m\u001b[0;34m)\u001b[0m\u001b[0;34m\u001b[0m\u001b[0;34m\u001b[0m\u001b[0m\n\u001b[1;32m      4\u001b[0m \u001b[0;34m\u001b[0m\u001b[0m\n\u001b[0;32m----> 5\u001b[0;31m         \u001b[0mself\u001b[0m\u001b[0;34m.\u001b[0m\u001b[0mmodel\u001b[0m \u001b[0;34m=\u001b[0m \u001b[0mbuild_twin\u001b[0m\u001b[0;34m(\u001b[0m\u001b[0;34m)\u001b[0m\u001b[0;34m\u001b[0m\u001b[0;34m\u001b[0m\u001b[0m\n\u001b[0m\u001b[1;32m      6\u001b[0m         \u001b[0mself\u001b[0m\u001b[0;34m.\u001b[0m\u001b[0mloss_tracker\u001b[0m \u001b[0;34m=\u001b[0m \u001b[0mtf\u001b[0m\u001b[0;34m.\u001b[0m\u001b[0mkeras\u001b[0m\u001b[0;34m.\u001b[0m\u001b[0mmetrics\u001b[0m\u001b[0;34m.\u001b[0m\u001b[0mMean\u001b[0m\u001b[0;34m(\u001b[0m\u001b[0mname\u001b[0m\u001b[0;34m=\u001b[0m\u001b[0;34m'loss'\u001b[0m\u001b[0;34m)\u001b[0m\u001b[0;34m\u001b[0m\u001b[0;34m\u001b[0m\u001b[0m\n\u001b[1;32m      7\u001b[0m \u001b[0;34m\u001b[0m\u001b[0m\n",
      "\u001b[0;32m<ipython-input-58-817e96dedf40>\u001b[0m in \u001b[0;36mbuild_twin\u001b[0;34m()\u001b[0m\n\u001b[1;32m      2\u001b[0m     \u001b[0mn_dense_neurons\u001b[0m \u001b[0;34m=\u001b[0m \u001b[0;36m5000\u001b[0m\u001b[0;34m\u001b[0m\u001b[0;34m\u001b[0m\u001b[0m\n\u001b[1;32m      3\u001b[0m \u001b[0;34m\u001b[0m\u001b[0m\n\u001b[0;32m----> 4\u001b[0;31m     \u001b[0mresnet\u001b[0m \u001b[0;34m=\u001b[0m \u001b[0mResNet34\u001b[0m\u001b[0;34m(\u001b[0m\u001b[0;34m)\u001b[0m\u001b[0;34m(\u001b[0m\u001b[0;34m)\u001b[0m\u001b[0;34m\u001b[0m\u001b[0;34m\u001b[0m\u001b[0m\n\u001b[0m\u001b[1;32m      5\u001b[0m     \u001b[0mlast_layer\u001b[0m \u001b[0;34m=\u001b[0m \u001b[0mresnet\u001b[0m\u001b[0;34m.\u001b[0m\u001b[0mlayers\u001b[0m\u001b[0;34m[\u001b[0m\u001b[0;34m-\u001b[0m\u001b[0;36m1\u001b[0m\u001b[0;34m]\u001b[0m\u001b[0;34m.\u001b[0m\u001b[0moutput\u001b[0m\u001b[0;34m\u001b[0m\u001b[0;34m\u001b[0m\u001b[0m\n\u001b[1;32m      6\u001b[0m \u001b[0;34m\u001b[0m\u001b[0m\n",
      "\u001b[0;32m<ipython-input-57-fb0e918c0920>\u001b[0m in \u001b[0;36m__call__\u001b[0;34m(self, shape)\u001b[0m\n\u001b[1;32m     53\u001b[0m             \u001b[0;32melse\u001b[0m\u001b[0;34m:\u001b[0m\u001b[0;34m\u001b[0m\u001b[0;34m\u001b[0m\u001b[0m\n\u001b[1;32m     54\u001b[0m                 \u001b[0mfilter_size\u001b[0m \u001b[0;34m=\u001b[0m \u001b[0mfilter_size\u001b[0m \u001b[0;34m*\u001b[0m \u001b[0;36m2\u001b[0m\u001b[0;34m\u001b[0m\u001b[0;34m\u001b[0m\u001b[0m\n\u001b[0;32m---> 55\u001b[0;31m                 \u001b[0mx\u001b[0m \u001b[0;34m=\u001b[0m \u001b[0mself\u001b[0m\u001b[0;34m.\u001b[0m\u001b[0mconvolutional_block\u001b[0m\u001b[0;34m(\u001b[0m\u001b[0mx\u001b[0m\u001b[0;34m,\u001b[0m \u001b[0mfilter_size\u001b[0m\u001b[0;34m)\u001b[0m\u001b[0;34m\u001b[0m\u001b[0;34m\u001b[0m\u001b[0m\n\u001b[0m\u001b[1;32m     56\u001b[0m \u001b[0;34m\u001b[0m\u001b[0m\n\u001b[1;32m     57\u001b[0m                 \u001b[0;32mfor\u001b[0m \u001b[0mj\u001b[0m \u001b[0;32min\u001b[0m \u001b[0mrange\u001b[0m\u001b[0;34m(\u001b[0m\u001b[0mblock_layers\u001b[0m\u001b[0;34m[\u001b[0m\u001b[0mi\u001b[0m\u001b[0;34m]\u001b[0m \u001b[0;34m-\u001b[0m \u001b[0;36m1\u001b[0m\u001b[0;34m)\u001b[0m\u001b[0;34m:\u001b[0m\u001b[0;34m\u001b[0m\u001b[0;34m\u001b[0m\u001b[0m\n",
      "\u001b[0;32m<ipython-input-57-fb0e918c0920>\u001b[0m in \u001b[0;36mconvolutional_block\u001b[0;34m(self, x, filter)\u001b[0m\n\u001b[1;32m     29\u001b[0m         \u001b[0mx_skip\u001b[0m \u001b[0;34m=\u001b[0m \u001b[0mtf\u001b[0m\u001b[0;34m.\u001b[0m\u001b[0mkeras\u001b[0m\u001b[0;34m.\u001b[0m\u001b[0mlayers\u001b[0m\u001b[0;34m.\u001b[0m\u001b[0mConv2D\u001b[0m\u001b[0;34m(\u001b[0m\u001b[0mfilter\u001b[0m\u001b[0;34m,\u001b[0m \u001b[0;34m(\u001b[0m\u001b[0;36m1\u001b[0m\u001b[0;34m,\u001b[0m \u001b[0;36m1\u001b[0m\u001b[0;34m)\u001b[0m\u001b[0;34m,\u001b[0m \u001b[0mstrides\u001b[0m\u001b[0;34m=\u001b[0m\u001b[0;34m(\u001b[0m\u001b[0;36m2\u001b[0m\u001b[0;34m,\u001b[0m \u001b[0;36m2\u001b[0m\u001b[0;34m)\u001b[0m\u001b[0;34m)\u001b[0m\u001b[0;34m(\u001b[0m\u001b[0mx_skip\u001b[0m\u001b[0;34m)\u001b[0m\u001b[0;34m\u001b[0m\u001b[0;34m\u001b[0m\u001b[0m\n\u001b[1;32m     30\u001b[0m \u001b[0;34m\u001b[0m\u001b[0m\n\u001b[0;32m---> 31\u001b[0;31m         \u001b[0mx\u001b[0m \u001b[0;34m=\u001b[0m \u001b[0mtf\u001b[0m\u001b[0;34m.\u001b[0m\u001b[0mkeras\u001b[0m\u001b[0;34m.\u001b[0m\u001b[0mlayers\u001b[0m\u001b[0;34m.\u001b[0m\u001b[0mAdd\u001b[0m\u001b[0;34m(\u001b[0m\u001b[0;34m)\u001b[0m\u001b[0;34m(\u001b[0m\u001b[0;34m[\u001b[0m\u001b[0mx\u001b[0m\u001b[0;34m,\u001b[0m \u001b[0mx_skip\u001b[0m\u001b[0;34m]\u001b[0m\u001b[0;34m)\u001b[0m\u001b[0;34m\u001b[0m\u001b[0;34m\u001b[0m\u001b[0m\n\u001b[0m\u001b[1;32m     32\u001b[0m         \u001b[0mx\u001b[0m \u001b[0;34m=\u001b[0m \u001b[0mtf\u001b[0m\u001b[0;34m.\u001b[0m\u001b[0mkeras\u001b[0m\u001b[0;34m.\u001b[0m\u001b[0mlayers\u001b[0m\u001b[0;34m.\u001b[0m\u001b[0mActivation\u001b[0m\u001b[0;34m(\u001b[0m\u001b[0;34m'relu'\u001b[0m\u001b[0;34m)\u001b[0m\u001b[0;34m(\u001b[0m\u001b[0mx\u001b[0m\u001b[0;34m)\u001b[0m\u001b[0;34m\u001b[0m\u001b[0;34m\u001b[0m\u001b[0m\n\u001b[1;32m     33\u001b[0m \u001b[0;34m\u001b[0m\u001b[0m\n",
      "\u001b[0;32m/opt/anaconda3/lib/python3.8/site-packages/keras/engine/base_layer.py\u001b[0m in \u001b[0;36m__call__\u001b[0;34m(self, *args, **kwargs)\u001b[0m\n\u001b[1;32m    974\u001b[0m     \u001b[0;31m# >> model = tf.keras.Model(inputs, outputs)\u001b[0m\u001b[0;34m\u001b[0m\u001b[0;34m\u001b[0m\u001b[0;34m\u001b[0m\u001b[0m\n\u001b[1;32m    975\u001b[0m     \u001b[0;32mif\u001b[0m \u001b[0m_in_functional_construction_mode\u001b[0m\u001b[0;34m(\u001b[0m\u001b[0mself\u001b[0m\u001b[0;34m,\u001b[0m \u001b[0minputs\u001b[0m\u001b[0;34m,\u001b[0m \u001b[0margs\u001b[0m\u001b[0;34m,\u001b[0m \u001b[0mkwargs\u001b[0m\u001b[0;34m,\u001b[0m \u001b[0minput_list\u001b[0m\u001b[0;34m)\u001b[0m\u001b[0;34m:\u001b[0m\u001b[0;34m\u001b[0m\u001b[0;34m\u001b[0m\u001b[0m\n\u001b[0;32m--> 976\u001b[0;31m       return self._functional_construction_call(inputs, args, kwargs,\n\u001b[0m\u001b[1;32m    977\u001b[0m                                                 input_list)\n\u001b[1;32m    978\u001b[0m \u001b[0;34m\u001b[0m\u001b[0m\n",
      "\u001b[0;32m/opt/anaconda3/lib/python3.8/site-packages/keras/engine/base_layer.py\u001b[0m in \u001b[0;36m_functional_construction_call\u001b[0;34m(self, inputs, args, kwargs, input_list)\u001b[0m\n\u001b[1;32m   1112\u001b[0m         layer=self, inputs=inputs, build_graph=True, training=training_value):\n\u001b[1;32m   1113\u001b[0m       \u001b[0;31m# Check input assumptions set after layer building, e.g. input shape.\u001b[0m\u001b[0;34m\u001b[0m\u001b[0;34m\u001b[0m\u001b[0;34m\u001b[0m\u001b[0m\n\u001b[0;32m-> 1114\u001b[0;31m       outputs = self._keras_tensor_symbolic_call(\n\u001b[0m\u001b[1;32m   1115\u001b[0m           inputs, input_masks, args, kwargs)\n\u001b[1;32m   1116\u001b[0m \u001b[0;34m\u001b[0m\u001b[0m\n",
      "\u001b[0;32m/opt/anaconda3/lib/python3.8/site-packages/keras/engine/base_layer.py\u001b[0m in \u001b[0;36m_keras_tensor_symbolic_call\u001b[0;34m(self, inputs, input_masks, args, kwargs)\u001b[0m\n\u001b[1;32m    846\u001b[0m       \u001b[0;32mreturn\u001b[0m \u001b[0mtf\u001b[0m\u001b[0;34m.\u001b[0m\u001b[0mnest\u001b[0m\u001b[0;34m.\u001b[0m\u001b[0mmap_structure\u001b[0m\u001b[0;34m(\u001b[0m\u001b[0mkeras_tensor\u001b[0m\u001b[0;34m.\u001b[0m\u001b[0mKerasTensor\u001b[0m\u001b[0;34m,\u001b[0m \u001b[0moutput_signature\u001b[0m\u001b[0;34m)\u001b[0m\u001b[0;34m\u001b[0m\u001b[0;34m\u001b[0m\u001b[0m\n\u001b[1;32m    847\u001b[0m     \u001b[0;32melse\u001b[0m\u001b[0;34m:\u001b[0m\u001b[0;34m\u001b[0m\u001b[0;34m\u001b[0m\u001b[0m\n\u001b[0;32m--> 848\u001b[0;31m       \u001b[0;32mreturn\u001b[0m \u001b[0mself\u001b[0m\u001b[0;34m.\u001b[0m\u001b[0m_infer_output_signature\u001b[0m\u001b[0;34m(\u001b[0m\u001b[0minputs\u001b[0m\u001b[0;34m,\u001b[0m \u001b[0margs\u001b[0m\u001b[0;34m,\u001b[0m \u001b[0mkwargs\u001b[0m\u001b[0;34m,\u001b[0m \u001b[0minput_masks\u001b[0m\u001b[0;34m)\u001b[0m\u001b[0;34m\u001b[0m\u001b[0;34m\u001b[0m\u001b[0m\n\u001b[0m\u001b[1;32m    849\u001b[0m \u001b[0;34m\u001b[0m\u001b[0m\n\u001b[1;32m    850\u001b[0m   \u001b[0;32mdef\u001b[0m \u001b[0m_infer_output_signature\u001b[0m\u001b[0;34m(\u001b[0m\u001b[0mself\u001b[0m\u001b[0;34m,\u001b[0m \u001b[0minputs\u001b[0m\u001b[0;34m,\u001b[0m \u001b[0margs\u001b[0m\u001b[0;34m,\u001b[0m \u001b[0mkwargs\u001b[0m\u001b[0;34m,\u001b[0m \u001b[0minput_masks\u001b[0m\u001b[0;34m)\u001b[0m\u001b[0;34m:\u001b[0m\u001b[0;34m\u001b[0m\u001b[0;34m\u001b[0m\u001b[0m\n",
      "\u001b[0;32m/opt/anaconda3/lib/python3.8/site-packages/keras/engine/base_layer.py\u001b[0m in \u001b[0;36m_infer_output_signature\u001b[0;34m(self, inputs, args, kwargs, input_masks)\u001b[0m\n\u001b[1;32m    884\u001b[0m           \u001b[0;31m# overridden).\u001b[0m\u001b[0;34m\u001b[0m\u001b[0;34m\u001b[0m\u001b[0;34m\u001b[0m\u001b[0m\n\u001b[1;32m    885\u001b[0m           \u001b[0;31m# TODO(kaftan): do we maybe_build here, or have we already done it?\u001b[0m\u001b[0;34m\u001b[0m\u001b[0;34m\u001b[0m\u001b[0;34m\u001b[0m\u001b[0m\n\u001b[0;32m--> 886\u001b[0;31m           \u001b[0mself\u001b[0m\u001b[0;34m.\u001b[0m\u001b[0m_maybe_build\u001b[0m\u001b[0;34m(\u001b[0m\u001b[0minputs\u001b[0m\u001b[0;34m)\u001b[0m\u001b[0;34m\u001b[0m\u001b[0;34m\u001b[0m\u001b[0m\n\u001b[0m\u001b[1;32m    887\u001b[0m           \u001b[0minputs\u001b[0m \u001b[0;34m=\u001b[0m \u001b[0mself\u001b[0m\u001b[0;34m.\u001b[0m\u001b[0m_maybe_cast_inputs\u001b[0m\u001b[0;34m(\u001b[0m\u001b[0minputs\u001b[0m\u001b[0;34m)\u001b[0m\u001b[0;34m\u001b[0m\u001b[0;34m\u001b[0m\u001b[0m\n\u001b[1;32m    888\u001b[0m           \u001b[0moutputs\u001b[0m \u001b[0;34m=\u001b[0m \u001b[0mcall_fn\u001b[0m\u001b[0;34m(\u001b[0m\u001b[0minputs\u001b[0m\u001b[0;34m,\u001b[0m \u001b[0;34m*\u001b[0m\u001b[0margs\u001b[0m\u001b[0;34m,\u001b[0m \u001b[0;34m**\u001b[0m\u001b[0mkwargs\u001b[0m\u001b[0;34m)\u001b[0m\u001b[0;34m\u001b[0m\u001b[0;34m\u001b[0m\u001b[0m\n",
      "\u001b[0;32m/opt/anaconda3/lib/python3.8/site-packages/keras/engine/base_layer.py\u001b[0m in \u001b[0;36m_maybe_build\u001b[0;34m(self, inputs)\u001b[0m\n\u001b[1;32m   2657\u001b[0m         \u001b[0;31m# operations.\u001b[0m\u001b[0;34m\u001b[0m\u001b[0;34m\u001b[0m\u001b[0;34m\u001b[0m\u001b[0m\n\u001b[1;32m   2658\u001b[0m         \u001b[0;32mwith\u001b[0m \u001b[0mtf_utils\u001b[0m\u001b[0;34m.\u001b[0m\u001b[0mmaybe_init_scope\u001b[0m\u001b[0;34m(\u001b[0m\u001b[0mself\u001b[0m\u001b[0;34m)\u001b[0m\u001b[0;34m:\u001b[0m\u001b[0;34m\u001b[0m\u001b[0;34m\u001b[0m\u001b[0m\n\u001b[0;32m-> 2659\u001b[0;31m           \u001b[0mself\u001b[0m\u001b[0;34m.\u001b[0m\u001b[0mbuild\u001b[0m\u001b[0;34m(\u001b[0m\u001b[0minput_shapes\u001b[0m\u001b[0;34m)\u001b[0m  \u001b[0;31m# pylint:disable=not-callable\u001b[0m\u001b[0;34m\u001b[0m\u001b[0;34m\u001b[0m\u001b[0m\n\u001b[0m\u001b[1;32m   2660\u001b[0m       \u001b[0;31m# We must set also ensure that the layer is marked as built, and the build\u001b[0m\u001b[0;34m\u001b[0m\u001b[0;34m\u001b[0m\u001b[0;34m\u001b[0m\u001b[0m\n\u001b[1;32m   2661\u001b[0m       \u001b[0;31m# shape is stored since user defined build functions may not be calling\u001b[0m\u001b[0;34m\u001b[0m\u001b[0;34m\u001b[0m\u001b[0;34m\u001b[0m\u001b[0m\n",
      "\u001b[0;32m/opt/anaconda3/lib/python3.8/site-packages/keras/utils/tf_utils.py\u001b[0m in \u001b[0;36mwrapper\u001b[0;34m(instance, input_shape)\u001b[0m\n\u001b[1;32m    257\u001b[0m     \u001b[0;32mif\u001b[0m \u001b[0minput_shape\u001b[0m \u001b[0;32mis\u001b[0m \u001b[0;32mnot\u001b[0m \u001b[0;32mNone\u001b[0m\u001b[0;34m:\u001b[0m\u001b[0;34m\u001b[0m\u001b[0;34m\u001b[0m\u001b[0m\n\u001b[1;32m    258\u001b[0m       \u001b[0minput_shape\u001b[0m \u001b[0;34m=\u001b[0m \u001b[0mconvert_shapes\u001b[0m\u001b[0;34m(\u001b[0m\u001b[0minput_shape\u001b[0m\u001b[0;34m,\u001b[0m \u001b[0mto_tuples\u001b[0m\u001b[0;34m=\u001b[0m\u001b[0;32mTrue\u001b[0m\u001b[0;34m)\u001b[0m\u001b[0;34m\u001b[0m\u001b[0;34m\u001b[0m\u001b[0m\n\u001b[0;32m--> 259\u001b[0;31m     \u001b[0moutput_shape\u001b[0m \u001b[0;34m=\u001b[0m \u001b[0mfn\u001b[0m\u001b[0;34m(\u001b[0m\u001b[0minstance\u001b[0m\u001b[0;34m,\u001b[0m \u001b[0minput_shape\u001b[0m\u001b[0;34m)\u001b[0m\u001b[0;34m\u001b[0m\u001b[0;34m\u001b[0m\u001b[0m\n\u001b[0m\u001b[1;32m    260\u001b[0m     \u001b[0;31m# Return shapes from `fn` as TensorShapes.\u001b[0m\u001b[0;34m\u001b[0m\u001b[0;34m\u001b[0m\u001b[0;34m\u001b[0m\u001b[0m\n\u001b[1;32m    261\u001b[0m     \u001b[0;32mif\u001b[0m \u001b[0moutput_shape\u001b[0m \u001b[0;32mis\u001b[0m \u001b[0;32mnot\u001b[0m \u001b[0;32mNone\u001b[0m\u001b[0;34m:\u001b[0m\u001b[0;34m\u001b[0m\u001b[0;34m\u001b[0m\u001b[0m\n",
      "\u001b[0;32m/opt/anaconda3/lib/python3.8/site-packages/keras/layers/merge.py\u001b[0m in \u001b[0;36mbuild\u001b[0;34m(self, input_shape)\u001b[0m\n\u001b[1;32m    105\u001b[0m       \u001b[0;32melse\u001b[0m\u001b[0;34m:\u001b[0m\u001b[0;34m\u001b[0m\u001b[0;34m\u001b[0m\u001b[0m\n\u001b[1;32m    106\u001b[0m         \u001b[0mshape\u001b[0m \u001b[0;34m=\u001b[0m \u001b[0minput_shape\u001b[0m\u001b[0;34m[\u001b[0m\u001b[0mi\u001b[0m\u001b[0;34m]\u001b[0m\u001b[0;34m[\u001b[0m\u001b[0;36m1\u001b[0m\u001b[0;34m:\u001b[0m\u001b[0;34m]\u001b[0m\u001b[0;34m\u001b[0m\u001b[0;34m\u001b[0m\u001b[0m\n\u001b[0;32m--> 107\u001b[0;31m       \u001b[0moutput_shape\u001b[0m \u001b[0;34m=\u001b[0m \u001b[0mself\u001b[0m\u001b[0;34m.\u001b[0m\u001b[0m_compute_elemwise_op_output_shape\u001b[0m\u001b[0;34m(\u001b[0m\u001b[0moutput_shape\u001b[0m\u001b[0;34m,\u001b[0m \u001b[0mshape\u001b[0m\u001b[0;34m)\u001b[0m\u001b[0;34m\u001b[0m\u001b[0;34m\u001b[0m\u001b[0m\n\u001b[0m\u001b[1;32m    108\u001b[0m     \u001b[0;31m# If the inputs have different ranks, we have to reshape them\u001b[0m\u001b[0;34m\u001b[0m\u001b[0;34m\u001b[0m\u001b[0;34m\u001b[0m\u001b[0m\n\u001b[1;32m    109\u001b[0m     \u001b[0;31m# to make them broadcastable.\u001b[0m\u001b[0;34m\u001b[0m\u001b[0;34m\u001b[0m\u001b[0;34m\u001b[0m\u001b[0m\n",
      "\u001b[0;32m/opt/anaconda3/lib/python3.8/site-packages/keras/layers/merge.py\u001b[0m in \u001b[0;36m_compute_elemwise_op_output_shape\u001b[0;34m(self, shape1, shape2)\u001b[0m\n\u001b[1;32m     76\u001b[0m       \u001b[0;32melse\u001b[0m\u001b[0;34m:\u001b[0m\u001b[0;34m\u001b[0m\u001b[0;34m\u001b[0m\u001b[0m\n\u001b[1;32m     77\u001b[0m         \u001b[0;32mif\u001b[0m \u001b[0mi\u001b[0m \u001b[0;34m!=\u001b[0m \u001b[0mj\u001b[0m\u001b[0;34m:\u001b[0m\u001b[0;34m\u001b[0m\u001b[0;34m\u001b[0m\u001b[0m\n\u001b[0;32m---> 78\u001b[0;31m           raise ValueError(\n\u001b[0m\u001b[1;32m     79\u001b[0m               \u001b[0;34m'Operands could not be broadcast '\u001b[0m\u001b[0;34m\u001b[0m\u001b[0;34m\u001b[0m\u001b[0m\n\u001b[1;32m     80\u001b[0m               'together with shapes ' + str(shape1) + ' ' + str(shape2))\n",
      "\u001b[0;31mValueError\u001b[0m: Operands could not be broadcast together with shapes (10, 10, 128) (5, 5, 128)"
     ]
    }
   ],
   "metadata": {}
  },
  {
   "cell_type": "code",
   "execution_count": null,
   "source": [],
   "outputs": [],
   "metadata": {}
  }
 ],
 "metadata": {
  "orig_nbformat": 4,
  "language_info": {
   "name": "python",
   "version": "3.8.8",
   "mimetype": "text/x-python",
   "codemirror_mode": {
    "name": "ipython",
    "version": 3
   },
   "pygments_lexer": "ipython3",
   "nbconvert_exporter": "python",
   "file_extension": ".py"
  },
  "kernelspec": {
   "name": "python3",
   "display_name": "Python 3.8.8 64-bit ('base': conda)"
  },
  "interpreter": {
   "hash": "dca0ade3e726a953b501b15e8e990130d2b7799f14cfd9f4271676035ebe5511"
  }
 },
 "nbformat": 4,
 "nbformat_minor": 2
}