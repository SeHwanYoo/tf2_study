{
 "cells": [
  {
   "cell_type": "code",
   "execution_count": 1,
   "id": "856802e1",
   "metadata": {},
   "outputs": [],
   "source": [
    "!pip uninstall opencv-python\n",
    "!pip uninstall opencv-contrib-python\n"
   ]
  },
  {
   "cell_type": "code",
   "execution_count": null,
   "id": "da1be813",
   "metadata": {},
   "outputs": [],
   "source": [
    "\n",
    "\n",
    "!pip install opencv-contrib-python\n",
    "!pip install opencv-python"
   ]
  },
  {
   "cell_type": "code",
   "execution_count": 1,
   "id": "30f21d50",
   "metadata": {},
   "outputs": [],
   "source": [
    "import pandas as pd\n",
    "import seaborn as sns\n",
    "import matplotlib.pyplot as plt\n",
    "\n",
    "sns.set_style('whitegrid')"
   ]
  },
  {
   "cell_type": "code",
   "execution_count": 2,
   "id": "a60a4e4d",
   "metadata": {},
   "outputs": [
    {
     "data": {
      "text/html": [
       "<div>\n",
       "<style scoped>\n",
       "    .dataframe tbody tr th:only-of-type {\n",
       "        vertical-align: middle;\n",
       "    }\n",
       "\n",
       "    .dataframe tbody tr th {\n",
       "        vertical-align: top;\n",
       "    }\n",
       "\n",
       "    .dataframe thead th {\n",
       "        text-align: right;\n",
       "    }\n",
       "</style>\n",
       "<table border=\"1\" class=\"dataframe\">\n",
       "  <thead>\n",
       "    <tr style=\"text-align: right;\">\n",
       "      <th></th>\n",
       "      <th>file_name</th>\n",
       "      <th>id</th>\n",
       "      <th>species</th>\n",
       "      <th>breed</th>\n",
       "    </tr>\n",
       "  </thead>\n",
       "  <tbody>\n",
       "    <tr>\n",
       "      <th>0</th>\n",
       "      <td>Abyssinian_100</td>\n",
       "      <td>1</td>\n",
       "      <td>1</td>\n",
       "      <td>1</td>\n",
       "    </tr>\n",
       "    <tr>\n",
       "      <th>1</th>\n",
       "      <td>Abyssinian_101</td>\n",
       "      <td>1</td>\n",
       "      <td>1</td>\n",
       "      <td>1</td>\n",
       "    </tr>\n",
       "    <tr>\n",
       "      <th>2</th>\n",
       "      <td>Abyssinian_102</td>\n",
       "      <td>1</td>\n",
       "      <td>1</td>\n",
       "      <td>1</td>\n",
       "    </tr>\n",
       "    <tr>\n",
       "      <th>3</th>\n",
       "      <td>Abyssinian_103</td>\n",
       "      <td>1</td>\n",
       "      <td>1</td>\n",
       "      <td>1</td>\n",
       "    </tr>\n",
       "    <tr>\n",
       "      <th>4</th>\n",
       "      <td>Abyssinian_104</td>\n",
       "      <td>1</td>\n",
       "      <td>1</td>\n",
       "      <td>1</td>\n",
       "    </tr>\n",
       "    <tr>\n",
       "      <th>...</th>\n",
       "      <td>...</td>\n",
       "      <td>...</td>\n",
       "      <td>...</td>\n",
       "      <td>...</td>\n",
       "    </tr>\n",
       "    <tr>\n",
       "      <th>7344</th>\n",
       "      <td>yorkshire_terrier_96</td>\n",
       "      <td>37</td>\n",
       "      <td>2</td>\n",
       "      <td>25</td>\n",
       "    </tr>\n",
       "    <tr>\n",
       "      <th>7345</th>\n",
       "      <td>yorkshire_terrier_97</td>\n",
       "      <td>37</td>\n",
       "      <td>2</td>\n",
       "      <td>25</td>\n",
       "    </tr>\n",
       "    <tr>\n",
       "      <th>7346</th>\n",
       "      <td>yorkshire_terrier_98</td>\n",
       "      <td>37</td>\n",
       "      <td>2</td>\n",
       "      <td>25</td>\n",
       "    </tr>\n",
       "    <tr>\n",
       "      <th>7347</th>\n",
       "      <td>yorkshire_terrier_99</td>\n",
       "      <td>37</td>\n",
       "      <td>2</td>\n",
       "      <td>25</td>\n",
       "    </tr>\n",
       "    <tr>\n",
       "      <th>7348</th>\n",
       "      <td>yorkshire_terrier_9</td>\n",
       "      <td>37</td>\n",
       "      <td>2</td>\n",
       "      <td>25</td>\n",
       "    </tr>\n",
       "  </tbody>\n",
       "</table>\n",
       "<p>7349 rows × 4 columns</p>\n",
       "</div>"
      ],
      "text/plain": [
       "                 file_name  id  species  breed\n",
       "0           Abyssinian_100   1        1      1\n",
       "1           Abyssinian_101   1        1      1\n",
       "2           Abyssinian_102   1        1      1\n",
       "3           Abyssinian_103   1        1      1\n",
       "4           Abyssinian_104   1        1      1\n",
       "...                    ...  ..      ...    ...\n",
       "7344  yorkshire_terrier_96  37        2     25\n",
       "7345  yorkshire_terrier_97  37        2     25\n",
       "7346  yorkshire_terrier_98  37        2     25\n",
       "7347  yorkshire_terrier_99  37        2     25\n",
       "7348   yorkshire_terrier_9  37        2     25\n",
       "\n",
       "[7349 rows x 4 columns]"
      ]
     },
     "execution_count": 2,
     "metadata": {},
     "output_type": "execute_result"
    }
   ],
   "source": [
    "#Image CLASS-ID SPECIES BREED ID\n",
    "#ID: 1:37 Class ids\n",
    "#SPECIES: 1:Cat 2:Dog\n",
    "#BREED ID: 1-25:Cat 1:12:Dog\n",
    "#All images with 1st letter as captial are cat images\n",
    "#images with small first letter are dog images\n",
    "\n",
    "df = pd.read_csv('./data/annotations/list.txt', skiprows=6, delimiter=' ', header=None)\n",
    "df.columns = ['file_name', 'id', 'species', 'breed']\n",
    "df"
   ]
  },
  {
   "cell_type": "code",
   "execution_count": 3,
   "id": "8b215e3d",
   "metadata": {},
   "outputs": [
    {
     "data": {
      "text/plain": [
       "1    2371\n",
       "2    4978\n",
       "Name: species, dtype: int64"
      ]
     },
     "execution_count": 3,
     "metadata": {},
     "output_type": "execute_result"
    }
   ],
   "source": [
    "df['species'].value_counts().sort_index()"
   ]
  },
  {
   "cell_type": "code",
   "execution_count": 4,
   "id": "edbe52f7",
   "metadata": {},
   "outputs": [
    {
     "name": "stdout",
     "output_type": "stream",
     "text": [
      "1    2371\n",
      "2    4978\n",
      "Name: species, dtype: int64\n"
     ]
    }
   ],
   "source": [
    "print(df['species'].value_counts().sort_index())"
   ]
  },
  {
   "cell_type": "code",
   "execution_count": 5,
   "id": "757e502d",
   "metadata": {},
   "outputs": [
    {
     "data": {
      "image/png": "[encoded data removed]",
      "text/plain": [
       "<Figure size 432x288 with 1 Axes>"
      ]
     },
     "metadata": {},
     "output_type": "display_data"
    }
   ],
   "source": [
    "value_counts = df['species'].value_counts().sort_index()\n",
    "\n",
    "plt.bar(range(len(value_counts)), value_counts.values, align='center')\n",
    "plt.xticks(range(len(value_counts)), value_counts.index.values)\n",
    "\n",
    "plt.show()"
   ]
  },
  {
   "cell_type": "code",
   "execution_count": 6,
   "id": "d0125c3a",
   "metadata": {},
   "outputs": [
    {
     "data": {
      "image/png": "[encoded data removed]",
      "text/plain": [
       "<Figure size 432x288 with 1 Axes>"
      ]
     },
     "metadata": {},
     "output_type": "display_data"
    }
   ],
   "source": [
    "value_counts = df['id'].value_counts().sort_index()\n",
    "\n",
    "plt.bar(range(len(value_counts)), value_counts.values, align='center')\n",
    "plt.xticks(range(len(value_counts)), value_counts.index.values)\n",
    "\n",
    "plt.tight_layout()\n",
    "plt.show()"
   ]
  },
  {
   "cell_type": "code",
   "execution_count": 7,
   "id": "d56745e3",
   "metadata": {},
   "outputs": [
    {
     "data": {
      "text/plain": [
       "2     200\n",
       "8     200\n",
       "10    200\n",
       "12    200\n",
       "3     200\n",
       "5     200\n",
       "7     200\n",
       "9     200\n",
       "11    199\n",
       "1     198\n",
       "6     190\n",
       "4     184\n",
       "Name: breed, dtype: int64"
      ]
     },
     "execution_count": 7,
     "metadata": {},
     "output_type": "execute_result"
    }
   ],
   "source": [
    "# df[df['species'] == 1]['breed'].value_counts()\n",
    "df[df['species'] == 1]['breed'].value_counts()"
   ]
  },
  {
   "cell_type": "code",
   "execution_count": 8,
   "id": "6f5f83a5",
   "metadata": {},
   "outputs": [
    {
     "data": {
      "image/png": "[encoded data removed]",
      "text/plain": [
       "<Figure size 432x288 with 1 Axes>"
      ]
     },
     "metadata": {},
     "output_type": "display_data"
    }
   ],
   "source": [
    "value_counts = df[df['species'] == 1]['breed'].value_counts().sort_index()\n",
    "\n",
    "plt.bar(range(len(value_counts)), value_counts.values, align='center')\n",
    "plt.xticks(range(len(value_counts)), value_counts.index.values)\n",
    "\n",
    "plt.tight_layout()\n",
    "plt.show()"
   ]
  },
  {
   "cell_type": "code",
   "execution_count": 9,
   "id": "b9a77533",
   "metadata": {},
   "outputs": [
    {
     "data": {
      "image/png": "[encoded data removed]",
      "text/plain": [
       "<Figure size 432x288 with 1 Axes>"
      ]
     },
     "metadata": {},
     "output_type": "display_data"
    }
   ],
   "source": [
    "value_counts = df[df['species'] == 2]['breed'].value_counts().sort_index()\n",
    "\n",
    "plt.bar(range(len(value_counts)), value_counts.values, align='center')\n",
    "plt.xticks(range(len(value_counts)), value_counts.index.values)\n",
    "\n",
    "plt.tight_layout()\n",
    "plt.show()"
   ]
  },
  {
   "cell_type": "code",
   "execution_count": 10,
   "id": "5cf9f6f7",
   "metadata": {},
   "outputs": [],
   "source": [
    "import os\n",
    "from glob import glob"
   ]
  },
  {
   "cell_type": "code",
   "execution_count": 11,
   "id": "4a545912",
   "metadata": {},
   "outputs": [],
   "source": [
    "image_dir = 'data/images/'\n",
    "bbox_dir = 'data/annotations/xmls/'\n",
    "seg_dir = 'data/annotations/trimaps/'"
   ]
  },
  {
   "cell_type": "code",
   "execution_count": 12,
   "id": "476adfb5",
   "metadata": {},
   "outputs": [
    {
     "data": {
      "text/plain": [
       "7390"
      ]
     },
     "execution_count": 12,
     "metadata": {},
     "output_type": "execute_result"
    }
   ],
   "source": [
    "image_files = glob(image_dir + '*.jpg')\n",
    "len(image_files)"
   ]
  },
  {
   "cell_type": "code",
   "execution_count": 13,
   "id": "8b1426e8",
   "metadata": {},
   "outputs": [
    {
     "data": {
      "text/plain": [
       "['data/images\\\\Abyssinian_1.jpg',\n",
       " 'data/images\\\\Abyssinian_10.jpg',\n",
       " 'data/images\\\\Abyssinian_100.jpg',\n",
       " 'data/images\\\\Abyssinian_101.jpg',\n",
       " 'data/images\\\\Abyssinian_102.jpg',\n",
       " 'data/images\\\\Abyssinian_103.jpg',\n",
       " 'data/images\\\\Abyssinian_104.jpg',\n",
       " 'data/images\\\\Abyssinian_105.jpg',\n",
       " 'data/images\\\\Abyssinian_106.jpg',\n",
       " 'data/images\\\\Abyssinian_107.jpg']"
      ]
     },
     "execution_count": 13,
     "metadata": {},
     "output_type": "execute_result"
    }
   ],
   "source": [
    "image_files[:10]"
   ]
  },
  {
   "cell_type": "code",
   "execution_count": 21,
   "id": "dfb46f3d",
   "metadata": {},
   "outputs": [
    {
     "data": {
      "text/plain": [
       "7390"
      ]
     },
     "execution_count": 21,
     "metadata": {},
     "output_type": "execute_result"
    }
   ],
   "source": [
    "seg_files = glob(seg_dir + '*.png')\n",
    "len(seg_files)"
   ]
  },
  {
   "cell_type": "code",
   "execution_count": 22,
   "id": "8034d921",
   "metadata": {},
   "outputs": [
    {
     "data": {
      "text/plain": [
       "['data/annotations/trimaps\\\\Abyssinian_1.png',\n",
       " 'data/annotations/trimaps\\\\Abyssinian_10.png',\n",
       " 'data/annotations/trimaps\\\\Abyssinian_100.png',\n",
       " 'data/annotations/trimaps\\\\Abyssinian_101.png',\n",
       " 'data/annotations/trimaps\\\\Abyssinian_102.png',\n",
       " 'data/annotations/trimaps\\\\Abyssinian_103.png',\n",
       " 'data/annotations/trimaps\\\\Abyssinian_104.png',\n",
       " 'data/annotations/trimaps\\\\Abyssinian_105.png',\n",
       " 'data/annotations/trimaps\\\\Abyssinian_106.png',\n",
       " 'data/annotations/trimaps\\\\Abyssinian_107.png']"
      ]
     },
     "execution_count": 22,
     "metadata": {},
     "output_type": "execute_result"
    }
   ],
   "source": [
    "seg_files[:10]"
   ]
  },
  {
   "cell_type": "code",
   "execution_count": 23,
   "id": "d2512414",
   "metadata": {},
   "outputs": [
    {
     "data": {
      "text/plain": [
       "3686"
      ]
     },
     "execution_count": 23,
     "metadata": {},
     "output_type": "execute_result"
    }
   ],
   "source": [
    "bbox_files = glob(bbox_dir + '*.xml')\n",
    "len(bbox_files)"
   ]
  },
  {
   "cell_type": "code",
   "execution_count": 24,
   "id": "ee4979c8",
   "metadata": {},
   "outputs": [
    {
     "data": {
      "text/plain": [
       "['data/annotations/xmls\\\\Abyssinian_1.xml',\n",
       " 'data/annotations/xmls\\\\Abyssinian_10.xml',\n",
       " 'data/annotations/xmls\\\\Abyssinian_100.xml',\n",
       " 'data/annotations/xmls\\\\Abyssinian_101.xml',\n",
       " 'data/annotations/xmls\\\\Abyssinian_102.xml',\n",
       " 'data/annotations/xmls\\\\Abyssinian_103.xml',\n",
       " 'data/annotations/xmls\\\\Abyssinian_105.xml',\n",
       " 'data/annotations/xmls\\\\Abyssinian_106.xml',\n",
       " 'data/annotations/xmls\\\\Abyssinian_107.xml',\n",
       " 'data/annotations/xmls\\\\Abyssinian_108.xml']"
      ]
     },
     "execution_count": 24,
     "metadata": {},
     "output_type": "execute_result"
    }
   ],
   "source": [
    "bbox_files[:10]"
   ]
  },
  {
   "cell_type": "code",
   "execution_count": 25,
   "id": "591fe001",
   "metadata": {},
   "outputs": [],
   "source": [
    "import cv2\n",
    "# import opencv as cv2\n",
    "import xml.etree.ElementTree as et\n",
    "from matplotlib.patches import Rectangle"
   ]
  },
  {
   "cell_type": "code",
   "execution_count": 26,
   "id": "9a1f6f84",
   "metadata": {},
   "outputs": [
    {
     "data": {
      "text/plain": [
       "('data/images/', 'data/images\\\\Abyssinian_212.jpg')"
      ]
     },
     "execution_count": 26,
     "metadata": {},
     "output_type": "execute_result"
    }
   ],
   "source": [
    "image_dir, image_files[110]"
   ]
  },
  {
   "cell_type": "code",
   "execution_count": 27,
   "id": "5f3f1f10",
   "metadata": {},
   "outputs": [
    {
     "ename": "AttributeError",
     "evalue": "module 'cv2' has no attribute 'imread'",
     "output_type": "error",
     "traceback": [
      "\u001b[1;31m---------------------------------------------------------------------------\u001b[0m",
      "\u001b[1;31mAttributeError\u001b[0m                            Traceback (most recent call last)",
      "\u001b[1;32mC:\\Users\\SEHWAN~1\\AppData\\Local\\Temp/ipykernel_27124/1893867666.py\u001b[0m in \u001b[0;36m<module>\u001b[1;34m\u001b[0m\n\u001b[0;32m      2\u001b[0m \u001b[0mbbox_path\u001b[0m \u001b[1;33m=\u001b[0m \u001b[0mimage_path\u001b[0m\u001b[1;33m.\u001b[0m\u001b[0mreplace\u001b[0m\u001b[1;33m(\u001b[0m\u001b[0mimage_dir\u001b[0m\u001b[1;33m,\u001b[0m \u001b[0mbbox_dir\u001b[0m\u001b[1;33m)\u001b[0m\u001b[1;33m.\u001b[0m\u001b[0mreplace\u001b[0m\u001b[1;33m(\u001b[0m\u001b[1;34m'jpg'\u001b[0m\u001b[1;33m,\u001b[0m \u001b[1;34m'xml'\u001b[0m\u001b[1;33m)\u001b[0m\u001b[1;33m\u001b[0m\u001b[1;33m\u001b[0m\u001b[0m\n\u001b[0;32m      3\u001b[0m \u001b[1;33m\u001b[0m\u001b[0m\n\u001b[1;32m----> 4\u001b[1;33m \u001b[0mimage\u001b[0m \u001b[1;33m=\u001b[0m \u001b[0mcv2\u001b[0m\u001b[1;33m.\u001b[0m\u001b[0mimread\u001b[0m\u001b[1;33m(\u001b[0m\u001b[0mimage_path\u001b[0m\u001b[1;33m)\u001b[0m\u001b[1;33m\u001b[0m\u001b[1;33m\u001b[0m\u001b[0m\n\u001b[0m\u001b[0;32m      5\u001b[0m \u001b[0mimage\u001b[0m \u001b[1;33m=\u001b[0m \u001b[0mcv2\u001b[0m\u001b[1;33m.\u001b[0m\u001b[0mcvtColor\u001b[0m\u001b[1;33m(\u001b[0m\u001b[0mimage\u001b[0m\u001b[1;33m,\u001b[0m \u001b[0mcv2\u001b[0m\u001b[1;33m.\u001b[0m\u001b[0mCOLOR_BGR2RGB\u001b[0m\u001b[1;33m)\u001b[0m\u001b[1;33m\u001b[0m\u001b[1;33m\u001b[0m\u001b[0m\n\u001b[0;32m      6\u001b[0m \u001b[1;33m\u001b[0m\u001b[0m\n",
      "\u001b[1;31mAttributeError\u001b[0m: module 'cv2' has no attribute 'imread'"
     ]
    }
   ],
   "source": [
    "image_path = image_files[110]\n",
    "bbox_path = image_path.replace(image_dir, bbox_dir).replace('jpg', 'xml')\n",
    "\n",
    "image = cv2.imread(image_path)\n",
    "image = cv2.cvtColor(image, cv2.COLOR_BGR2RGB)\n",
    "\n",
    "tree = et.parse(bbox_path)\n",
    "\n",
    "xmin = float(tree.find('./object/bndbox/xmin').text)\n",
    "xmax = float(tree.find('./object/bndbox/xmax').text)\n",
    "ymin = float(tree.find('./object/bndbox/ymin').text)\n",
    "ymax = float(tree.find('./object/bndbox/ymax').text)\n",
    "\n",
    "rect_x = xmin\n",
    "rect_y = ymin\n",
    "rect_w = xmax - xmin\n",
    "rect_h = ymax - ymin\n",
    "\n",
    "rect = Rectangle((rect_x, rect_y), rect_w, rect_h, fill=False, color='red')\n",
    "plt.axes().add_patch(rect)\n",
    "plt.imshow(image)\n",
    "\n",
    "plt.show()"
   ]
  },
  {
   "cell_type": "code",
   "execution_count": null,
   "id": "89c2a8f9",
   "metadata": {},
   "outputs": [],
   "source": []
  },
  {
   "cell_type": "code",
   "execution_count": 58,
   "id": "f5c9cd49",
   "metadata": {},
   "outputs": [
    {
     "ename": "AttributeError",
     "evalue": "module 'cv2' has no attribute 'imread'",
     "output_type": "error",
     "traceback": [
      "\u001b[1;31m---------------------------------------------------------------------------\u001b[0m",
      "\u001b[1;31mAttributeError\u001b[0m                            Traceback (most recent call last)",
      "\u001b[1;32mC:\\Users\\SEHWAN~1\\AppData\\Local\\Temp/ipykernel_26668/4209075104.py\u001b[0m in \u001b[0;36m<module>\u001b[1;34m\u001b[0m\n\u001b[0;32m      2\u001b[0m \u001b[0mseg_path\u001b[0m \u001b[1;33m=\u001b[0m \u001b[0mimage_path\u001b[0m\u001b[1;33m.\u001b[0m\u001b[0mreplace\u001b[0m\u001b[1;33m(\u001b[0m\u001b[0mimage_dir\u001b[0m\u001b[1;33m,\u001b[0m \u001b[0mseg_dir\u001b[0m\u001b[1;33m)\u001b[0m\u001b[1;33m.\u001b[0m\u001b[0mreplace\u001b[0m\u001b[1;33m(\u001b[0m\u001b[1;34m'jpg'\u001b[0m\u001b[1;33m,\u001b[0m \u001b[1;34m'png'\u001b[0m\u001b[1;33m)\u001b[0m\u001b[1;33m\u001b[0m\u001b[1;33m\u001b[0m\u001b[0m\n\u001b[0;32m      3\u001b[0m \u001b[1;33m\u001b[0m\u001b[0m\n\u001b[1;32m----> 4\u001b[1;33m \u001b[0mimage\u001b[0m \u001b[1;33m=\u001b[0m \u001b[0mcv2\u001b[0m\u001b[1;33m.\u001b[0m\u001b[0mimread\u001b[0m\u001b[1;33m(\u001b[0m\u001b[0mimage_path\u001b[0m\u001b[1;33m)\u001b[0m\u001b[1;33m\u001b[0m\u001b[1;33m\u001b[0m\u001b[0m\n\u001b[0m\u001b[0;32m      5\u001b[0m \u001b[0mimage\u001b[0m \u001b[1;33m=\u001b[0m \u001b[0mcv2\u001b[0m\u001b[1;33m.\u001b[0m\u001b[0mcvtColor\u001b[0m\u001b[1;33m(\u001b[0m\u001b[0mimage\u001b[0m\u001b[1;33m,\u001b[0m \u001b[0mcv2\u001b[0m\u001b[1;33m.\u001b[0m\u001b[0mCOLOR_BGR2RGB\u001b[0m\u001b[1;33m)\u001b[0m\u001b[1;33m\u001b[0m\u001b[1;33m\u001b[0m\u001b[0m\n\u001b[0;32m      6\u001b[0m \u001b[0mseg_map\u001b[0m \u001b[1;33m=\u001b[0m \u001b[0mcv2\u001b[0m\u001b[1;33m.\u001b[0m\u001b[0mimread\u001b[0m\u001b[1;33m(\u001b[0m\u001b[0mseg_path\u001b[0m\u001b[1;33m,\u001b[0m \u001b[0mcv2\u001b[0m\u001b[1;33m.\u001b[0m\u001b[0mIMREAD_GRAYSCALE\u001b[0m\u001b[1;33m)\u001b[0m\u001b[1;33m\u001b[0m\u001b[1;33m\u001b[0m\u001b[0m\n",
      "\u001b[1;31mAttributeError\u001b[0m: module 'cv2' has no attribute 'imread'"
     ]
    }
   ],
   "source": [
    "image_path = image_files[110]\n",
    "seg_path = image_path.replace(image_dir, seg_dir).replace('jpg', 'png')\n",
    "\n",
    "image = cv2.imread(image_path)\n",
    "image = cv2.cvtColor(image, cv2.COLOR_BGR2RGB)\n",
    "seg_map = cv2.imread(seg_path, cv2.IMREAD_GRAYSCALE)\n",
    "\n",
    "plt.figure(figsize=(15, 15))\n",
    "plt.subplot(1, 2, 1)\n",
    "plt.imshow(image)\n",
    "plt.subplot(1, 2, 2)\n",
    "plt.imshow(seg_map)\n",
    "\n",
    "plt.show()"
   ]
  },
  {
   "cell_type": "code",
   "execution_count": null,
   "id": "501926fa",
   "metadata": {},
   "outputs": [],
   "source": []
  },
  {
   "cell_type": "code",
   "execution_count": 34,
   "id": "c5b95d32",
   "metadata": {},
   "outputs": [],
   "source": [
    "from sklearn.model_selection import KFold"
   ]
  },
  {
   "cell_type": "code",
   "execution_count": 38,
   "id": "f0c13b18",
   "metadata": {},
   "outputs": [
    {
     "name": "stdout",
     "output_type": "stream",
     "text": [
      "[   1    2    3 ... 7346 7347 7348] [   0    8   14 ... 7339 7341 7345] 1470\n",
      "[   0    1    2 ... 7346 7347 7348] [  12   15   26 ... 7340 7342 7344] 1470\n",
      "[   0    1    2 ... 7345 7346 7348] [   6    7   18 ... 7333 7343 7347] 1470\n",
      "[   0    3    4 ... 7345 7347 7348] [   1    2   10 ... 7335 7336 7346] 1470\n",
      "[   0    1    2 ... 7345 7346 7347] [   3    4    5 ... 7334 7338 7348] 1469\n"
     ]
    }
   ],
   "source": [
    "kf = KFold(n_splits=5, shuffle=True, random_state=42)\n",
    "\n",
    "df['fold'] = -1\n",
    "for idx, (t, v) in enumerate(kf.split(df), 1):\n",
    "    print(t, v, len(v))\n",
    "    df.loc[v, 'fold'] = idx"
   ]
  },
  {
   "cell_type": "code",
   "execution_count": 40,
   "id": "055bee7b",
   "metadata": {},
   "outputs": [
    {
     "name": "stdout",
     "output_type": "stream",
     "text": [
      "1470\n",
      "5879\n"
     ]
    }
   ],
   "source": [
    "print(len(df[df['fold'] == 1]))\n",
    "print(len(df[df['fold'] != 1]))"
   ]
  },
  {
   "cell_type": "code",
   "execution_count": null,
   "id": "a7a54482",
   "metadata": {},
   "outputs": [],
   "source": []
  },
  {
   "cell_type": "code",
   "execution_count": 42,
   "id": "ab749523",
   "metadata": {},
   "outputs": [
    {
     "data": {
      "image/png": "[encoded data removed]",
      "text/plain": [
       "<Figure size 432x288 with 1 Axes>"
      ]
     },
     "metadata": {},
     "output_type": "display_data"
    }
   ],
   "source": [
    "value_counts = df[df['fold'] != 5]['id'].value_counts().sort_index()\n",
    "\n",
    "plt.bar(range(len(value_counts)), value_counts.values, align='center')\n",
    "plt.xticks(range(len(value_counts)), value_counts.index.values)\n",
    "\n",
    "plt.tight_layout()\n",
    "plt.show()"
   ]
  },
  {
   "cell_type": "code",
   "execution_count": 43,
   "id": "deb61a7e",
   "metadata": {},
   "outputs": [],
   "source": [
    "from sklearn.model_selection import StratifiedKFold"
   ]
  },
  {
   "cell_type": "code",
   "execution_count": 44,
   "id": "8fb29a02",
   "metadata": {},
   "outputs": [
    {
     "name": "stdout",
     "output_type": "stream",
     "text": [
      "[   0    1    3 ... 7346 7347 7348] [   2    7    8 ... 7326 7337 7345] 1470\n",
      "[   1    2    3 ... 7346 7347 7348] [   0   12   13 ... 7323 7335 7339] 1470\n",
      "[   0    2    3 ... 7345 7347 7348] [   1   14   19 ... 7341 7343 7346] 1470\n",
      "[   0    1    2 ... 7346 7347 7348] [   3    4    5 ... 7334 7338 7342] 1470\n",
      "[   0    1    2 ... 7343 7345 7346] [   9   21   23 ... 7344 7347 7348] 1469\n"
     ]
    }
   ],
   "source": [
    "skf = StratifiedKFold(n_splits=5, shuffle=True, random_state=42)\n",
    "\n",
    "df['fold'] = -1\n",
    "for idx, (t, v) in enumerate(skf.split(df, df['id']), 1):\n",
    "    print(t, v, len(v))\n",
    "    df.loc[v, 'fold'] = idx"
   ]
  },
  {
   "cell_type": "code",
   "execution_count": 45,
   "id": "4c6e612d",
   "metadata": {},
   "outputs": [
    {
     "data": {
      "image/png": "[encoded data removed]",
      "text/plain": [
       "<Figure size 432x288 with 1 Axes>"
      ]
     },
     "metadata": {},
     "output_type": "display_data"
    }
   ],
   "source": [
    "value_counts = df[df['fold'] != 5]['id'].value_counts().sort_index()\n",
    "\n",
    "plt.bar(range(len(value_counts)), value_counts.values, align='center')\n",
    "plt.xticks(range(len(value_counts)), value_counts.index.values)\n",
    "\n",
    "plt.tight_layout()\n",
    "plt.show()"
   ]
  },
  {
   "cell_type": "markdown",
   "id": "0a3cd3e1",
   "metadata": {},
   "source": []
  },
  {
   "cell_type": "code",
   "execution_count": 46,
   "id": "a73d81fe",
   "metadata": {},
   "outputs": [],
   "source": [
    "df.to_csv('data/kfolds.csv', index=False)"
   ]
  }
 ],
 "metadata": {
  "kernelspec": {
   "display_name": "Python 3",
   "language": "python",
   "name": "python3"
  },
  "language_info": {
   "codemirror_mode": {
    "name": "ipython",
    "version": 3
   },
   "file_extension": ".py",
   "mimetype": "text/x-python",
   "name": "python",
   "nbconvert_exporter": "python",
   "pygments_lexer": "ipython3",
   "version": "3.9.5"
  }
 },
 "nbformat": 4,
 "nbformat_minor": 5
}
