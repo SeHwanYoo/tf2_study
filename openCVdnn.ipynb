{
  "cells": [
    {
      "cell_type": "markdown",
      "metadata": {
        "id": "9afrUzXSl1Ny"
      },
      "source": [
        "#1. File upload\n",
        "\n",
        "model_name = 'res10_300x300_ssd_iter_140000.caffemodel'\n",
        "\n",
        "prototxt_name = 'deploy.prototxt.txt'\n",
        "\n",
        "file_name = 'obama_01.jpeg, obama_02.jpeg, obama_03.jpg'"
      ]
    },
    {
      "cell_type": "code",
      "execution_count": 1,
      "metadata": {
        "id": "wWaKu8wxnAns"
      },
      "outputs": [],
      "source": [
        "import cv2\n",
        "import numpy as np\n",
        "# from google.colab.patches import cv2_imshow\n",
        "import matplotlib.pyplot as plt"
      ]
    },
    {
      "cell_type": "code",
      "execution_count": 14,
      "metadata": {
        "id": "31QoxNoSnO5y"
      },
      "outputs": [],
      "source": [
        "model_name = 'res10_300x300_ssd_iter_140000.caffemodel'\n",
        "prototxt_name = 'deploy.prototxt.txt'\n",
        "file_name = 'obama_02.jpeg'"
      ]
    },
    {
      "cell_type": "code",
      "execution_count": 15,
      "metadata": {
        "id": "6QiIpX0RnXQi"
      },
      "outputs": [],
      "source": [
        "min_confidence = 0.3\n",
        "frame_width = 300\n",
        "frame_height = 300"
      ]
    },
    {
      "cell_type": "code",
      "execution_count": 16,
      "metadata": {
        "colab": {
          "base_uri": "https://localhost:8080/"
        },
        "id": "f9xA0Vy2ngRY",
        "outputId": "070c4c52-a2e3-4dea-8aee-89d1af161330"
      },
      "outputs": [
        {
          "name": "stdout",
          "output_type": "stream",
          "text": [
            "178 283\n"
          ]
        }
      ],
      "source": [
        "frame = cv2.imread(file_name)\n",
        "(height, width) = frame.shape[:2]\n",
        "print(height, width)"
      ]
    },
    {
      "cell_type": "code",
      "execution_count": 17,
      "metadata": {
        "colab": {
          "base_uri": "https://localhost:8080/",
          "height": 268
        },
        "id": "3XSEyxlpnvAY",
        "outputId": "07f5ec2a-edb4-49e8-d21c-f76d0cd20737"
      },
      "outputs": [],
      "source": [
        "# gray = cv2.cvtColor(frame, cv2.COLOR_BGR2GRAY)\n",
        "cv2.imshow('', frame)\n",
        "cv2.waitKey(0)\n",
        "cv2.destroyAllWindows()\n",
        "# plt.imshow(frame)\n",
        "# cv2.imshow('test', frame)"
      ]
    },
    {
      "cell_type": "markdown",
      "metadata": {
        "id": "bErjU8N5n0Vi"
      },
      "source": [
        "#3. DNN Model"
      ]
    },
    {
      "cell_type": "code",
      "execution_count": 18,
      "metadata": {
        "id": "DOd39pFCn3kP"
      },
      "outputs": [],
      "source": [
        "model = cv2.dnn.readNetFromCaffe(prototxt_name, model_name)"
      ]
    },
    {
      "cell_type": "code",
      "execution_count": 19,
      "metadata": {
        "id": "Q8uhSAmyoDtW"
      },
      "outputs": [],
      "source": [
        "# blob 은 이미지를 작게 해줘야 읽을 수 있어서 (300, 300)\n",
        "# 1.0 scale\n",
        "# size\n",
        "# scalar vector => RGB (여러 필터를 통해 이해하기 쉽게 변경)\n",
        "blob = cv2.dnn.blobFromImage(cv2.resize(frame, (300, 300)), 1.0, (300, 300), (104.0, 177.0, 123.0))"
      ]
    },
    {
      "cell_type": "code",
      "execution_count": 20,
      "metadata": {},
      "outputs": [
        {
          "data": {
            "text/plain": [
              "array([[[[-101., -101., -101., ...,   36.,   36.,   36.],\n",
              "         [-101., -101., -101., ...,   38.,   38.,   38.],\n",
              "         [-100., -100., -100., ...,   41.,   41.,   41.],\n",
              "         ...,\n",
              "         [ -97.,  -97.,  -96., ...,  -82.,  -82.,  -84.],\n",
              "         [ -96.,  -96.,  -95., ...,  -82.,  -82.,  -84.],\n",
              "         [ -95.,  -95.,  -94., ...,  -82.,  -82.,  -84.]],\n",
              "\n",
              "        [[-155., -155., -155., ...,  -68.,  -68.,  -68.],\n",
              "         [-155., -155., -155., ...,  -66.,  -66.,  -66.],\n",
              "         [-155., -154., -155., ...,  -63.,  -63.,  -63.],\n",
              "         ...,\n",
              "         [-160., -160., -159., ..., -169., -169., -169.],\n",
              "         [-160., -160., -159., ..., -169., -169., -169.],\n",
              "         [-160., -160., -159., ..., -169., -169., -169.]],\n",
              "\n",
              "        [[ -33.,  -33.,  -33., ...,    1.,    1.,    1.],\n",
              "         [ -32.,  -33.,  -32., ...,    3.,    3.,    3.],\n",
              "         [ -30.,  -32.,  -31., ...,    6.,    6.,    6.],\n",
              "         ...,\n",
              "         [ -29.,  -29.,  -28., ..., -121., -121., -121.],\n",
              "         [ -29.,  -29.,  -28., ..., -121., -121., -121.],\n",
              "         [ -29.,  -29.,  -28., ..., -121., -121., -121.]]]], dtype=float32)"
            ]
          },
          "execution_count": 20,
          "metadata": {},
          "output_type": "execute_result"
        }
      ],
      "source": [
        "blob"
      ]
    },
    {
      "cell_type": "code",
      "execution_count": 21,
      "metadata": {
        "colab": {
          "base_uri": "https://localhost:8080/"
        },
        "id": "QgiuvKpUpuFJ",
        "outputId": "f99b47bc-275c-4a2a-e013-e7e3b767467d"
      },
      "outputs": [
        {
          "name": "stdout",
          "output_type": "stream",
          "text": [
            "[[[[0.         1.         0.97053355 ... 0.08084375 0.76460886\n",
            "    0.57922584]\n",
            "   [0.         1.         0.12442379 ... 4.0106487  4.842023\n",
            "    4.986066  ]\n",
            "   [0.         1.         0.12279322 ... 3.997507   0.8401126\n",
            "    4.9882755 ]\n",
            "   ...\n",
            "   [0.         0.         0.         ... 0.         0.\n",
            "    0.        ]\n",
            "   [0.         0.         0.         ... 0.         0.\n",
            "    0.        ]\n",
            "   [0.         0.         0.         ... 0.         0.\n",
            "    0.        ]]]]\n"
          ]
        }
      ],
      "source": [
        "model.setInput(blob)\n",
        "detections = model.forward()\n",
        "print(detections)"
      ]
    },
    {
      "cell_type": "code",
      "execution_count": 22,
      "metadata": {},
      "outputs": [
        {
          "data": {
            "text/plain": [
              "(1, 1, 200, 7)"
            ]
          },
          "execution_count": 22,
          "metadata": {},
          "output_type": "execute_result"
        }
      ],
      "source": [
        "detections.shape # 최대 값"
      ]
    },
    {
      "cell_type": "code",
      "execution_count": 24,
      "metadata": {
        "colab": {
          "base_uri": "https://localhost:8080/",
          "height": 285
        },
        "id": "RUh8hzVep_GK",
        "outputId": "2a988f4c-0398-42a8-931e-9b14ad5170fc"
      },
      "outputs": [
        {
          "name": "stdout",
          "output_type": "stream",
          "text": [
            "0.97053355 150 14 216 103\n"
          ]
        }
      ],
      "source": [
        "for i in range(0, detections.shape[2]):\n",
        "        # extract the confidence (i.e., probability)\n",
        "        confidence = detections[0, 0, i, 2]\n",
        "        if confidence > min_confidence:\n",
        "            # 실제 그림에 width 와 height 을 곱해줘서 box 값을 구해줌\n",
        "            box = detections[0, 0, i, 3:7] * np.array([width, height, width, height])\n",
        "            (startX, startY, endX, endY) = box.astype('int')\n",
        "            print(confidence, startX, startY, endX, endY)\n",
        "            text = '{:.2f}%'.format(confidence*100)\n",
        "            y = startY - 10 if startY -10 > 10 else startY + 10\n",
        "            cv2.rectangle(frame, (startX, startY), (endX, endY), (0, 255, 0), 2)\n",
        "            cv2.putText(frame, text, (startX, y), cv2.FONT_HERSHEY_COMPLEX, 0.5, (0, 255, 0), 1)\n",
        "# Show the output\n",
        "# cv2_imshow(frame)\n",
        "cv2.imshow('', frame)\n",
        "cv2.waitKey(0)\n",
        "cv2.destroyAllWindows()"
      ]
    },
    {
      "cell_type": "code",
      "execution_count": null,
      "metadata": {},
      "outputs": [],
      "source": []
    }
  ],
  "metadata": {
    "colab": {
      "collapsed_sections": [],
      "name": "openCVdnn.ipynb",
      "provenance": []
    },
    "kernelspec": {
      "display_name": "Python 3",
      "name": "python3"
    },
    "language_info": {
      "codemirror_mode": {
        "name": "ipython",
        "version": 3
      },
      "file_extension": ".py",
      "mimetype": "text/x-python",
      "name": "python",
      "nbconvert_exporter": "python",
      "pygments_lexer": "ipython3",
      "version": "3.9.6"
    }
  },
  "nbformat": 4,
  "nbformat_minor": 0
}
