{
 "cells": [
  {
   "cell_type": "code",
   "execution_count": 1,
   "metadata": {},
   "outputs": [],
   "source": [
    "import gym \n",
    "\n",
    "env = gym.make('MountainCar-v0')"
   ]
  },
  {
   "cell_type": "code",
   "execution_count": 12,
   "metadata": {},
   "outputs": [
    {
     "name": "stdout",
     "output_type": "stream",
     "text": [
      "action : 2, type: <class 'int'>\n"
     ]
    }
   ],
   "source": [
    "# scores = [] \n",
    "# steps = [] \n",
    "\n",
    "# score = \n",
    "\n",
    "\n",
    "# for _ in range(10000): \n",
    "\n",
    "#     score = 0 \n",
    "#     step = 0 \n",
    "\n",
    "#     env.reset() \n",
    "score = 0 \n",
    "step = 0\n",
    "\n",
    "while True: \n",
    "\n",
    "    # env.render() \n",
    "\n",
    "    action = env.action_space.sample()\n",
    "\n",
    "    # print(f\"action : {action}\")\n",
    "    print(\"action : {}, type: {}\".format(action, type(action)))\n",
    "\n",
    "    obs, reward, done, _ = env.step(action) \n",
    "\n",
    "    score += reward\n",
    "    step += 1\n",
    "\n",
    "    if done: \n",
    "        break \n",
    "\n",
    "# env.env.close()"
   ]
  },
  {
   "cell_type": "code",
   "execution_count": 6,
   "metadata": {},
   "outputs": [],
   "source": [
    "env.env.close()"
   ]
  }
 ],
 "metadata": {
  "interpreter": {
   "hash": "2ad7f8df95050390ccef3c53b91cc5366ee05cbbc975f965dd0a4e5b2556ae66"
  },
  "kernelspec": {
   "display_name": "Python 3.9.6 64-bit",
   "language": "python",
   "name": "python3"
  },
  "language_info": {
   "codemirror_mode": {
    "name": "ipython",
    "version": 3
   },
   "file_extension": ".py",
   "mimetype": "text/x-python",
   "name": "python",
   "nbconvert_exporter": "python",
   "pygments_lexer": "ipython3",
   "version": "3.9.6"
  },
  "orig_nbformat": 4
 },
 "nbformat": 4,
 "nbformat_minor": 2
}
