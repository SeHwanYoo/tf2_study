{
 "cells": [
  {
   "cell_type": "code",
   "execution_count": 4,
   "metadata": {},
   "outputs": [],
   "source": [
    "import gym \n",
    "import random \n",
    "import numpy as np\n",
    "import tensorflow as tf\n",
    "from tqdm import tqdm\n"
   ]
  },
  {
   "cell_type": "code",
   "execution_count": 2,
   "metadata": {},
   "outputs": [],
   "source": [
    "\n",
    "env = gym.make('MountainCar-v0')"
   ]
  },
  {
   "cell_type": "code",
   "execution_count": 5,
   "metadata": {},
   "outputs": [
    {
     "name": "stderr",
     "output_type": "stream",
     "text": [
      "100%|██████████| 10000/10000 [01:05<00:00, 152.80it/s]"
     ]
    },
    {
     "name": "stdout",
     "output_type": "stream",
     "text": [
      "score mean : -199.892\n",
      "accepted_score : [-172.0, -186.0, -192.0, -184.0, -178.0, -184.0, -182.0, -190.0, -170.0, -182.0, -174.0, -182.0, -182.0, -172.0, -184.0, -190.0, -178.0, -192.0, -172.0, -196.0, -178.0, -196.0, -168.0, -180.0, -176.0, -190.0, -184.0, -176.0, -186.0, -184.0, -182.0, -194.0, -176.0, -190.0, -178.0, -180.0, -176.0, -188.0, -182.0, -182.0, -186.0, -180.0, -184.0, -192.0, -182.0, -180.0, -190.0, -176.0, -196.0, -190.0, -164.0, -196.0, -186.0, -174.0, -174.0, -166.0, -182.0, -172.0, -178.0, -186.0]\n"
     ]
    },
    {
     "name": "stderr",
     "output_type": "stream",
     "text": [
      "\n"
     ]
    }
   ],
   "source": [
    "scores = [] \n",
    "accepted_score = [] \n",
    "required_score = -198 \n",
    "\n",
    "training_data =[] \n",
    "\n",
    "for i in tqdm(range(10000)): \n",
    "\n",
    "    # if i % 100 == 0:\n",
    "    #     print(i) \n",
    "\n",
    "    score = 0 \n",
    "    env.reset() \n",
    "\n",
    "    # 입출력 데이터 저장 (모든 게임) \n",
    "    game_memory = []\n",
    "    # 이전 상태 저장\n",
    "    previous_obs = [] \n",
    "\n",
    "    while True: \n",
    "        action = env.action_space.sample()\n",
    "        obs, reward, done, _ = env.step(action) \n",
    "\n",
    "        # env.render()\n",
    "\n",
    "        if len(previous_obs) > 0:\n",
    "            game_memory.append([previous_obs, action])\n",
    "\n",
    "        previous_obs = obs\n",
    "\n",
    "        if obs[0] > -0.2:\n",
    "            reward = 1\n",
    "\n",
    "        score += reward\n",
    "        # step += 1\n",
    "\n",
    "        if done:\n",
    "            break \n",
    "\n",
    "    scores.append(score)\n",
    "\n",
    "    if score > required_score:\n",
    "        accepted_score.append(score) \n",
    "\n",
    "        for data in game_memory:\n",
    "            training_data.append(data) \n",
    "\n",
    "# env.env.close()\n",
    "\n",
    "scores = np.array(scores)\n",
    "print(f\"score mean : {scores.mean()}\")\n",
    "print(f\"accepted_score : {accepted_score}\")\n",
    "\n"
   ]
  },
  {
   "cell_type": "markdown",
   "metadata": {},
   "source": []
  },
  {
   "cell_type": "code",
   "execution_count": 3,
   "metadata": {},
   "outputs": [
    {
     "data": {
      "text/plain": [
       "<seaborn.axisgrid.FacetGrid at 0x1c83deb8c70>"
      ]
     },
     "execution_count": 3,
     "metadata": {},
     "output_type": "execute_result"
    },
    {
     "data": {
      "image/png": "[encoded data removed]",
      "text/plain": [
       "<Figure size 360x360 with 1 Axes>"
      ]
     },
     "metadata": {
      "needs_background": "light"
     },
     "output_type": "display_data"
    }
   ],
   "source": [
    "import seaborn as sns\n",
    "\n",
    "sns.displot(scores, rug=True)"
   ]
  },
  {
   "cell_type": "code",
   "execution_count": 4,
   "metadata": {},
   "outputs": [
    {
     "data": {
      "text/plain": [
       "[[array([-4.000534e-01,  9.514413e-05], dtype=float32), 1],\n",
       " [array([-0.4008638 , -0.00081038], dtype=float32), 1],\n",
       " [array([-0.402574  , -0.00171023], dtype=float32), 1],\n",
       " [array([-0.4051721, -0.0025981], dtype=float32), 1],\n",
       " [array([-0.40863985, -0.00346774], dtype=float32), 1]]"
      ]
     },
     "execution_count": 4,
     "metadata": {},
     "output_type": "execute_result"
    }
   ],
   "source": [
    "training_data[:5]"
   ]
  },
  {
   "cell_type": "code",
   "execution_count": 10,
   "metadata": {},
   "outputs": [
    {
     "name": "stdout",
     "output_type": "stream",
     "text": [
      "[array([-0.43834151, -0.0016444 ]), 0]\n",
      "(2,)\n",
      "(2,)\n",
      "[array([-0.44161839, -0.00327688]), 1]\n",
      "(2,)\n",
      "(2,)\n",
      "[array([-0.44550395, -0.00388556]), 1]\n",
      "(2,)\n",
      "(2,)\n",
      "[array([-0.44996987, -0.00446593]), 1]\n",
      "(2,)\n",
      "(2,)\n",
      "[array([-0.45498354, -0.00501366]), 1]\n",
      "(2,)\n",
      "(2,)\n"
     ]
    },
    {
     "name": "stderr",
     "output_type": "stream",
     "text": [
      "C:\\Users\\SEHWAN~1\\AppData\\Local\\Temp/ipykernel_23832/3625048921.py:3: VisibleDeprecationWarning: Creating an ndarray from ragged nested sequences (which is a list-or-tuple of lists-or-tuples-or ndarrays with different lengths or shapes) is deprecated. If you meant to do this, you must specify 'dtype=object' when creating the ndarray\n",
      "  arr = np.array(i)\n"
     ]
    }
   ],
   "source": [
    "for i in training_data[:5]:\n",
    "    print(i)\n",
    "    arr = np.array(i)\n",
    "    print(arr.shape)\n",
    "    arr1 = arr.reshape(-1, 2) \n",
    "    print(arr.shape)"
   ]
  },
  {
   "cell_type": "code",
   "execution_count": 12,
   "metadata": {},
   "outputs": [
    {
     "name": "stdout",
     "output_type": "stream",
     "text": [
      "Before shape : (11940, 2)\n",
      "After shape : (11940, 2)\n",
      "Before shape : (11940,)\n",
      "After shape : (11940, 1)\n"
     ]
    }
   ],
   "source": [
    "train_x = np.array([i[0] for i in training_data])\n",
    "print(f\"Before shape : {train_x.shape}\")\n",
    "train_x = train_x.reshape(-1, 2)\n",
    "print(f\"After shape : {train_x.shape}\")\n",
    "\n",
    "train_y = np.array([i[1] for i in training_data])\n",
    "print(f\"Before shape : {train_y.shape}\")\n",
    "train_y = train_y.reshape(-1, 1)\n",
    "print(f\"After shape : {train_y.shape}\")\n"
   ]
  },
  {
   "cell_type": "code",
   "execution_count": 13,
   "metadata": {},
   "outputs": [],
   "source": [
    "\n",
    "model = tf.keras.Sequential([\n",
    "    tf.keras.layers.Dense(128, input_shape=[2, ], activation='relu'), \n",
    "    tf.keras.layers.Dense(32, activation='relu'), \n",
    "    tf.keras.layers.Dense(3, activation='relu'), \n",
    "])\n",
    "\n",
    "model.compile(optimizer=tf.optimizers.Adam()\n",
    "            , loss='sparse_categorical_crossentropy'\n",
    "            , metrics=['accuracy'])\n",
    "\n",
    "\n"
   ]
  },
  {
   "cell_type": "code",
   "execution_count": 19,
   "metadata": {},
   "outputs": [
    {
     "name": "stdout",
     "output_type": "stream",
     "text": [
      "Epoch 1/30\n",
      "560/560 [==============================] - 0s 842us/step - loss: 1.0986 - accuracy: 0.3347 - val_loss: 1.0986 - val_accuracy: 0.3303\n",
      "Epoch 2/30\n",
      "560/560 [==============================] - 0s 716us/step - loss: 1.0986 - accuracy: 0.3347 - val_loss: 1.0986 - val_accuracy: 0.3303\n",
      "Epoch 3/30\n",
      "560/560 [==============================] - 0s 780us/step - loss: 1.0986 - accuracy: 0.3347 - val_loss: 1.0986 - val_accuracy: 0.3303\n",
      "Epoch 4/30\n",
      "560/560 [==============================] - 0s 748us/step - loss: 1.0986 - accuracy: 0.3347 - val_loss: 1.0986 - val_accuracy: 0.3303\n",
      "Epoch 5/30\n",
      "560/560 [==============================] - 0s 718us/step - loss: 1.0986 - accuracy: 0.3347 - val_loss: 1.0986 - val_accuracy: 0.3303\n",
      "Epoch 6/30\n",
      "560/560 [==============================] - 0s 784us/step - loss: 1.0986 - accuracy: 0.3347 - val_loss: 1.0986 - val_accuracy: 0.3303\n",
      "Epoch 7/30\n",
      "560/560 [==============================] - 0s 718us/step - loss: 1.0986 - accuracy: 0.3347 - val_loss: 1.0986 - val_accuracy: 0.3303\n",
      "Epoch 8/30\n",
      "560/560 [==============================] - 0s 759us/step - loss: 1.0986 - accuracy: 0.3347 - val_loss: 1.0986 - val_accuracy: 0.3303\n",
      "Epoch 9/30\n",
      "560/560 [==============================] - 0s 702us/step - loss: 1.0986 - accuracy: 0.3347 - val_loss: 1.0986 - val_accuracy: 0.3303\n",
      "Epoch 10/30\n",
      "560/560 [==============================] - 0s 707us/step - loss: 1.0986 - accuracy: 0.3347 - val_loss: 1.0986 - val_accuracy: 0.3303\n",
      "Epoch 11/30\n",
      "560/560 [==============================] - 0s 722us/step - loss: 1.0986 - accuracy: 0.3347 - val_loss: 1.0986 - val_accuracy: 0.3303\n",
      "Epoch 12/30\n",
      "560/560 [==============================] - 0s 727us/step - loss: 1.0986 - accuracy: 0.3347 - val_loss: 1.0986 - val_accuracy: 0.3303\n",
      "Epoch 13/30\n",
      "560/560 [==============================] - 0s 768us/step - loss: 1.0986 - accuracy: 0.3347 - val_loss: 1.0986 - val_accuracy: 0.3303\n",
      "Epoch 14/30\n",
      "560/560 [==============================] - 0s 830us/step - loss: 1.0986 - accuracy: 0.3347 - val_loss: 1.0986 - val_accuracy: 0.3303\n",
      "Epoch 15/30\n",
      "560/560 [==============================] - 0s 759us/step - loss: 1.0986 - accuracy: 0.3347 - val_loss: 1.0986 - val_accuracy: 0.3303\n",
      "Epoch 16/30\n",
      "560/560 [==============================] - 0s 744us/step - loss: 1.0986 - accuracy: 0.3347 - val_loss: 1.0986 - val_accuracy: 0.3303\n",
      "Epoch 17/30\n",
      "560/560 [==============================] - 0s 753us/step - loss: 1.0986 - accuracy: 0.3347 - val_loss: 1.0986 - val_accuracy: 0.3303\n",
      "Epoch 18/30\n",
      "560/560 [==============================] - 0s 838us/step - loss: 1.0986 - accuracy: 0.3347 - val_loss: 1.0986 - val_accuracy: 0.3303\n",
      "Epoch 19/30\n",
      "560/560 [==============================] - 0s 807us/step - loss: 1.0986 - accuracy: 0.3347 - val_loss: 1.0986 - val_accuracy: 0.3303\n",
      "Epoch 20/30\n",
      "560/560 [==============================] - 0s 878us/step - loss: 1.0986 - accuracy: 0.3347 - val_loss: 1.0986 - val_accuracy: 0.3303\n",
      "Epoch 21/30\n",
      "560/560 [==============================] - 0s 718us/step - loss: 1.0986 - accuracy: 0.3347 - val_loss: 1.0986 - val_accuracy: 0.3303\n",
      "Epoch 22/30\n",
      "560/560 [==============================] - 0s 671us/step - loss: 1.0986 - accuracy: 0.3347 - val_loss: 1.0986 - val_accuracy: 0.3303\n",
      "Epoch 23/30\n",
      "560/560 [==============================] - 0s 731us/step - loss: 1.0986 - accuracy: 0.3347 - val_loss: 1.0986 - val_accuracy: 0.3303\n",
      "Epoch 24/30\n",
      "560/560 [==============================] - 0s 747us/step - loss: 1.0986 - accuracy: 0.3347 - val_loss: 1.0986 - val_accuracy: 0.3303\n",
      "Epoch 25/30\n",
      "560/560 [==============================] - 0s 727us/step - loss: 1.0986 - accuracy: 0.3347 - val_loss: 1.0986 - val_accuracy: 0.3303\n",
      "Epoch 26/30\n",
      "560/560 [==============================] - 0s 712us/step - loss: 1.0986 - accuracy: 0.3347 - val_loss: 1.0986 - val_accuracy: 0.3303\n",
      "Epoch 27/30\n",
      "560/560 [==============================] - 0s 692us/step - loss: 1.0986 - accuracy: 0.3347 - val_loss: 1.0986 - val_accuracy: 0.3303\n",
      "Epoch 28/30\n",
      "560/560 [==============================] - 0s 698us/step - loss: 1.0986 - accuracy: 0.3347 - val_loss: 1.0986 - val_accuracy: 0.3303\n",
      "Epoch 29/30\n",
      "560/560 [==============================] - 0s 718us/step - loss: 1.0986 - accuracy: 0.3347 - val_loss: 1.0986 - val_accuracy: 0.3303\n",
      "Epoch 30/30\n",
      "560/560 [==============================] - 0s 690us/step - loss: 1.0986 - accuracy: 0.3347 - val_loss: 1.0986 - val_accuracy: 0.3303\n"
     ]
    }
   ],
   "source": [
    "hist = model.fit(train_x, train_y, epochs=30, batch_size=16, validation_split=0.25)"
   ]
  },
  {
   "cell_type": "code",
   "execution_count": 20,
   "metadata": {},
   "outputs": [
    {
     "data": {
      "image/png": "[encoded data removed]",
      "text/plain": [
       "<Figure size 432x288 with 1 Axes>"
      ]
     },
     "metadata": {
      "needs_background": "light"
     },
     "output_type": "display_data"
    }
   ],
   "source": [
    "import matplotlib.pyplot as plt \n",
    "\n",
    "plt.plot(hist.history['accuracy'], 'b-', label='accuracy')\n",
    "plt.plot(hist.history['val_accuracy'], 'k--', label='val_accuracy')\n",
    "plt.legend() \n",
    "plt.show()"
   ]
  },
  {
   "cell_type": "code",
   "execution_count": 16,
   "metadata": {},
   "outputs": [
    {
     "ename": "AssertionError",
     "evalue": "array([0., 0., 0.], dtype=float32) (<class 'numpy.ndarray'>) invalid",
     "output_type": "error",
     "traceback": [
      "\u001b[1;31m---------------------------------------------------------------------------\u001b[0m",
      "\u001b[1;31mAssertionError\u001b[0m                            Traceback (most recent call last)",
      "\u001b[1;32mC:\\Users\\SEHWAN~1\\AppData\\Local\\Temp/ipykernel_23832/694771954.py\u001b[0m in \u001b[0;36m<module>\u001b[1;34m\u001b[0m\n\u001b[0;32m     18\u001b[0m         \u001b[0maction\u001b[0m \u001b[1;33m=\u001b[0m \u001b[0mmodel\u001b[0m\u001b[1;33m.\u001b[0m\u001b[0mpredict\u001b[0m\u001b[1;33m(\u001b[0m\u001b[0mnp\u001b[0m\u001b[1;33m.\u001b[0m\u001b[0mexpand_dims\u001b[0m\u001b[1;33m(\u001b[0m\u001b[0mprevious_obs\u001b[0m\u001b[1;33m,\u001b[0m \u001b[0maxis\u001b[0m\u001b[1;33m=\u001b[0m\u001b[1;36m0\u001b[0m\u001b[1;33m)\u001b[0m\u001b[1;33m)\u001b[0m\u001b[1;33m[\u001b[0m\u001b[1;36m0\u001b[0m\u001b[1;33m]\u001b[0m\u001b[1;33m\u001b[0m\u001b[1;33m\u001b[0m\u001b[0m\n\u001b[0;32m     19\u001b[0m \u001b[1;33m\u001b[0m\u001b[0m\n\u001b[1;32m---> 20\u001b[1;33m     \u001b[0mobs\u001b[0m\u001b[1;33m,\u001b[0m \u001b[0mreward\u001b[0m\u001b[1;33m,\u001b[0m \u001b[0mdone\u001b[0m\u001b[1;33m,\u001b[0m \u001b[0m_\u001b[0m \u001b[1;33m=\u001b[0m \u001b[0menv\u001b[0m\u001b[1;33m.\u001b[0m\u001b[0mstep\u001b[0m\u001b[1;33m(\u001b[0m\u001b[0maction\u001b[0m\u001b[1;33m)\u001b[0m\u001b[1;33m\u001b[0m\u001b[1;33m\u001b[0m\u001b[0m\n\u001b[0m\u001b[0;32m     21\u001b[0m     \u001b[0mprevious_obs\u001b[0m \u001b[1;33m=\u001b[0m \u001b[0mobs\u001b[0m\u001b[1;33m\u001b[0m\u001b[1;33m\u001b[0m\u001b[0m\n\u001b[0;32m     22\u001b[0m     \u001b[0mscore\u001b[0m \u001b[1;33m+=\u001b[0m \u001b[0mreward\u001b[0m\u001b[1;33m\u001b[0m\u001b[1;33m\u001b[0m\u001b[0m\n",
      "\u001b[1;32m~\\AppData\\Local\\Programs\\Python\\Python39\\lib\\site-packages\\gym\\wrappers\\time_limit.py\u001b[0m in \u001b[0;36mstep\u001b[1;34m(self, action)\u001b[0m\n\u001b[0;32m     14\u001b[0m     \u001b[1;32mdef\u001b[0m \u001b[0mstep\u001b[0m\u001b[1;33m(\u001b[0m\u001b[0mself\u001b[0m\u001b[1;33m,\u001b[0m \u001b[0maction\u001b[0m\u001b[1;33m)\u001b[0m\u001b[1;33m:\u001b[0m\u001b[1;33m\u001b[0m\u001b[1;33m\u001b[0m\u001b[0m\n\u001b[0;32m     15\u001b[0m         \u001b[1;32massert\u001b[0m \u001b[0mself\u001b[0m\u001b[1;33m.\u001b[0m\u001b[0m_elapsed_steps\u001b[0m \u001b[1;32mis\u001b[0m \u001b[1;32mnot\u001b[0m \u001b[1;32mNone\u001b[0m\u001b[1;33m,\u001b[0m \u001b[1;34m\"Cannot call env.step() before calling reset()\"\u001b[0m\u001b[1;33m\u001b[0m\u001b[1;33m\u001b[0m\u001b[0m\n\u001b[1;32m---> 16\u001b[1;33m         \u001b[0mobservation\u001b[0m\u001b[1;33m,\u001b[0m \u001b[0mreward\u001b[0m\u001b[1;33m,\u001b[0m \u001b[0mdone\u001b[0m\u001b[1;33m,\u001b[0m \u001b[0minfo\u001b[0m \u001b[1;33m=\u001b[0m \u001b[0mself\u001b[0m\u001b[1;33m.\u001b[0m\u001b[0menv\u001b[0m\u001b[1;33m.\u001b[0m\u001b[0mstep\u001b[0m\u001b[1;33m(\u001b[0m\u001b[0maction\u001b[0m\u001b[1;33m)\u001b[0m\u001b[1;33m\u001b[0m\u001b[1;33m\u001b[0m\u001b[0m\n\u001b[0m\u001b[0;32m     17\u001b[0m         \u001b[0mself\u001b[0m\u001b[1;33m.\u001b[0m\u001b[0m_elapsed_steps\u001b[0m \u001b[1;33m+=\u001b[0m \u001b[1;36m1\u001b[0m\u001b[1;33m\u001b[0m\u001b[1;33m\u001b[0m\u001b[0m\n\u001b[0;32m     18\u001b[0m         \u001b[1;32mif\u001b[0m \u001b[0mself\u001b[0m\u001b[1;33m.\u001b[0m\u001b[0m_elapsed_steps\u001b[0m \u001b[1;33m>=\u001b[0m \u001b[0mself\u001b[0m\u001b[1;33m.\u001b[0m\u001b[0m_max_episode_steps\u001b[0m\u001b[1;33m:\u001b[0m\u001b[1;33m\u001b[0m\u001b[1;33m\u001b[0m\u001b[0m\n",
      "\u001b[1;32m~\\AppData\\Local\\Programs\\Python\\Python39\\lib\\site-packages\\gym\\envs\\classic_control\\mountain_car.py\u001b[0m in \u001b[0;36mstep\u001b[1;34m(self, action)\u001b[0m\n\u001b[0;32m     89\u001b[0m \u001b[1;33m\u001b[0m\u001b[0m\n\u001b[0;32m     90\u001b[0m     \u001b[1;32mdef\u001b[0m \u001b[0mstep\u001b[0m\u001b[1;33m(\u001b[0m\u001b[0mself\u001b[0m\u001b[1;33m,\u001b[0m \u001b[0maction\u001b[0m\u001b[1;33m)\u001b[0m\u001b[1;33m:\u001b[0m\u001b[1;33m\u001b[0m\u001b[1;33m\u001b[0m\u001b[0m\n\u001b[1;32m---> 91\u001b[1;33m         \u001b[1;32massert\u001b[0m \u001b[0mself\u001b[0m\u001b[1;33m.\u001b[0m\u001b[0maction_space\u001b[0m\u001b[1;33m.\u001b[0m\u001b[0mcontains\u001b[0m\u001b[1;33m(\u001b[0m\u001b[0maction\u001b[0m\u001b[1;33m)\u001b[0m\u001b[1;33m,\u001b[0m \u001b[1;34m\"%r (%s) invalid\"\u001b[0m \u001b[1;33m%\u001b[0m \u001b[1;33m(\u001b[0m\u001b[0maction\u001b[0m\u001b[1;33m,\u001b[0m \u001b[0mtype\u001b[0m\u001b[1;33m(\u001b[0m\u001b[0maction\u001b[0m\u001b[1;33m)\u001b[0m\u001b[1;33m)\u001b[0m\u001b[1;33m\u001b[0m\u001b[1;33m\u001b[0m\u001b[0m\n\u001b[0m\u001b[0;32m     92\u001b[0m \u001b[1;33m\u001b[0m\u001b[0m\n\u001b[0;32m     93\u001b[0m         \u001b[0mposition\u001b[0m\u001b[1;33m,\u001b[0m \u001b[0mvelocity\u001b[0m \u001b[1;33m=\u001b[0m \u001b[0mself\u001b[0m\u001b[1;33m.\u001b[0m\u001b[0mstate\u001b[0m\u001b[1;33m\u001b[0m\u001b[1;33m\u001b[0m\u001b[0m\n",
      "\u001b[1;31mAssertionError\u001b[0m: array([0., 0., 0.], dtype=float32) (<class 'numpy.ndarray'>) invalid"
     ]
    }
   ],
   "source": [
    "\n",
    "# env = wrap_env(gym.make('MountainCar-v0')) \n",
    "# env = gym.make('MountainCar-v0')\n",
    "env.reset() \n",
    "\n",
    "score = 0 \n",
    "step = 0 \n",
    "previous_obs = [] \n",
    "\n",
    "while True: \n",
    "\n",
    "    # print(1)\n",
    "\n",
    "    env.render()\n",
    "\n",
    "    if len(previous_obs) == 0:\n",
    "        action = env.action_space.sample() \n",
    "    else:\n",
    "        action = model.predict(np.expand_dims(previous_obs, axis=0))[0]\n",
    "        \n",
    "    obs, reward, done, _ = env.step(action) \n",
    "    previous_obs = obs\n",
    "    score += reward \n",
    "    step += 1\n",
    "\n",
    "    if done:\n",
    "        break \n",
    "\n",
    "\n",
    "print(f\"score : {score}\")\n",
    "print(f\"step : {step}\")\n",
    "\n",
    "env.env.close() \n"
   ]
  },
  {
   "cell_type": "code",
   "execution_count": 17,
   "metadata": {},
   "outputs": [],
   "source": [
    "env.env.close()"
   ]
  },
  {
   "cell_type": "code",
   "execution_count": 2,
   "metadata": {},
   "outputs": [],
   "source": [
    "env = gym.make('MountainCarContinuous-v0')"
   ]
  },
  {
   "cell_type": "code",
   "execution_count": 3,
   "metadata": {},
   "outputs": [
    {
     "name": "stdout",
     "output_type": "stream",
     "text": [
      "Box([-1.2  -0.07], [0.6  0.07], (2,), float32)\n",
      "\n",
      "[-1.2  -0.07]\n",
      "[0.6  0.07]\n",
      "\n",
      "action space : Box([-1.], [1.], (1,), float32)\n",
      "999\n"
     ]
    }
   ],
   "source": [
    "print(env.observation_space)\n",
    "\n",
    "print()\n",
    "\n",
    "print(env.observation_space.low)\n",
    "print(env.observation_space.high)\n",
    "\n",
    "print()\n",
    "\n",
    "\n",
    "print(f\"action space : {env.action_space}\") \n",
    "\n",
    "print(env._max_episode_steps)"
   ]
  },
  {
   "cell_type": "code",
   "execution_count": 5,
   "metadata": {},
   "outputs": [
    {
     "name": "stdout",
     "output_type": "stream",
     "text": [
      "[-1.         -0.59999999 -0.19999999  0.20000002  0.60000002  1.00000003]\n"
     ]
    }
   ],
   "source": [
    "\n",
    "state_grid_count = 10 \n",
    "action_grid_count = 6 \n",
    "\n",
    "q_table = []\n",
    "\n",
    "for i in range(state_grid_count):\n",
    "\n",
    "    q_table.append([])\n",
    "\n",
    "    for j in range(state_grid_count):\n",
    "        q_table[i].append([])\n",
    "\n",
    "        for a in range(action_grid_count):\n",
    "            q_table[i][j].append(1e-4) \n",
    "\n",
    "actions = range(action_grid_count)\n",
    "actions = np.array(actions).astype(float) \n",
    "actions *= ((env.action_space.high - env.action_space.low) / (action_grid_count - 1))\n",
    "actions += env.action_space.low\n",
    "\n",
    "print(actions)"
   ]
  },
  {
   "cell_type": "code",
   "execution_count": 6,
   "metadata": {},
   "outputs": [],
   "source": [
    "import random \n",
    "\n",
    "# 관찰 상태를 각 격자에 보관\n",
    "def obs_to_state(env, obs): \n",
    "    obs = obs.flatten() \n",
    "    # print(f\"obs : {obs}\")\n",
    "    low = env.observation_space.low \n",
    "    # print(f\"high : {high}\")\n",
    "    # print(f\"low : {low}\")\n",
    "    high = env.observation_space.high\n",
    "    idx = (obs - low) / (high - low) * state_grid_count\n",
    "    # print(f\"idx : {idx}\")\n",
    "    idx = [int(x) for x in idx]\n",
    "    # print(f\"idx : {idx}\")\n",
    "\n",
    "    return idx \n",
    "\n",
    "def softmax(logits):\n",
    "    exp_logits = np.exp(logits - np.max(logits))\n",
    "    sum_exp_logits = np.sum(exp_logits)\n",
    "    return exp_logits / sum_exp_logits"
   ]
  },
  {
   "cell_type": "code",
   "execution_count": 7,
   "metadata": {},
   "outputs": [
    {
     "name": "stdout",
     "output_type": "stream",
     "text": [
      "[-0.78369075 -0.01849763]\n",
      "[2, 3]\n"
     ]
    }
   ],
   "source": [
    "sample = env.observation_space.sample() \n",
    "grid = obs_to_state(env, sample) \n",
    "\n",
    "print(sample) \n",
    "print(grid) "
   ]
  },
  {
   "cell_type": "code",
   "execution_count": 9,
   "metadata": {},
   "outputs": [
    {
     "name": "stderr",
     "output_type": "stream",
     "text": [
      "  1%|          | 103/10000 [00:06<10:50, 15.21it/s]"
     ]
    },
    {
     "name": "stdout",
     "output_type": "stream",
     "text": [
      "100 mean_score : -8.035039703152224, mean_step : 999.0, epsilon : 0.01\n"
     ]
    },
    {
     "name": "stderr",
     "output_type": "stream",
     "text": [
      "  2%|▏         | 203/10000 [00:12<10:37, 15.37it/s]"
     ]
    },
    {
     "name": "stdout",
     "output_type": "stream",
     "text": [
      "200 mean_score : -4.386719540362345, mean_step : 999.0, epsilon : 0.01\n"
     ]
    },
    {
     "name": "stderr",
     "output_type": "stream",
     "text": [
      "  3%|▎         | 304/10000 [00:18<10:15, 15.76it/s]"
     ]
    },
    {
     "name": "stdout",
     "output_type": "stream",
     "text": [
      "300 mean_score : -4.415839541575899, mean_step : 999.0, epsilon : 0.01\n"
     ]
    },
    {
     "name": "stderr",
     "output_type": "stream",
     "text": [
      "  4%|▍         | 403/10000 [00:24<10:03, 15.91it/s]"
     ]
    },
    {
     "name": "stdout",
     "output_type": "stream",
     "text": [
      "400 mean_score : -4.4353595428609776, mean_step : 999.0, epsilon : 0.01\n"
     ]
    },
    {
     "name": "stderr",
     "output_type": "stream",
     "text": [
      "  5%|▌         | 503/10000 [00:31<09:55, 15.96it/s]"
     ]
    },
    {
     "name": "stdout",
     "output_type": "stream",
     "text": [
      "500 mean_score : -4.40719954098462, mean_step : 999.0, epsilon : 0.01\n"
     ]
    },
    {
     "name": "stderr",
     "output_type": "stream",
     "text": [
      "  6%|▌         | 603/10000 [00:37<09:37, 16.27it/s]"
     ]
    },
    {
     "name": "stdout",
     "output_type": "stream",
     "text": [
      "600 mean_score : -4.42095954302787, mean_step : 999.0, epsilon : 0.01\n"
     ]
    },
    {
     "name": "stderr",
     "output_type": "stream",
     "text": [
      "  7%|▋         | 703/10000 [00:43<09:57, 15.55it/s]"
     ]
    },
    {
     "name": "stdout",
     "output_type": "stream",
     "text": [
      "700 mean_score : -4.446559543623918, mean_step : 999.0, epsilon : 0.01\n"
     ]
    },
    {
     "name": "stderr",
     "output_type": "stream",
     "text": [
      "  8%|▊         | 801/10000 [00:50<09:44, 15.74it/s]"
     ]
    },
    {
     "name": "stdout",
     "output_type": "stream",
     "text": [
      "800 mean_score : -4.402079541285027, mean_step : 999.0, epsilon : 0.01\n"
     ]
    },
    {
     "name": "stderr",
     "output_type": "stream",
     "text": [
      "  9%|▉         | 904/10000 [00:56<09:14, 16.42it/s]"
     ]
    },
    {
     "name": "stdout",
     "output_type": "stream",
     "text": [
      "900 mean_score : -4.385119539957035, mean_step : 999.0, epsilon : 0.01\n"
     ]
    },
    {
     "name": "stderr",
     "output_type": "stream",
     "text": [
      " 10%|█         | 1004/10000 [01:02<09:34, 15.67it/s]"
     ]
    },
    {
     "name": "stdout",
     "output_type": "stream",
     "text": [
      "1000 mean_score : -4.410079543657294, mean_step : 999.0, epsilon : 0.01\n"
     ]
    },
    {
     "name": "stderr",
     "output_type": "stream",
     "text": [
      " 11%|█         | 1104/10000 [01:09<09:39, 15.35it/s]"
     ]
    },
    {
     "name": "stdout",
     "output_type": "stream",
     "text": [
      "1100 mean_score : -4.403999541962136, mean_step : 999.0, epsilon : 0.01\n"
     ]
    },
    {
     "name": "stderr",
     "output_type": "stream",
     "text": [
      " 12%|█▏        | 1204/10000 [01:15<08:31, 17.18it/s]"
     ]
    },
    {
     "name": "stdout",
     "output_type": "stream",
     "text": [
      "1200 mean_score : -4.424159542479504, mean_step : 999.0, epsilon : 0.01\n"
     ]
    },
    {
     "name": "stderr",
     "output_type": "stream",
     "text": [
      " 13%|█▎        | 1305/10000 [01:21<08:52, 16.34it/s]"
     ]
    },
    {
     "name": "stdout",
     "output_type": "stream",
     "text": [
      "1300 mean_score : -4.467679542965885, mean_step : 999.0, epsilon : 0.01\n"
     ]
    },
    {
     "name": "stderr",
     "output_type": "stream",
     "text": [
      " 14%|█▍        | 1404/10000 [01:28<09:03, 15.80it/s]"
     ]
    },
    {
     "name": "stdout",
     "output_type": "stream",
     "text": [
      "1400 mean_score : -4.4231995430231015, mean_step : 999.0, epsilon : 0.01\n"
     ]
    },
    {
     "name": "stderr",
     "output_type": "stream",
     "text": [
      " 15%|█▌        | 1505/10000 [01:34<08:32, 16.59it/s]"
     ]
    },
    {
     "name": "stdout",
     "output_type": "stream",
     "text": [
      "1500 mean_score : -4.413599542295924, mean_step : 999.0, epsilon : 0.01\n"
     ]
    },
    {
     "name": "stderr",
     "output_type": "stream",
     "text": [
      " 16%|█▌        | 1603/10000 [01:40<08:44, 16.02it/s]"
     ]
    },
    {
     "name": "stdout",
     "output_type": "stream",
     "text": [
      "1600 mean_score : -4.4183995420575055, mean_step : 999.0, epsilon : 0.01\n"
     ]
    },
    {
     "name": "stderr",
     "output_type": "stream",
     "text": [
      " 17%|█▋        | 1705/10000 [01:47<08:56, 15.46it/s]"
     ]
    },
    {
     "name": "stdout",
     "output_type": "stream",
     "text": [
      "1700 mean_score : -4.411039542291157, mean_step : 999.0, epsilon : 0.01\n"
     ]
    },
    {
     "name": "stderr",
     "output_type": "stream",
     "text": [
      " 18%|█▊        | 1804/10000 [01:53<08:54, 15.33it/s]"
     ]
    },
    {
     "name": "stdout",
     "output_type": "stream",
     "text": [
      "1800 mean_score : -4.426719542376987, mean_step : 999.0, epsilon : 0.01\n"
     ]
    },
    {
     "name": "stderr",
     "output_type": "stream",
     "text": [
      " 19%|█▉        | 1906/10000 [01:59<08:20, 16.17it/s]"
     ]
    },
    {
     "name": "stdout",
     "output_type": "stream",
     "text": [
      "1900 mean_score : -4.434719543390266, mean_step : 999.0, epsilon : 0.01\n"
     ]
    },
    {
     "name": "stderr",
     "output_type": "stream",
     "text": [
      " 20%|██        | 2005/10000 [02:06<08:30, 15.65it/s]"
     ]
    },
    {
     "name": "stdout",
     "output_type": "stream",
     "text": [
      "2000 mean_score : -4.403039542040814, mean_step : 999.0, epsilon : 0.01\n"
     ]
    },
    {
     "name": "stderr",
     "output_type": "stream",
     "text": [
      " 21%|██        | 2103/10000 [02:12<08:36, 15.30it/s]"
     ]
    },
    {
     "name": "stdout",
     "output_type": "stream",
     "text": [
      "2100 mean_score : -4.417439541516295, mean_step : 999.0, epsilon : 0.01\n"
     ]
    },
    {
     "name": "stderr",
     "output_type": "stream",
     "text": [
      " 22%|██▏       | 2203/10000 [02:18<08:02, 16.17it/s]"
     ]
    },
    {
     "name": "stdout",
     "output_type": "stream",
     "text": [
      "2200 mean_score : -4.433439543066017, mean_step : 999.0, epsilon : 0.01\n"
     ]
    },
    {
     "name": "stderr",
     "output_type": "stream",
     "text": [
      " 23%|██▎       | 2301/10000 [02:24<08:30, 15.08it/s]"
     ]
    },
    {
     "name": "stdout",
     "output_type": "stream",
     "text": [
      "2300 mean_score : -4.391839541695107, mean_step : 999.0, epsilon : 0.01\n"
     ]
    },
    {
     "name": "stderr",
     "output_type": "stream",
     "text": [
      " 24%|██▍       | 2404/10000 [02:31<07:48, 16.21it/s]"
     ]
    },
    {
     "name": "stdout",
     "output_type": "stream",
     "text": [
      "2400 mean_score : -4.420959542360297, mean_step : 999.0, epsilon : 0.01\n"
     ]
    },
    {
     "name": "stderr",
     "output_type": "stream",
     "text": [
      " 25%|██▌       | 2506/10000 [02:37<07:52, 15.86it/s]"
     ]
    },
    {
     "name": "stdout",
     "output_type": "stream",
     "text": [
      "2500 mean_score : -4.443679543919556, mean_step : 999.0, epsilon : 0.01\n"
     ]
    },
    {
     "name": "stderr",
     "output_type": "stream",
     "text": [
      " 26%|██▌       | 2603/10000 [02:43<08:01, 15.36it/s]"
     ]
    },
    {
     "name": "stdout",
     "output_type": "stream",
     "text": [
      "2600 mean_score : -4.405919540982237, mean_step : 999.0, epsilon : 0.01\n"
     ]
    },
    {
     "name": "stderr",
     "output_type": "stream",
     "text": [
      " 27%|██▋       | 2704/10000 [02:49<07:44, 15.70it/s]"
     ]
    },
    {
     "name": "stdout",
     "output_type": "stream",
     "text": [
      "2700 mean_score : -4.437919542925352, mean_step : 999.0, epsilon : 0.01\n"
     ]
    },
    {
     "name": "stderr",
     "output_type": "stream",
     "text": [
      " 28%|██▊       | 2805/10000 [02:56<07:24, 16.20it/s]"
     ]
    },
    {
     "name": "stdout",
     "output_type": "stream",
     "text": [
      "2800 mean_score : -4.430239541993133, mean_step : 999.0, epsilon : 0.01\n"
     ]
    },
    {
     "name": "stderr",
     "output_type": "stream",
     "text": [
      " 29%|██▉       | 2905/10000 [03:02<07:38, 15.46it/s]"
     ]
    },
    {
     "name": "stdout",
     "output_type": "stream",
     "text": [
      "2900 mean_score : -4.39663954145669, mean_step : 999.0, epsilon : 0.01\n"
     ]
    },
    {
     "name": "stderr",
     "output_type": "stream",
     "text": [
      " 30%|███       | 3004/10000 [03:08<07:21, 15.85it/s]"
     ]
    },
    {
     "name": "stdout",
     "output_type": "stream",
     "text": [
      "3000 mean_score : -4.480159544875617, mean_step : 999.0, epsilon : 0.01\n"
     ]
    },
    {
     "name": "stderr",
     "output_type": "stream",
     "text": [
      " 31%|███       | 3104/10000 [03:14<07:27, 15.40it/s]"
     ]
    },
    {
     "name": "stdout",
     "output_type": "stream",
     "text": [
      "3100 mean_score : -4.422559541704647, mean_step : 999.0, epsilon : 0.01\n"
     ]
    },
    {
     "name": "stderr",
     "output_type": "stream",
     "text": [
      " 32%|███▏      | 3204/10000 [03:20<06:58, 16.24it/s]"
     ]
    },
    {
     "name": "stdout",
     "output_type": "stream",
     "text": [
      "3200 mean_score : -4.439199542796605, mean_step : 999.0, epsilon : 0.01\n"
     ]
    },
    {
     "name": "stderr",
     "output_type": "stream",
     "text": [
      " 33%|███▎      | 3302/10000 [03:27<06:46, 16.48it/s]"
     ]
    },
    {
     "name": "stdout",
     "output_type": "stream",
     "text": [
      "3300 mean_score : -4.419999542438975, mean_step : 999.0, epsilon : 0.01\n"
     ]
    },
    {
     "name": "stderr",
     "output_type": "stream",
     "text": [
      " 34%|███▍      | 3404/10000 [03:33<06:41, 16.42it/s]"
     ]
    },
    {
     "name": "stdout",
     "output_type": "stream",
     "text": [
      "3400 mean_score : -4.4215995425581855, mean_step : 999.0, epsilon : 0.01\n"
     ]
    },
    {
     "name": "stderr",
     "output_type": "stream",
     "text": [
      " 35%|███▌      | 3504/10000 [03:39<07:00, 15.46it/s]"
     ]
    },
    {
     "name": "stdout",
     "output_type": "stream",
     "text": [
      "3500 mean_score : -4.433119544129364, mean_step : 999.0, epsilon : 0.01\n"
     ]
    },
    {
     "name": "stderr",
     "output_type": "stream",
     "text": [
      " 36%|███▌      | 3606/10000 [03:46<06:53, 15.47it/s]"
     ]
    },
    {
     "name": "stdout",
     "output_type": "stream",
     "text": [
      "3600 mean_score : -4.390879541094293, mean_step : 999.0, epsilon : 0.01\n"
     ]
    },
    {
     "name": "stderr",
     "output_type": "stream",
     "text": [
      " 37%|███▋      | 3704/10000 [03:52<06:19, 16.57it/s]"
     ]
    },
    {
     "name": "stdout",
     "output_type": "stream",
     "text": [
      "3700 mean_score : -4.420639541099064, mean_step : 999.0, epsilon : 0.01\n"
     ]
    },
    {
     "name": "stderr",
     "output_type": "stream",
     "text": [
      " 38%|███▊      | 3805/10000 [03:58<06:47, 15.19it/s]"
     ]
    },
    {
     "name": "stdout",
     "output_type": "stream",
     "text": [
      "3800 mean_score : -4.451359543611997, mean_step : 999.0, epsilon : 0.01\n"
     ]
    },
    {
     "name": "stderr",
     "output_type": "stream",
     "text": [
      " 39%|███▉      | 3905/10000 [04:05<06:36, 15.36it/s]"
     ]
    },
    {
     "name": "stdout",
     "output_type": "stream",
     "text": [
      "3900 mean_score : -4.40847954078435, mean_step : 999.0, epsilon : 0.01\n"
     ]
    },
    {
     "name": "stderr",
     "output_type": "stream",
     "text": [
      " 40%|████      | 4006/10000 [04:11<06:23, 15.61it/s]"
     ]
    },
    {
     "name": "stdout",
     "output_type": "stream",
     "text": [
      "4000 mean_score : -4.430239541599742, mean_step : 999.0, epsilon : 0.01\n"
     ]
    },
    {
     "name": "stderr",
     "output_type": "stream",
     "text": [
      " 41%|████      | 4104/10000 [04:17<06:23, 15.36it/s]"
     ]
    },
    {
     "name": "stdout",
     "output_type": "stream",
     "text": [
      "4100 mean_score : -4.427039543745511, mean_step : 999.0, epsilon : 0.01\n"
     ]
    },
    {
     "name": "stderr",
     "output_type": "stream",
     "text": [
      " 42%|████▏     | 4202/10000 [04:24<06:14, 15.49it/s]"
     ]
    },
    {
     "name": "stdout",
     "output_type": "stream",
     "text": [
      "4200 mean_score : -4.40751954242467, mean_step : 999.0, epsilon : 0.01\n"
     ]
    },
    {
     "name": "stderr",
     "output_type": "stream",
     "text": [
      " 43%|████▎     | 4306/10000 [04:30<06:10, 15.35it/s]"
     ]
    },
    {
     "name": "stdout",
     "output_type": "stream",
     "text": [
      "4300 mean_score : -4.418719540982237, mean_step : 999.0, epsilon : 0.01\n"
     ]
    },
    {
     "name": "stderr",
     "output_type": "stream",
     "text": [
      " 44%|████▍     | 4402/10000 [04:36<05:58, 15.60it/s]"
     ]
    },
    {
     "name": "stdout",
     "output_type": "stream",
     "text": [
      "4400 mean_score : -4.4004795428347485, mean_step : 999.0, epsilon : 0.01\n"
     ]
    },
    {
     "name": "stderr",
     "output_type": "stream",
     "text": [
      " 45%|████▌     | 4503/10000 [04:42<05:38, 16.22it/s]"
     ]
    },
    {
     "name": "stdout",
     "output_type": "stream",
     "text": [
      "4500 mean_score : -4.4225595421934045, mean_step : 999.0, epsilon : 0.01\n"
     ]
    },
    {
     "name": "stderr",
     "output_type": "stream",
     "text": [
      " 46%|████▌     | 4603/10000 [04:49<05:18, 16.96it/s]"
     ]
    },
    {
     "name": "stdout",
     "output_type": "stream",
     "text": [
      "4600 mean_score : -4.422879542453281, mean_step : 999.0, epsilon : 0.01\n"
     ]
    },
    {
     "name": "stderr",
     "output_type": "stream",
     "text": [
      " 47%|████▋     | 4703/10000 [04:55<05:32, 15.95it/s]"
     ]
    },
    {
     "name": "stdout",
     "output_type": "stream",
     "text": [
      "4700 mean_score : -4.410719541125288, mean_step : 999.0, epsilon : 0.01\n"
     ]
    },
    {
     "name": "stderr",
     "output_type": "stream",
     "text": [
      " 48%|████▊     | 4804/10000 [05:01<04:57, 17.46it/s]"
     ]
    },
    {
     "name": "stdout",
     "output_type": "stream",
     "text": [
      "4800 mean_score : -4.428639542934888, mean_step : 999.0, epsilon : 0.01\n"
     ]
    },
    {
     "name": "stderr",
     "output_type": "stream",
     "text": [
      " 49%|████▉     | 4903/10000 [05:07<05:18, 16.02it/s]"
     ]
    },
    {
     "name": "stdout",
     "output_type": "stream",
     "text": [
      "4900 mean_score : -4.422879542047969, mean_step : 999.0, epsilon : 0.01\n"
     ]
    },
    {
     "name": "stderr",
     "output_type": "stream",
     "text": [
      " 50%|█████     | 5004/10000 [05:13<04:52, 17.05it/s]"
     ]
    },
    {
     "name": "stdout",
     "output_type": "stream",
     "text": [
      "5000 mean_score : -4.4100795405578515, mean_step : 999.0, epsilon : 0.01\n"
     ]
    },
    {
     "name": "stderr",
     "output_type": "stream",
     "text": [
      " 51%|█████     | 5104/10000 [05:19<04:52, 16.73it/s]"
     ]
    },
    {
     "name": "stdout",
     "output_type": "stream",
     "text": [
      "5100 mean_score : -4.410719542937268, mean_step : 999.0, epsilon : 0.01\n"
     ]
    },
    {
     "name": "stderr",
     "output_type": "stream",
     "text": [
      " 52%|█████▏    | 5206/10000 [05:25<04:40, 17.09it/s]"
     ]
    },
    {
     "name": "stdout",
     "output_type": "stream",
     "text": [
      "5200 mean_score : -4.397279541523445, mean_step : 999.0, epsilon : 0.01\n"
     ]
    },
    {
     "name": "stderr",
     "output_type": "stream",
     "text": [
      " 53%|█████▎    | 5305/10000 [05:31<04:41, 16.67it/s]"
     ]
    },
    {
     "name": "stdout",
     "output_type": "stream",
     "text": [
      "5300 mean_score : -4.434719542686934, mean_step : 999.0, epsilon : 0.01\n"
     ]
    },
    {
     "name": "stderr",
     "output_type": "stream",
     "text": [
      " 54%|█████▍    | 5404/10000 [05:37<04:53, 15.64it/s]"
     ]
    },
    {
     "name": "stdout",
     "output_type": "stream",
     "text": [
      "5400 mean_score : -4.437279544324868, mean_step : 999.0, epsilon : 0.01\n"
     ]
    },
    {
     "name": "stderr",
     "output_type": "stream",
     "text": [
      " 55%|█████▌    | 5501/10000 [05:43<04:37, 16.19it/s]"
     ]
    },
    {
     "name": "stdout",
     "output_type": "stream",
     "text": [
      "5500 mean_score : -4.423199542176715, mean_step : 999.0, epsilon : 0.01\n"
     ]
    },
    {
     "name": "stderr",
     "output_type": "stream",
     "text": [
      " 56%|█████▌    | 5606/10000 [05:50<04:41, 15.59it/s]"
     ]
    },
    {
     "name": "stdout",
     "output_type": "stream",
     "text": [
      "5600 mean_score : -4.387039539930808, mean_step : 999.0, epsilon : 0.01\n"
     ]
    },
    {
     "name": "stderr",
     "output_type": "stream",
     "text": [
      " 57%|█████▋    | 5703/10000 [05:56<04:21, 16.45it/s]"
     ]
    },
    {
     "name": "stdout",
     "output_type": "stream",
     "text": [
      "5700 mean_score : -4.438239542613022, mean_step : 999.0, epsilon : 0.01\n"
     ]
    },
    {
     "name": "stderr",
     "output_type": "stream",
     "text": [
      " 58%|█████▊    | 5804/10000 [06:02<04:27, 15.69it/s]"
     ]
    },
    {
     "name": "stdout",
     "output_type": "stream",
     "text": [
      "5800 mean_score : -4.4327995428204465, mean_step : 999.0, epsilon : 0.01\n"
     ]
    },
    {
     "name": "stderr",
     "output_type": "stream",
     "text": [
      " 59%|█████▉    | 5905/10000 [06:08<04:23, 15.56it/s]"
     ]
    },
    {
     "name": "stdout",
     "output_type": "stream",
     "text": [
      "5900 mean_score : -4.413919542078962, mean_step : 999.0, epsilon : 0.01\n"
     ]
    },
    {
     "name": "stderr",
     "output_type": "stream",
     "text": [
      " 60%|██████    | 6004/10000 [06:14<04:14, 15.72it/s]"
     ]
    },
    {
     "name": "stdout",
     "output_type": "stream",
     "text": [
      "6000 mean_score : -4.403679541070452, mean_step : 999.0, epsilon : 0.01\n"
     ]
    },
    {
     "name": "stderr",
     "output_type": "stream",
     "text": [
      " 61%|██████    | 6103/10000 [06:20<04:01, 16.14it/s]"
     ]
    },
    {
     "name": "stdout",
     "output_type": "stream",
     "text": [
      "6100 mean_score : -4.426079542322151, mean_step : 999.0, epsilon : 0.01\n"
     ]
    },
    {
     "name": "stderr",
     "output_type": "stream",
     "text": [
      " 62%|██████▏   | 6205/10000 [06:27<03:46, 16.73it/s]"
     ]
    },
    {
     "name": "stdout",
     "output_type": "stream",
     "text": [
      "6200 mean_score : -4.418079542119494, mean_step : 999.0, epsilon : 0.01\n"
     ]
    },
    {
     "name": "stderr",
     "output_type": "stream",
     "text": [
      " 63%|██████▎   | 6304/10000 [06:33<03:57, 15.58it/s]"
     ]
    },
    {
     "name": "stdout",
     "output_type": "stream",
     "text": [
      "6300 mean_score : -4.42351954331874, mean_step : 999.0, epsilon : 0.01\n"
     ]
    },
    {
     "name": "stderr",
     "output_type": "stream",
     "text": [
      " 64%|██████▍   | 6405/10000 [06:39<03:46, 15.84it/s]"
     ]
    },
    {
     "name": "stdout",
     "output_type": "stream",
     "text": [
      "6400 mean_score : -4.441119542579643, mean_step : 999.0, epsilon : 0.01\n"
     ]
    },
    {
     "name": "stderr",
     "output_type": "stream",
     "text": [
      " 65%|██████▌   | 6503/10000 [06:45<03:30, 16.61it/s]"
     ]
    },
    {
     "name": "stdout",
     "output_type": "stream",
     "text": [
      "6500 mean_score : -4.398879540808189, mean_step : 999.0, epsilon : 0.01\n"
     ]
    },
    {
     "name": "stderr",
     "output_type": "stream",
     "text": [
      " 66%|██████▌   | 6604/10000 [06:51<03:23, 16.65it/s]"
     ]
    },
    {
     "name": "stdout",
     "output_type": "stream",
     "text": [
      "6600 mean_score : -4.44303954297065, mean_step : 999.0, epsilon : 0.01\n"
     ]
    },
    {
     "name": "stderr",
     "output_type": "stream",
     "text": [
      " 67%|██████▋   | 6704/10000 [06:58<03:31, 15.59it/s]"
     ]
    },
    {
     "name": "stdout",
     "output_type": "stream",
     "text": [
      "6700 mean_score : -4.413279541594973, mean_step : 999.0, epsilon : 0.01\n"
     ]
    },
    {
     "name": "stderr",
     "output_type": "stream",
     "text": [
      " 68%|██████▊   | 6803/10000 [07:04<03:04, 17.28it/s]"
     ]
    },
    {
     "name": "stdout",
     "output_type": "stream",
     "text": [
      "6800 mean_score : -4.411999543261518, mean_step : 999.0, epsilon : 0.01\n"
     ]
    },
    {
     "name": "stderr",
     "output_type": "stream",
     "text": [
      " 69%|██████▉   | 6903/10000 [07:10<02:51, 18.09it/s]"
     ]
    },
    {
     "name": "stdout",
     "output_type": "stream",
     "text": [
      "6900 mean_score : -4.437279541761868, mean_step : 999.0, epsilon : 0.01\n"
     ]
    },
    {
     "name": "stderr",
     "output_type": "stream",
     "text": [
      " 70%|███████   | 7003/10000 [07:16<02:59, 16.71it/s]"
     ]
    },
    {
     "name": "stdout",
     "output_type": "stream",
     "text": [
      "7000 mean_score : -4.402079540724743, mean_step : 999.0, epsilon : 0.01\n"
     ]
    },
    {
     "name": "stderr",
     "output_type": "stream",
     "text": [
      " 71%|███████   | 7104/10000 [07:22<02:44, 17.58it/s]"
     ]
    },
    {
     "name": "stdout",
     "output_type": "stream",
     "text": [
      "7100 mean_score : -4.439199542737001, mean_step : 999.0, epsilon : 0.01\n"
     ]
    },
    {
     "name": "stderr",
     "output_type": "stream",
     "text": [
      " 72%|███████▏  | 7201/10000 [07:28<03:00, 15.47it/s]"
     ]
    },
    {
     "name": "stdout",
     "output_type": "stream",
     "text": [
      "7200 mean_score : -4.45199954246282, mean_step : 999.0, epsilon : 0.01\n"
     ]
    },
    {
     "name": "stderr",
     "output_type": "stream",
     "text": [
      " 73%|███████▎  | 7303/10000 [07:34<02:55, 15.41it/s]"
     ]
    },
    {
     "name": "stdout",
     "output_type": "stream",
     "text": [
      "7300 mean_score : -4.407519540874948, mean_step : 999.0, epsilon : 0.01\n"
     ]
    },
    {
     "name": "stderr",
     "output_type": "stream",
     "text": [
      " 74%|███████▍  | 7406/10000 [07:41<02:45, 15.68it/s]"
     ]
    },
    {
     "name": "stdout",
     "output_type": "stream",
     "text": [
      "7400 mean_score : -4.404959541645041, mean_step : 999.0, epsilon : 0.01\n"
     ]
    },
    {
     "name": "stderr",
     "output_type": "stream",
     "text": [
      " 75%|███████▌  | 7503/10000 [07:47<02:37, 15.90it/s]"
     ]
    },
    {
     "name": "stdout",
     "output_type": "stream",
     "text": [
      "7500 mean_score : -4.41391954087495, mean_step : 999.0, epsilon : 0.01\n"
     ]
    },
    {
     "name": "stderr",
     "output_type": "stream",
     "text": [
      " 76%|███████▌  | 7604/10000 [07:53<02:35, 15.46it/s]"
     ]
    },
    {
     "name": "stdout",
     "output_type": "stream",
     "text": [
      "7600 mean_score : -4.388639541146745, mean_step : 999.0, epsilon : 0.01\n"
     ]
    },
    {
     "name": "stderr",
     "output_type": "stream",
     "text": [
      " 77%|███████▋  | 7704/10000 [07:59<02:28, 15.48it/s]"
     ]
    },
    {
     "name": "stdout",
     "output_type": "stream",
     "text": [
      "7700 mean_score : -4.42095954084634, mean_step : 999.0, epsilon : 0.01\n"
     ]
    },
    {
     "name": "stderr",
     "output_type": "stream",
     "text": [
      " 78%|███████▊  | 7804/10000 [08:06<02:20, 15.63it/s]"
     ]
    },
    {
     "name": "stdout",
     "output_type": "stream",
     "text": [
      "7800 mean_score : -4.433759543123237, mean_step : 999.0, epsilon : 0.01\n"
     ]
    },
    {
     "name": "stderr",
     "output_type": "stream",
     "text": [
      " 79%|███████▉  | 7903/10000 [08:12<02:04, 16.81it/s]"
     ]
    },
    {
     "name": "stdout",
     "output_type": "stream",
     "text": [
      "7900 mean_score : -4.427999542224399, mean_step : 999.0, epsilon : 0.01\n"
     ]
    },
    {
     "name": "stderr",
     "output_type": "stream",
     "text": [
      " 80%|████████  | 8003/10000 [08:18<02:10, 15.31it/s]"
     ]
    },
    {
     "name": "stdout",
     "output_type": "stream",
     "text": [
      "8000 mean_score : -4.4449595437908105, mean_step : 999.0, epsilon : 0.01\n"
     ]
    },
    {
     "name": "stderr",
     "output_type": "stream",
     "text": [
      " 81%|████████  | 8103/10000 [08:24<01:54, 16.56it/s]"
     ]
    },
    {
     "name": "stdout",
     "output_type": "stream",
     "text": [
      "8100 mean_score : -4.424799541997902, mean_step : 999.0, epsilon : 0.01\n"
     ]
    },
    {
     "name": "stderr",
     "output_type": "stream",
     "text": [
      " 82%|████████▏ | 8206/10000 [08:31<01:56, 15.36it/s]"
     ]
    },
    {
     "name": "stdout",
     "output_type": "stream",
     "text": [
      "8200 mean_score : -4.4004795413207916, mean_step : 999.0, epsilon : 0.01\n"
     ]
    },
    {
     "name": "stderr",
     "output_type": "stream",
     "text": [
      " 83%|████████▎ | 8302/10000 [08:37<01:46, 15.91it/s]"
     ]
    },
    {
     "name": "stdout",
     "output_type": "stream",
     "text": [
      "8300 mean_score : -4.415199542689313, mean_step : 999.0, epsilon : 0.01\n"
     ]
    },
    {
     "name": "stderr",
     "output_type": "stream",
     "text": [
      " 84%|████████▍ | 8404/10000 [08:43<01:41, 15.65it/s]"
     ]
    },
    {
     "name": "stdout",
     "output_type": "stream",
     "text": [
      "8400 mean_score : -4.4081595413708605, mean_step : 999.0, epsilon : 0.01\n"
     ]
    },
    {
     "name": "stderr",
     "output_type": "stream",
     "text": [
      " 85%|████████▌ | 8506/10000 [08:50<01:37, 15.27it/s]"
     ]
    },
    {
     "name": "stdout",
     "output_type": "stream",
     "text": [
      "8500 mean_score : -4.449759543528551, mean_step : 999.0, epsilon : 0.01\n"
     ]
    },
    {
     "name": "stderr",
     "output_type": "stream",
     "text": [
      " 86%|████████▌ | 8604/10000 [08:56<01:29, 15.58it/s]"
     ]
    },
    {
     "name": "stdout",
     "output_type": "stream",
     "text": [
      "8600 mean_score : -4.439519542186253, mean_step : 999.0, epsilon : 0.01\n"
     ]
    },
    {
     "name": "stderr",
     "output_type": "stream",
     "text": [
      " 87%|████████▋ | 8704/10000 [09:02<01:20, 16.07it/s]"
     ]
    },
    {
     "name": "stdout",
     "output_type": "stream",
     "text": [
      "8700 mean_score : -4.3979195418643835, mean_step : 999.0, epsilon : 0.01\n"
     ]
    },
    {
     "name": "stderr",
     "output_type": "stream",
     "text": [
      " 88%|████████▊ | 8803/10000 [09:08<01:18, 15.29it/s]"
     ]
    },
    {
     "name": "stdout",
     "output_type": "stream",
     "text": [
      "8800 mean_score : -4.431199543213838, mean_step : 999.0, epsilon : 0.01\n"
     ]
    },
    {
     "name": "stderr",
     "output_type": "stream",
     "text": [
      " 89%|████████▉ | 8902/10000 [09:15<01:10, 15.51it/s]"
     ]
    },
    {
     "name": "stdout",
     "output_type": "stream",
     "text": [
      "8900 mean_score : -4.440159543409342, mean_step : 999.0, epsilon : 0.01\n"
     ]
    },
    {
     "name": "stderr",
     "output_type": "stream",
     "text": [
      " 90%|█████████ | 9002/10000 [09:21<01:00, 16.45it/s]"
     ]
    },
    {
     "name": "stdout",
     "output_type": "stream",
     "text": [
      "9000 mean_score : -4.415519543342581, mean_step : 999.0, epsilon : 0.01\n"
     ]
    },
    {
     "name": "stderr",
     "output_type": "stream",
     "text": [
      " 91%|█████████ | 9104/10000 [09:27<00:59, 15.14it/s]"
     ]
    },
    {
     "name": "stdout",
     "output_type": "stream",
     "text": [
      "9100 mean_score : -4.412639540884485, mean_step : 999.0, epsilon : 0.01\n"
     ]
    },
    {
     "name": "stderr",
     "output_type": "stream",
     "text": [
      " 92%|█████████▏| 9204/10000 [09:34<00:50, 15.73it/s]"
     ]
    },
    {
     "name": "stdout",
     "output_type": "stream",
     "text": [
      "9200 mean_score : -4.421599542081347, mean_step : 999.0, epsilon : 0.01\n"
     ]
    },
    {
     "name": "stderr",
     "output_type": "stream",
     "text": [
      " 93%|█████████▎| 9306/10000 [09:40<00:43, 15.93it/s]"
     ]
    },
    {
     "name": "stdout",
     "output_type": "stream",
     "text": [
      "9300 mean_score : -4.421919542841903, mean_step : 999.0, epsilon : 0.01\n"
     ]
    },
    {
     "name": "stderr",
     "output_type": "stream",
     "text": [
      " 94%|█████████▍| 9403/10000 [09:46<00:37, 16.13it/s]"
     ]
    },
    {
     "name": "stdout",
     "output_type": "stream",
     "text": [
      "9400 mean_score : -4.421919543223372, mean_step : 999.0, epsilon : 0.01\n"
     ]
    },
    {
     "name": "stderr",
     "output_type": "stream",
     "text": [
      " 95%|█████████▌| 9504/10000 [09:52<00:30, 16.15it/s]"
     ]
    },
    {
     "name": "stdout",
     "output_type": "stream",
     "text": [
      "9500 mean_score : -4.416799542582026, mean_step : 999.0, epsilon : 0.01\n"
     ]
    },
    {
     "name": "stderr",
     "output_type": "stream",
     "text": [
      " 96%|█████████▌| 9603/10000 [09:58<00:25, 15.79it/s]"
     ]
    },
    {
     "name": "stdout",
     "output_type": "stream",
     "text": [
      "9600 mean_score : -4.415519542031279, mean_step : 999.0, epsilon : 0.01\n"
     ]
    },
    {
     "name": "stderr",
     "output_type": "stream",
     "text": [
      " 97%|█████████▋| 9703/10000 [10:04<00:18, 15.77it/s]"
     ]
    },
    {
     "name": "stdout",
     "output_type": "stream",
     "text": [
      "9700 mean_score : -4.395679541428078, mean_step : 999.0, epsilon : 0.01\n"
     ]
    },
    {
     "name": "stderr",
     "output_type": "stream",
     "text": [
      " 98%|█████████▊| 9803/10000 [10:11<00:12, 15.61it/s]"
     ]
    },
    {
     "name": "stdout",
     "output_type": "stream",
     "text": [
      "9800 mean_score : -4.410079542465201, mean_step : 999.0, epsilon : 0.01\n"
     ]
    },
    {
     "name": "stderr",
     "output_type": "stream",
     "text": [
      " 99%|█████████▉| 9904/10000 [10:17<00:05, 16.94it/s]"
     ]
    },
    {
     "name": "stdout",
     "output_type": "stream",
     "text": [
      "9900 mean_score : -4.450399543654911, mean_step : 999.0, epsilon : 0.01\n"
     ]
    },
    {
     "name": "stderr",
     "output_type": "stream",
     "text": [
      "100%|██████████| 10000/10000 [10:23<00:00, 16.05it/s]\n"
     ]
    }
   ],
   "source": [
    "from tqdm import tqdm\n",
    "\n",
    "max_episodes = 10000 \n",
    "\n",
    "scores = [] \n",
    "steps = [] \n",
    "select_actions = [] \n",
    "\n",
    "learning_rate = 0.05 \n",
    "gamma = 0.99\n",
    "epsilon = 1.0 \n",
    "epsilon_min = 0.01 \n",
    "\n",
    "for i in tqdm(range(max_episodes)):\n",
    "    epsilon *= 0.9 \n",
    "    # 입실론 값보다 난수가 작을 때 랜덤한 값, 아니면 입실론 \n",
    "    epsilon = max(epsilon_min, epsilon)\n",
    "\n",
    "    # print(i) \n",
    "\n",
    "    if i % 100 == 0 and i != 0: \n",
    "        print(i, 'mean_score : {}, mean_step : {}, epsilon : {}'.format(np.mean(scores[-100:]), np.mean(steps[-100:]), epsilon))\n",
    "\n",
    "    previous_obs = env.reset() \n",
    "    score = 0 \n",
    "    step = 0 \n",
    "\n",
    "    while True: \n",
    "        state_idx = obs_to_state(env, previous_obs) \n",
    "\n",
    "        if random.random() < epsilon:\n",
    "            # print(1) \n",
    "            action_idx = random.randint(0, action_grid_count-1)\n",
    "            # print(action_idx)\n",
    "            action = actions[action_idx]\n",
    "\n",
    "        else:\n",
    "            # print(2)\n",
    "            logits = q_table[state_idx[0]][state_idx[1]]\n",
    "            action_idx = np.argmax(softmax(logits))\n",
    "            action = actions[action_idx]\n",
    "\n",
    "        # print(\"action : {}, type: {}\".format(action, action.dtype))\n",
    "        # action = 3.1\n",
    "        # action = action.astype(float)\n",
    "        # action = np.asscalar(action)\n",
    "        # action = int(action)\n",
    "\n",
    "        obs, reward, done, _ = env.step([action]) \n",
    "        previous_obs = obs\n",
    "        score += reward \n",
    "        reward -= 0.05 \n",
    "        step += 1\n",
    "\n",
    "        select_actions.append(action) \n",
    "        new_state_idx = obs_to_state(env, obs) \n",
    "\n",
    "        q_table[state_idx[0]][state_idx[1]][action_idx] = learning_rate * \\\n",
    "            (reward + gamma * np.amax(q_table[new_state_idx[0]][new_state_idx[1]]) - q_table[state_idx[0]][state_idx[1]][action_idx])\n",
    "\n",
    "        if done:\n",
    "            break \n",
    "\n",
    "\n",
    "    scores.append(score)\n",
    "    steps.append(step) \n",
    "\n",
    "    if np.mean(scores[-100:]) >= 90:\n",
    "        print('Solved on epsilon {}!'.format(i))\n",
    "        break "
   ]
  }
 ],
 "metadata": {
  "interpreter": {
   "hash": "ddde1e1c6000e1d3034bec6257a8f68bed92c50866ae12a8382b98f1add9b5c2"
  },
  "kernelspec": {
   "display_name": "Python 3.9.5 64-bit",
   "name": "python3"
  },
  "language_info": {
   "codemirror_mode": {
    "name": "ipython",
    "version": 3
   },
   "file_extension": ".py",
   "mimetype": "text/x-python",
   "name": "python",
   "nbconvert_exporter": "python",
   "pygments_lexer": "ipython3",
   "version": "3.9.5"
  },
  "orig_nbformat": 4
 },
 "nbformat": 4,
 "nbformat_minor": 2
}
