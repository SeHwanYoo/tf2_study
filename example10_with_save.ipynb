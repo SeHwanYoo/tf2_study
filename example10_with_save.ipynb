{
 "cells": [
  {
   "cell_type": "code",
   "execution_count": 18,
   "metadata": {},
   "outputs": [],
   "source": [
    "import gym \n",
    "import random \n",
    "import numpy as np\n",
    "import tensorflow as tf\n",
    "\n",
    "env = gym.make('MountainCar-v0')"
   ]
  },
  {
   "cell_type": "code",
   "execution_count": 8,
   "metadata": {},
   "outputs": [
    {
     "name": "stdout",
     "output_type": "stream",
     "text": [
      "0\n",
      "100\n",
      "200\n",
      "300\n",
      "400\n",
      "500\n",
      "600\n",
      "700\n",
      "800\n",
      "900\n",
      "1000\n",
      "1100\n",
      "1200\n",
      "1300\n",
      "1400\n",
      "1500\n",
      "1600\n",
      "1700\n",
      "1800\n",
      "1900\n",
      "2000\n",
      "2100\n",
      "2200\n",
      "2300\n",
      "2400\n",
      "2500\n",
      "2600\n",
      "2700\n",
      "2800\n",
      "2900\n",
      "3000\n",
      "3100\n",
      "3200\n",
      "3300\n",
      "3400\n",
      "3500\n",
      "3600\n",
      "3700\n",
      "3800\n",
      "3900\n",
      "4000\n",
      "4100\n",
      "4200\n",
      "4300\n",
      "4400\n",
      "4500\n",
      "4600\n",
      "4700\n",
      "4800\n",
      "4900\n",
      "5000\n",
      "5100\n",
      "5200\n",
      "5300\n",
      "5400\n",
      "5500\n",
      "5600\n",
      "5700\n",
      "5800\n",
      "5900\n",
      "6000\n",
      "6100\n",
      "6200\n",
      "6300\n",
      "6400\n",
      "6500\n",
      "6600\n",
      "6700\n",
      "6800\n",
      "6900\n",
      "7000\n",
      "7100\n",
      "7200\n",
      "7300\n",
      "7400\n",
      "7500\n",
      "7600\n",
      "7700\n",
      "7800\n",
      "7900\n",
      "8000\n",
      "8100\n",
      "8200\n",
      "8300\n",
      "8400\n",
      "8500\n",
      "8600\n",
      "8700\n",
      "8800\n",
      "8900\n",
      "9000\n",
      "9100\n",
      "9200\n",
      "9300\n",
      "9400\n",
      "9500\n",
      "9600\n",
      "9700\n",
      "9800\n",
      "9900\n",
      "score mean : -199.909\n",
      "accepted_score : [-186.0, -186.0, -182.0, -168.0, -196.0, -180.0, -166.0, -196.0, -174.0, -192.0, -184.0, -180.0, -188.0, -168.0, -178.0, -170.0, -178.0, -180.0, -166.0, -172.0, -178.0, -178.0, -194.0, -190.0, -178.0, -174.0, -174.0, -186.0, -188.0, -180.0, -172.0, -180.0, -166.0, -174.0, -176.0, -172.0, -170.0, -168.0, -186.0, -178.0, -188.0, -192.0, -196.0, -180.0, -188.0]\n"
     ]
    }
   ],
   "source": [
    "scores = [] \n",
    "accepted_score = [] \n",
    "required_score = -198 \n",
    "\n",
    "training_data =[] \n",
    "\n",
    "for i in range(10000): \n",
    "    if i % 100 == 0:\n",
    "        print(i) \n",
    "\n",
    "    score = 0 \n",
    "    env.reset() \n",
    "\n",
    "    # 입출력 데이터 저장 (모든 게임) \n",
    "    game_memory = []\n",
    "    # 이전 상태 저장\n",
    "    previous_obs = [] \n",
    "\n",
    "    while True: \n",
    "        action = env.action_space.sample()\n",
    "        obs, reward, done, _ = env.step(action) \n",
    "\n",
    "        # env.render()\n",
    "\n",
    "        if len(previous_obs) > 0:\n",
    "            game_memory.append([previous_obs, action])\n",
    "\n",
    "        previous_obs = obs\n",
    "\n",
    "        if obs[0] > -0.2:\n",
    "            reward = 1\n",
    "\n",
    "        score += reward\n",
    "        # step += 1\n",
    "\n",
    "        if done:\n",
    "            break \n",
    "\n",
    "    scores.append(score)\n",
    "\n",
    "    if score > required_score:\n",
    "        accepted_score.append(score) \n",
    "\n",
    "        for data in game_memory:\n",
    "            training_data.append(data) \n",
    "\n",
    "# env.env.close()\n",
    "\n",
    "scores = np.array(scores)\n",
    "print(f\"score mean : {scores.mean()}\")\n",
    "print(f\"accepted_score : {accepted_score}\")\n",
    "\n"
   ]
  },
  {
   "cell_type": "code",
   "execution_count": 9,
   "metadata": {},
   "outputs": [
    {
     "data": {
      "text/plain": [
       "<seaborn.axisgrid.FacetGrid at 0x176e03362b0>"
      ]
     },
     "execution_count": 9,
     "metadata": {},
     "output_type": "execute_result"
    },
    {
     "data": {
      "image/png": "[encoded data removed]",
      "text/plain": [
       "<Figure size 360x360 with 1 Axes>"
      ]
     },
     "metadata": {
      "needs_background": "light"
     },
     "output_type": "display_data"
    }
   ],
   "source": [
    "import seaborn as sns\n",
    "\n",
    "sns.displot(scores, rug=True)"
   ]
  },
  {
   "cell_type": "code",
   "execution_count": 10,
   "metadata": {},
   "outputs": [
    {
     "data": {
      "text/plain": [
       "[[array([-0.40593302, -0.0008704 ], dtype=float32), 1],\n",
       " [array([-0.40766773, -0.00173468], dtype=float32), 2],\n",
       " [array([-0.40925446, -0.00158674], dtype=float32), 0],\n",
       " [array([-0.41268206, -0.0034276 ], dtype=float32), 0],\n",
       " [array([-0.41792628, -0.00524421], dtype=float32), 0]]"
      ]
     },
     "execution_count": 10,
     "metadata": {},
     "output_type": "execute_result"
    }
   ],
   "source": [
    "training_data[:5]"
   ]
  },
  {
   "cell_type": "code",
   "execution_count": 17,
   "metadata": {},
   "outputs": [
    {
     "name": "stdout",
     "output_type": "stream",
     "text": [
      "Before shape : (8955, 2)\n",
      "After shape : (8955, 2)\n",
      "Before shape : (8955,)\n",
      "After shape : (8955, 1)\n"
     ]
    }
   ],
   "source": [
    "train_x = np.array([i[0] for i in training_data])\n",
    "print(f\"Before shape : {train_x.shape}\")\n",
    "train_x = train_x.reshape(-1, 2)\n",
    "print(f\"After shape : {train_x.shape}\")\n",
    "\n",
    "train_y = np.array([i[1] for i in training_data])\n",
    "print(f\"Before shape : {train_y.shape}\")\n",
    "train_y = train_y.reshape(-1, 1)\n",
    "print(f\"After shape : {train_y.shape}\")\n"
   ]
  },
  {
   "cell_type": "code",
   "execution_count": 22,
   "metadata": {},
   "outputs": [],
   "source": [
    "\n",
    "model = tf.keras.Sequential([\n",
    "    tf.keras.layers.Dense(128, input_shape=[2, ], activation='relu'), \n",
    "    tf.keras.layers.Dense(32, activation='relu'), \n",
    "    tf.keras.layers.Dense(3, activation='relu'), \n",
    "])\n",
    "\n",
    "model.compile(optimizer=tf.optimizers.Adam()\n",
    "            , loss='sparse_categorical_crossentropy'\n",
    "            , metrics=['accuracy'])\n",
    "\n",
    "\n"
   ]
  },
  {
   "cell_type": "code",
   "execution_count": 23,
   "metadata": {},
   "outputs": [
    {
     "name": "stdout",
     "output_type": "stream",
     "text": [
      "Epoch 1/30\n",
      "420/420 [==============================] - 3s 4ms/step - loss: 1.1000 - accuracy: 0.3480 - val_loss: 1.0988 - val_accuracy: 0.3394\n",
      "Epoch 2/30\n",
      "420/420 [==============================] - 1s 3ms/step - loss: 1.0956 - accuracy: 0.3571 - val_loss: 1.0951 - val_accuracy: 0.3435\n",
      "Epoch 3/30\n",
      "420/420 [==============================] - 1s 3ms/step - loss: 1.0928 - accuracy: 0.3718 - val_loss: 1.0923 - val_accuracy: 0.3765\n",
      "Epoch 4/30\n",
      "420/420 [==============================] - 1s 3ms/step - loss: 1.0926 - accuracy: 0.3712 - val_loss: 1.0916 - val_accuracy: 0.3649\n",
      "Epoch 5/30\n",
      "420/420 [==============================] - 1s 3ms/step - loss: 1.0901 - accuracy: 0.3833 - val_loss: 1.0909 - val_accuracy: 0.3694\n",
      "Epoch 6/30\n",
      "420/420 [==============================] - 1s 3ms/step - loss: 1.0886 - accuracy: 0.3836 - val_loss: 1.0905 - val_accuracy: 0.3778\n",
      "Epoch 7/30\n",
      "420/420 [==============================] - 1s 3ms/step - loss: 1.0881 - accuracy: 0.3798 - val_loss: 1.1007 - val_accuracy: 0.3488\n",
      "Epoch 8/30\n",
      "420/420 [==============================] - 1s 3ms/step - loss: 1.0885 - accuracy: 0.3955 - val_loss: 1.0876 - val_accuracy: 0.3935\n",
      "Epoch 9/30\n",
      "420/420 [==============================] - 1s 3ms/step - loss: 1.0881 - accuracy: 0.3891 - val_loss: 1.0875 - val_accuracy: 0.4002\n",
      "Epoch 10/30\n",
      "420/420 [==============================] - 1s 3ms/step - loss: 1.0881 - accuracy: 0.3886 - val_loss: 1.0877 - val_accuracy: 0.4006\n",
      "Epoch 11/30\n",
      "420/420 [==============================] - 1s 3ms/step - loss: 1.0870 - accuracy: 0.3971 - val_loss: 1.0878 - val_accuracy: 0.3845\n",
      "Epoch 12/30\n",
      "420/420 [==============================] - 1s 3ms/step - loss: 1.0867 - accuracy: 0.3976 - val_loss: 1.0902 - val_accuracy: 0.3837\n",
      "Epoch 13/30\n",
      "420/420 [==============================] - 1s 3ms/step - loss: 1.0873 - accuracy: 0.3955 - val_loss: 1.0878 - val_accuracy: 0.3904\n",
      "Epoch 14/30\n",
      "420/420 [==============================] - 1s 3ms/step - loss: 1.0866 - accuracy: 0.3937 - val_loss: 1.0857 - val_accuracy: 0.3997\n",
      "Epoch 15/30\n",
      "420/420 [==============================] - 1s 3ms/step - loss: 1.0867 - accuracy: 0.3956 - val_loss: 1.0863 - val_accuracy: 0.3975\n",
      "Epoch 16/30\n",
      "420/420 [==============================] - 1s 3ms/step - loss: 1.0859 - accuracy: 0.3952 - val_loss: 1.0853 - val_accuracy: 0.3979\n",
      "Epoch 17/30\n",
      "420/420 [==============================] - 1s 3ms/step - loss: 1.0859 - accuracy: 0.3999 - val_loss: 1.0858 - val_accuracy: 0.4011\n",
      "Epoch 18/30\n",
      "420/420 [==============================] - 1s 3ms/step - loss: 1.0860 - accuracy: 0.3912 - val_loss: 1.0858 - val_accuracy: 0.3979\n",
      "Epoch 19/30\n",
      "420/420 [==============================] - 1s 3ms/step - loss: 1.0858 - accuracy: 0.3980 - val_loss: 1.0875 - val_accuracy: 0.3805\n",
      "Epoch 20/30\n",
      "420/420 [==============================] - 1s 3ms/step - loss: 1.0861 - accuracy: 0.3952 - val_loss: 1.0843 - val_accuracy: 0.3953\n",
      "Epoch 21/30\n",
      "420/420 [==============================] - 1s 3ms/step - loss: 1.0848 - accuracy: 0.4011 - val_loss: 1.0832 - val_accuracy: 0.3962\n",
      "Epoch 22/30\n",
      "420/420 [==============================] - 1s 3ms/step - loss: 1.0845 - accuracy: 0.3996 - val_loss: 1.0841 - val_accuracy: 0.4024\n",
      "Epoch 23/30\n",
      "420/420 [==============================] - 1s 3ms/step - loss: 1.0844 - accuracy: 0.3974 - val_loss: 1.0835 - val_accuracy: 0.4015\n",
      "Epoch 24/30\n",
      "420/420 [==============================] - 1s 3ms/step - loss: 1.0842 - accuracy: 0.4028 - val_loss: 1.0861 - val_accuracy: 0.3895\n",
      "Epoch 25/30\n",
      "420/420 [==============================] - 1s 3ms/step - loss: 1.0838 - accuracy: 0.3985 - val_loss: 1.0833 - val_accuracy: 0.3971\n",
      "Epoch 26/30\n",
      "420/420 [==============================] - 1s 3ms/step - loss: 1.0834 - accuracy: 0.4025 - val_loss: 1.0837 - val_accuracy: 0.4015\n",
      "Epoch 27/30\n",
      "420/420 [==============================] - 1s 3ms/step - loss: 1.0834 - accuracy: 0.3995 - val_loss: 1.0856 - val_accuracy: 0.3921\n",
      "Epoch 28/30\n",
      "420/420 [==============================] - 1s 3ms/step - loss: 1.0838 - accuracy: 0.3993 - val_loss: 1.0835 - val_accuracy: 0.4020\n",
      "Epoch 29/30\n",
      "420/420 [==============================] - 1s 3ms/step - loss: 1.0836 - accuracy: 0.3996 - val_loss: 1.0844 - val_accuracy: 0.4015\n",
      "Epoch 30/30\n",
      "420/420 [==============================] - 1s 3ms/step - loss: 1.0825 - accuracy: 0.4069 - val_loss: 1.0842 - val_accuracy: 0.3997\n"
     ]
    }
   ],
   "source": [
    "hist = model.fit(train_x, train_y, epochs=30, batch_size=16, validation_split=0.25)"
   ]
  },
  {
   "cell_type": "code",
   "execution_count": 25,
   "metadata": {},
   "outputs": [
    {
     "data": {
      "image/png": "[encoded data removed]",
      "text/plain": [
       "<Figure size 432x288 with 1 Axes>"
      ]
     },
     "metadata": {
      "needs_background": "light"
     },
     "output_type": "display_data"
    }
   ],
   "source": [
    "import matplotlib.pyplot as plt \n",
    "\n",
    "plt.plot(hist.history['accuracy'], 'b-', label='accuracy')\n",
    "plt.plot(hist.history['val_accuracy'], 'k--', label='val_accuracy')\n",
    "plt.legend() \n",
    "plt.show()"
   ]
  },
  {
   "cell_type": "code",
   "execution_count": null,
   "metadata": {},
   "outputs": [
    {
     "ename": "Error",
     "evalue": "Session cannot generate requests",
     "output_type": "error",
     "traceback": [
      "Error: Session cannot generate requests",
      "at S.executeCodeCell (c:\\Users\\krsty\\.vscode\\extensions\\ms-toolsai.jupyter-2021.10.1101450599\\out\\client\\extension.js:66:301742)",
      "at S.execute (c:\\Users\\krsty\\.vscode\\extensions\\ms-toolsai.jupyter-2021.10.1101450599\\out\\client\\extension.js:66:300732)",
      "at S.start (c:\\Users\\krsty\\.vscode\\extensions\\ms-toolsai.jupyter-2021.10.1101450599\\out\\client\\extension.js:66:296408)",
      "at runMicrotasks (<anonymous>)",
      "at processTicksAndRejections (internal/process/task_queues.js:93:5)",
      "at async t.CellExecutionQueue.executeQueuedCells (c:\\Users\\krsty\\.vscode\\extensions\\ms-toolsai.jupyter-2021.10.1101450599\\out\\client\\extension.js:66:312326)",
      "at async t.CellExecutionQueue.start (c:\\Users\\krsty\\.vscode\\extensions\\ms-toolsai.jupyter-2021.10.1101450599\\out\\client\\extension.js:66:311862)"
     ]
    }
   ],
   "source": [
    "\n",
    "# env = wrap_env(gym.make('MountainCar-v0')) \n",
    "env = gym.make('MountainCar-v0')\n",
    "env.reset() \n",
    "\n",
    "score = 0 \n",
    "step = 0 \n",
    "previous_obs = [] \n",
    "\n",
    "while True: \n",
    "\n",
    "    print(1)\n",
    "\n",
    "    env.render()\n",
    "\n",
    "    if len(previous_obs) == 0:\n",
    "        action = env.action_space.sample() \n",
    "    else:\n",
    "        action = model.predict(np.expand_dims(previous_obs, axis=0))[0]\n",
    "        \n",
    "    obs, reward, done, _ = env.step(action) \n",
    "    previous_obs = obs\n",
    "    score += reward \n",
    "    step += 1\n",
    "\n",
    "    if done:\n",
    "        break \n",
    "\n",
    "\n",
    "print(f\"score : {score}\")\n",
    "print(f\"step : {step}\")\n",
    "\n",
    "env.env.close() \n"
   ]
  }
 ],
 "metadata": {
  "interpreter": {
   "hash": "2ad7f8df95050390ccef3c53b91cc5366ee05cbbc975f965dd0a4e5b2556ae66"
  },
  "kernelspec": {
   "display_name": "Python 3.9.6 64-bit",
   "language": "python",
   "name": "python3"
  },
  "language_info": {
   "codemirror_mode": {
    "name": "ipython",
    "version": 3
   },
   "file_extension": ".py",
   "mimetype": "text/x-python",
   "name": "python",
   "nbconvert_exporter": "python",
   "pygments_lexer": "ipython3",
   "version": "3.9.6"
  },
  "orig_nbformat": 4
 },
 "nbformat": 4,
 "nbformat_minor": 2
}
